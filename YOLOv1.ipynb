{
  "nbformat": 4,
  "nbformat_minor": 0,
  "metadata": {
    "colab": {
      "provenance": []
    },
    "kernelspec": {
      "name": "python3",
      "display_name": "Python 3"
    },
    "language_info": {
      "name": "python"
    },
    "accelerator": "GPU",
    "gpuClass": "standard"
  },
  "cells": [
    {
      "cell_type": "code",
      "execution_count": 1,
      "metadata": {
        "id": "bRRg83P3P4N3"
      },
      "outputs": [],
      "source": [
        "import torch\n",
        "import torch.nn as nn\n",
        "import os\n",
        "import pandas as pd\n",
        "from PIL import Image\n",
        "import torchvision.transforms as transforms\n",
        "import torch.optim as optim\n",
        "import torchvision.transforms.functional as FT\n",
        "from tqdm import tqdm\n",
        "import random\n",
        "from torch.utils.data import DataLoader\n",
        "from collections import Counter\n",
        "import matplotlib.patches as patches\n",
        "import numpy as np\n",
        "import matplotlib.pyplot as plt\n",
        "import copy\n",
        "import seaborn as sns"
      ]
    },
    {
      "cell_type": "markdown",
      "metadata": {
        "id": "ZnYgXK_9QmCf"
      },
      "source": [
        "#Architecture"
      ]
    },
    {
      "cell_type": "code",
      "execution_count": null,
      "metadata": {
        "id": "z-d3yBZxQC04"
      },
      "outputs": [],
      "source": [
        "architecture_config = [\n",
        "    (7, 64, 2, 3),\n",
        "    \"M\",\n",
        "    (3, 192, 1, 1),\n",
        "    \"M\",\n",
        "    (1, 128, 1, 0),\n",
        "    (3, 256, 1, 1),\n",
        "    (1, 256, 1, 0),\n",
        "    (3, 512, 1, 1),\n",
        "    \"M\",\n",
        "    [(1, 256, 1, 0), (3, 512, 1, 1), 4],\n",
        "    (1, 512, 1, 0),\n",
        "    (3, 1024, 1, 1),\n",
        "    \"M\",\n",
        "    [(1, 512, 1, 0), (3, 1024, 1, 1), 2],\n",
        "    (3, 1024, 1, 1),\n",
        "    (3, 1024, 2, 1),\n",
        "    (3, 1024, 1, 1),\n",
        "    (3, 1024, 1, 1),\n",
        "]"
      ]
    },
    {
      "cell_type": "code",
      "execution_count": null,
      "metadata": {
        "id": "j8XfzXBXQFnx"
      },
      "outputs": [],
      "source": [
        "class CNNBlock(nn.Module):\n",
        "    def __init__(self, in_channels, out_channels, **kwargs):\n",
        "        super(CNNBlock, self).__init__()\n",
        "        self.conv = nn.Conv2d(in_channels, out_channels, bias=False, **kwargs)\n",
        "        self.batchnorm = nn.BatchNorm2d(out_channels)\n",
        "        self.leakyrelu = nn.LeakyReLU(0.1)\n",
        "\n",
        "    def forward(self, x):\n",
        "        return self.leakyrelu(self.batchnorm(self.conv(x)))"
      ]
    },
    {
      "cell_type": "code",
      "execution_count": null,
      "metadata": {
        "id": "faY01b5cQNky"
      },
      "outputs": [],
      "source": [
        "class Yolov1(nn.Module):\n",
        "    def __init__(self, in_channels=3, **kwargs):\n",
        "        super(Yolov1, self).__init__()\n",
        "        self.architecture = architecture_config\n",
        "        self.in_channels = in_channels\n",
        "        self.darknet = self._create_conv_layers(self.architecture)\n",
        "        self.fcs = self._create_fcs(**kwargs)\n",
        "\n",
        "    def forward(self, x):\n",
        "        x = self.darknet(x)\n",
        "        return self.fcs(torch.flatten(x, start_dim=1))\n",
        "\n",
        "    def _create_fcs(self, split_size, num_boxes, num_classes):\n",
        "        S, B, C = split_size, num_boxes, num_classes\n",
        "\n",
        "        # In original paper this should be\n",
        "        # nn.Linear(1024*S*S, 4096),\n",
        "        # nn.LeakyReLU(0.1),\n",
        "        # nn.Linear(4096, S*S*(B*5+C))\n",
        "\n",
        "        return nn.Sequential(\n",
        "            nn.Flatten(),\n",
        "            nn.Linear(1024 * 7 * 7, 496),\n",
        "            nn.Dropout(0.0),\n",
        "            nn.LeakyReLU(0.1),\n",
        "            nn.Linear(496, S * S * (C + B * 5)),\n",
        "        )\n",
        "\n",
        "    def _create_conv_layers(self, architecture):\n",
        "        layers = []\n",
        "        in_channels = self.in_channels\n",
        "\n",
        "        for x in architecture:\n",
        "            if type(x) == tuple:\n",
        "                layers += [\n",
        "                    CNNBlock(\n",
        "                        in_channels, x[1], kernel_size=x[0], stride=x[2], padding=x[3],\n",
        "                    )\n",
        "                ]\n",
        "                in_channels = x[1]\n",
        "\n",
        "            elif type(x) == str:\n",
        "                layers += [nn.MaxPool2d(kernel_size=(2, 2), stride=(2, 2))]\n",
        "\n",
        "            elif type(x) == list:\n",
        "                conv1 = x[0]\n",
        "                conv2 = x[1]\n",
        "                num_repeats = x[2]\n",
        "\n",
        "                for _ in range(num_repeats):\n",
        "                    layers += [\n",
        "                        CNNBlock(\n",
        "                            in_channels,\n",
        "                            conv1[1],\n",
        "                            kernel_size=conv1[0],\n",
        "                            stride=conv1[2],\n",
        "                            padding=conv1[3],\n",
        "                        )\n",
        "                    ]\n",
        "                    layers += [\n",
        "                        CNNBlock(\n",
        "                            conv1[1],\n",
        "                            conv2[1],\n",
        "                            kernel_size=conv2[0],\n",
        "                            stride=conv2[2],\n",
        "                            padding=conv2[3],\n",
        "                        )\n",
        "                    ]\n",
        "                    in_channels = conv2[1]\n",
        "\n",
        "        return nn.Sequential(*layers)"
      ]
    },
    {
      "cell_type": "markdown",
      "metadata": {
        "id": "F1Aqe7SpQssy"
      },
      "source": [
        "#Intersection over Union"
      ]
    },
    {
      "cell_type": "code",
      "execution_count": null,
      "metadata": {
        "id": "6J5LVxuFvGrc"
      },
      "outputs": [],
      "source": [
        "def intersection_over_union(boxes_preds, boxes_labels, box_format=\"midpoint\"):\n",
        "    \"\"\"\n",
        "    Calculates intersection over union\n",
        "    Parameters:\n",
        "        boxes_preds (tensor): Predictions of Bounding Boxes (BATCH_SIZE, 4)\n",
        "        boxes_labels (tensor): Correct labels of Bounding Boxes (BATCH_SIZE, 4)\n",
        "        box_format (str): midpoint/corners, if boxes (x,y,w,h) or (x1,y1,x2,y2)\n",
        "    Returns:\n",
        "        tensor: Intersection over union for all examples\n",
        "    \"\"\"\n",
        "\n",
        "    if box_format == \"midpoint\":\n",
        "        box1_x1 = boxes_preds[..., 0:1] - boxes_preds[..., 2:3] / 2\n",
        "        box1_y1 = boxes_preds[..., 1:2] - boxes_preds[..., 3:4] / 2\n",
        "        box1_x2 = boxes_preds[..., 0:1] + boxes_preds[..., 2:3] / 2\n",
        "        box1_y2 = boxes_preds[..., 1:2] + boxes_preds[..., 3:4] / 2\n",
        "        box2_x1 = boxes_labels[..., 0:1] - boxes_labels[..., 2:3] / 2\n",
        "        box2_y1 = boxes_labels[..., 1:2] - boxes_labels[..., 3:4] / 2\n",
        "        box2_x2 = boxes_labels[..., 0:1] + boxes_labels[..., 2:3] / 2\n",
        "        box2_y2 = boxes_labels[..., 1:2] + boxes_labels[..., 3:4] / 2\n",
        "\n",
        "    if box_format == \"corners\":\n",
        "        box1_x1 = boxes_preds[..., 0:1]\n",
        "        box1_y1 = boxes_preds[..., 1:2]\n",
        "        box1_x2 = boxes_preds[..., 2:3]\n",
        "        box1_y2 = boxes_preds[..., 3:4]  # (N, 1)\n",
        "        box2_x1 = boxes_labels[..., 0:1]\n",
        "        box2_y1 = boxes_labels[..., 1:2]\n",
        "        box2_x2 = boxes_labels[..., 2:3]\n",
        "        box2_y2 = boxes_labels[..., 3:4]\n",
        "\n",
        "    x1 = torch.max(box1_x1, box2_x1)\n",
        "    y1 = torch.max(box1_y1, box2_y1)\n",
        "    x2 = torch.min(box1_x2, box2_x2)\n",
        "    y2 = torch.min(box1_y2, box2_y2)\n",
        "\n",
        "    # .clamp(0) is for the case when they do not intersect\n",
        "    intersection = (x2 - x1).clamp(0) * (y2 - y1).clamp(0)\n",
        "\n",
        "    box1_area = abs((box1_x2 - box1_x1) * (box1_y2 - box1_y1))\n",
        "    box2_area = abs((box2_x2 - box2_x1) * (box2_y2 - box2_y1))\n",
        "\n",
        "    # print(\"IOU:\",intersection / (box1_area + box2_area - intersection + 1e-6))\n",
        "\n",
        "    return intersection / (box1_area + box2_area - intersection + 1e-6)"
      ]
    },
    {
      "cell_type": "markdown",
      "metadata": {
        "id": "7jRgexcKxcZ-"
      },
      "source": [
        "#NMS Function"
      ]
    },
    {
      "cell_type": "code",
      "execution_count": null,
      "metadata": {
        "id": "mrfmqOTVxe_f"
      },
      "outputs": [],
      "source": [
        "def non_max_suppression(bboxes, iou_threshold, threshold, box_format=\"corners\"):\n",
        "    \"\"\"\n",
        "    Does Non Max Suppression given bboxes\n",
        "    Parameters:\n",
        "        bboxes (list): list of lists containing all bboxes with each bboxes\n",
        "        specified as [class_pred, prob_score, x1, y1, x2, y2]\n",
        "        iou_threshold (float): threshold where predicted bboxes is correct\n",
        "        threshold (float): threshold to remove predicted bboxes (independent of IoU) \n",
        "        box_format (str): \"midpoint\" or \"corners\" used to specify bboxes\n",
        "    Returns:\n",
        "        list: bboxes after performing NMS given a specific IoU threshold\n",
        "    \"\"\"\n",
        "\n",
        "    assert type(bboxes) == list\n",
        "\n",
        "    bboxes = [box for box in bboxes if box[1] > threshold]\n",
        "    bboxes = sorted(bboxes, key=lambda x: x[1], reverse=True)\n",
        "    bboxes_after_nms = []\n",
        "\n",
        "    while bboxes:\n",
        "        chosen_box = bboxes.pop(0)\n",
        "\n",
        "        bboxes = [\n",
        "            box\n",
        "            for box in bboxes\n",
        "            if box[0] != chosen_box[0]\n",
        "            or intersection_over_union(\n",
        "                torch.tensor(chosen_box[2:]),\n",
        "                torch.tensor(box[2:]),\n",
        "                box_format=box_format,\n",
        "            )\n",
        "            < iou_threshold\n",
        "        ]\n",
        "\n",
        "        bboxes_after_nms.append(chosen_box)\n",
        "\n",
        "    return bboxes_after_nms"
      ]
    },
    {
      "cell_type": "markdown",
      "metadata": {
        "id": "5PtP4cnPQw7e"
      },
      "source": [
        "#LOSS Function"
      ]
    },
    {
      "cell_type": "code",
      "execution_count": null,
      "metadata": {
        "id": "H_74uUqfvmJQ"
      },
      "outputs": [],
      "source": [
        "class YoloLoss(nn.Module):\n",
        "    \"\"\"\n",
        "    Calculate the loss for yolo (v1) model\n",
        "    \"\"\"\n",
        "\n",
        "    def __init__(self, S=7, B=2, C=20):\n",
        "        super(YoloLoss, self).__init__()\n",
        "        self.mse = nn.MSELoss(reduction=\"sum\")\n",
        "\n",
        "        \"\"\"\n",
        "        S is split size of image (in paper 7),\n",
        "        B is number of boxes (in paper 2),\n",
        "        C is number of classes (in paper and VOC dataset is 20),\n",
        "        \"\"\"\n",
        "        self.S = S\n",
        "        self.B = B\n",
        "        self.C = C\n",
        "\n",
        "        # These are from Yolo paper, signifying how much we should\n",
        "        # pay loss for no object (noobj) and the box coordinates (coord)\n",
        "        self.lambda_noobj = 0.5\n",
        "        self.lambda_coord = 5\n",
        "\n",
        "    def forward(self, predictions, target):\n",
        "        # predictions are shaped (BATCH_SIZE, S*S(C+B*5) when inputted\n",
        "        predictions = predictions.reshape(-1, self.S, self.S, self.C + self.B * 5)\n",
        "\n",
        "        # Calculate IoU for the two predicted bounding boxes with target bbox\n",
        "        iou_b1 = intersection_over_union(predictions[..., 21:25], target[..., 21:25])\n",
        "        iou_b2 = intersection_over_union(predictions[..., 26:30], target[..., 21:25])\n",
        "        ious = torch.cat([iou_b1.unsqueeze(0), iou_b2.unsqueeze(0)], dim=0)\n",
        "\n",
        "        # Take the box with highest IoU out of the two prediction\n",
        "        # Note that bestbox will be indices of 0, 1 for which bbox was best\n",
        "        iou_maxes, bestbox = torch.max(ious, dim=0)\n",
        "        exists_box = target[..., 20].unsqueeze(3)  # in paper this is Iobj_i\n",
        "\n",
        "        # ======================== #\n",
        "        #   FOR BOX COORDINATES    #\n",
        "        # ======================== #\n",
        "\n",
        "        # Set boxes with no object in them to 0. We only take out one of the two \n",
        "        # predictions, which is the one with highest Iou calculated previously.\n",
        "        box_predictions = exists_box * (\n",
        "            (\n",
        "                bestbox * predictions[..., 26:30]\n",
        "                + (1 - bestbox) * predictions[..., 21:25]\n",
        "            )\n",
        "        )\n",
        "\n",
        "        box_targets = exists_box * target[..., 21:25]\n",
        "\n",
        "        # Take sqrt of width, height of boxes to ensure that\n",
        "        box_predictions[..., 2:4] = torch.sign(box_predictions[..., 2:4]) * torch.sqrt(\n",
        "            torch.abs(box_predictions[..., 2:4] + 1e-6)\n",
        "        )\n",
        "        box_targets[..., 2:4] = torch.sqrt(box_targets[..., 2:4])\n",
        "\n",
        "        box_loss = self.mse(\n",
        "            torch.flatten(box_predictions, end_dim=-2),\n",
        "            torch.flatten(box_targets, end_dim=-2),\n",
        "        )\n",
        "\n",
        "        # ==================== #\n",
        "        #   FOR OBJECT LOSS    #\n",
        "        # ==================== #\n",
        "\n",
        "        # pred_box is the confidence score for the bbox with highest IoU\n",
        "        pred_box = (\n",
        "            bestbox * predictions[..., 25:26] + (1 - bestbox) * predictions[..., 20:21]\n",
        "        )\n",
        "\n",
        "        object_loss = self.mse(\n",
        "            torch.flatten(exists_box * pred_box),\n",
        "            torch.flatten(exists_box * target[..., 20:21]),\n",
        "        )\n",
        "\n",
        "        # ======================= #\n",
        "        #   FOR NO OBJECT LOSS    #\n",
        "        # ======================= #\n",
        "\n",
        "        #max_no_obj = torch.max(predictions[..., 20:21], predictions[..., 25:26])\n",
        "        #no_object_loss = self.mse(\n",
        "        #    torch.flatten((1 - exists_box) * max_no_obj, start_dim=1),\n",
        "        #    torch.flatten((1 - exists_box) * target[..., 20:21], start_dim=1),\n",
        "        #)\n",
        "\n",
        "        no_object_loss = self.mse(\n",
        "            torch.flatten((1 - exists_box) * predictions[..., 20:21], start_dim=1),\n",
        "            torch.flatten((1 - exists_box) * target[..., 20:21], start_dim=1),\n",
        "        )\n",
        "\n",
        "        no_object_loss += self.mse(\n",
        "            torch.flatten((1 - exists_box) * predictions[..., 25:26], start_dim=1),\n",
        "            torch.flatten((1 - exists_box) * target[..., 20:21], start_dim=1)\n",
        "        )\n",
        "\n",
        "        # ================== #\n",
        "        #   FOR CLASS LOSS   #\n",
        "        # ================== #\n",
        "\n",
        "        class_loss = self.mse(\n",
        "            torch.flatten(exists_box * predictions[..., :20], end_dim=-2,),\n",
        "            torch.flatten(exists_box * target[..., :20], end_dim=-2,),\n",
        "        )\n",
        "\n",
        "        loss = (\n",
        "            self.lambda_coord * box_loss  # first two rows in paper\n",
        "            + object_loss  # third row in paper\n",
        "            + self.lambda_noobj * no_object_loss  # forth row\n",
        "            + class_loss  # fifth row\n",
        "        )\n",
        "\n",
        "        return loss"
      ]
    },
    {
      "cell_type": "markdown",
      "metadata": {
        "id": "Q6owir_TQ0D9"
      },
      "source": [
        "#DataSet"
      ]
    },
    {
      "cell_type": "code",
      "execution_count": null,
      "metadata": {
        "id": "CMoIsSI_QjbM"
      },
      "outputs": [],
      "source": [
        "class VOCDataset(torch.utils.data.Dataset):\n",
        "    def __init__(\n",
        "        self, csv_file, img_dir, label_dir, S=7, B=2, C=20, transform=None,\n",
        "    ):\n",
        "        self.annotations = pd.read_csv(csv_file)\n",
        "        self.img_dir = img_dir\n",
        "        self.label_dir = label_dir\n",
        "        self.transform = transform\n",
        "        self.S = S\n",
        "        self.B = B\n",
        "        self.C = C\n",
        "\n",
        "    def __len__(self):\n",
        "        return len(self.annotations)\n",
        "\n",
        "    def __getitem__(self, index):\n",
        "        label_path = os.path.join(self.label_dir, self.annotations.iloc[index, 1])\n",
        "        boxes = []\n",
        "        with open(label_path) as f:\n",
        "            for label in f.readlines():\n",
        "                class_label, x, y, width, height = [\n",
        "                    float(x) if float(x) != int(float(x)) else int(float(x))\n",
        "                    for x in label.replace(\"\\n\", \"\").split()\n",
        "                ]\n",
        "\n",
        "                boxes.append([class_label, x, y, width, height])\n",
        "\n",
        "        img_path = os.path.join(self.img_dir, self.annotations.iloc[index, 0])\n",
        "        image = Image.open(img_path)\n",
        "        boxes = torch.tensor(boxes)\n",
        "\n",
        "        if self.transform:\n",
        "            # image = self.transform(image)\n",
        "            image, boxes = self.transform(image, boxes)\n",
        "\n",
        "        # Convert To Cells\n",
        "        label_matrix = torch.zeros((self.S, self.S, self.C + 5 * self.B))\n",
        "        for box in boxes:\n",
        "            class_label, x, y, width, height = box.tolist()\n",
        "            class_label = int(class_label)\n",
        "\n",
        "            # i,j represents the cell row and cell column\n",
        "            i, j = int(self.S * y), int(self.S * x)\n",
        "            x_cell, y_cell = self.S * x - j, self.S * y - i\n",
        "\n",
        "            \"\"\"\n",
        "            Calculating the width and height of cell of bounding box,\n",
        "            relative to the cell is done by the following, with\n",
        "            width as the example:\n",
        "            \n",
        "            width_pixels = (width*self.image_width)\n",
        "            cell_pixels = (self.image_width)\n",
        "            \n",
        "            Then to find the width relative to the cell is simply:\n",
        "            width_pixels/cell_pixels, simplification leads to the\n",
        "            formulas below.\n",
        "            \"\"\"\n",
        "            width_cell, height_cell = (\n",
        "                width * self.S,\n",
        "                height * self.S,\n",
        "            )\n",
        "\n",
        "            # If no object already found for specific cell i,j\n",
        "            # Note: This means we restrict to ONE object\n",
        "            # per cell!\n",
        "            if label_matrix[i, j, 20] == 0:\n",
        "                # Set that there exists an object\n",
        "                label_matrix[i, j, 20] = 1\n",
        "\n",
        "                # Box coordinates\n",
        "                box_coordinates = torch.tensor(\n",
        "                    [x_cell, y_cell, width_cell, height_cell]\n",
        "                )\n",
        "\n",
        "                label_matrix[i, j, 21:25] = box_coordinates\n",
        "\n",
        "                # Set one hot encoding for class_label\n",
        "                label_matrix[i, j, class_label] = 1\n",
        "\n",
        "        return image, label_matrix"
      ]
    },
    {
      "cell_type": "markdown",
      "metadata": {
        "id": "cf3UXRjX8tXZ"
      },
      "source": [
        "#MAP"
      ]
    },
    {
      "cell_type": "code",
      "execution_count": null,
      "metadata": {
        "id": "ELk-Trz28uwP"
      },
      "outputs": [],
      "source": [
        "def mean_average_precision(\n",
        "    pred_boxes, true_boxes, iou_threshold=0.5, box_format=\"midpoint\", num_classes=20\n",
        "):\n",
        "    \"\"\"\n",
        "    Calculates mean average precision \n",
        "    Parameters:\n",
        "        pred_boxes (list): list of lists containing all bboxes with each bboxes\n",
        "        specified as [train_idx, class_prediction, prob_score, x1, y1, x2, y2]\n",
        "        true_boxes (list): Similar as pred_boxes except all the correct ones \n",
        "        iou_threshold (float): threshold where predicted bboxes is correct\n",
        "        box_format (str): \"midpoint\" or \"corners\" used to specify bboxes\n",
        "        num_classes (int): number of classes\n",
        "    Returns:\n",
        "        float: mAP value across all classes given a specific IoU threshold \n",
        "    \"\"\"\n",
        "\n",
        "    # list storing all AP for respective classes\n",
        "    average_precisions = []\n",
        "\n",
        "    # used for numerical stability later on\n",
        "    epsilon = 1e-6\n",
        "\n",
        "    for c in range(num_classes):\n",
        "        detections = []\n",
        "        ground_truths = []\n",
        "\n",
        "        # Go through all predictions and targets,\n",
        "        # and only add the ones that belong to the\n",
        "        # current class c\n",
        "        for detection in pred_boxes:\n",
        "            if detection[1] == c:\n",
        "                detections.append(detection)\n",
        "\n",
        "        for true_box in true_boxes:\n",
        "            if true_box[1] == c:\n",
        "                ground_truths.append(true_box)\n",
        "\n",
        "        # find the amount of bboxes for each training example\n",
        "        # Counter here finds how many ground truth bboxes we get\n",
        "        # for each training example, so let's say img 0 has 3,\n",
        "        # img 1 has 5 then we will obtain a dictionary with:\n",
        "        # amount_bboxes = {0:3, 1:5}\n",
        "        amount_bboxes = Counter([gt[0] for gt in ground_truths])\n",
        "\n",
        "        # We then go through each key, val in this dictionary\n",
        "        # and convert to the following (w.r.t same example):\n",
        "        # ammount_bboxes = {0:torch.tensor[0,0,0], 1:torch.tensor[0,0,0,0,0]}\n",
        "        for key, val in amount_bboxes.items():\n",
        "            amount_bboxes[key] = torch.zeros(val)\n",
        "\n",
        "        # sort by box probabilities which is index 2\n",
        "        detections.sort(key=lambda x: x[2], reverse=True)\n",
        "        TP = torch.zeros((len(detections)))\n",
        "        FP = torch.zeros((len(detections)))\n",
        "        total_true_bboxes = len(ground_truths)\n",
        "        \n",
        "        # If none exists for this class then we can safely skip\n",
        "        if total_true_bboxes == 0:\n",
        "            continue\n",
        "\n",
        "        for detection_idx, detection in enumerate(detections):\n",
        "            # Only take out the ground_truths that have the same\n",
        "            # training idx as detection\n",
        "            ground_truth_img = [\n",
        "                bbox for bbox in ground_truths if bbox[0] == detection[0]\n",
        "            ]\n",
        "\n",
        "            num_gts = len(ground_truth_img)\n",
        "            best_iou = 0\n",
        "\n",
        "            for idx, gt in enumerate(ground_truth_img):\n",
        "                iou = intersection_over_union(\n",
        "                    torch.tensor(detection[3:]),\n",
        "                    torch.tensor(gt[3:]),\n",
        "                    box_format=box_format,\n",
        "                )\n",
        "\n",
        "                if iou > best_iou:\n",
        "                    best_iou = iou\n",
        "                    best_gt_idx = idx\n",
        "\n",
        "            if best_iou > iou_threshold:\n",
        "                # only detect ground truth detection once\n",
        "                if amount_bboxes[detection[0]][best_gt_idx] == 0:\n",
        "                    # true positive and add this bounding box to seen\n",
        "                    TP[detection_idx] = 1\n",
        "                    amount_bboxes[detection[0]][best_gt_idx] = 1\n",
        "                else:\n",
        "                    FP[detection_idx] = 1\n",
        "\n",
        "            # if IOU is lower then the detection is a false positive\n",
        "            else:\n",
        "                FP[detection_idx] = 1\n",
        "\n",
        "        TP_cumsum = torch.cumsum(TP, dim=0)\n",
        "        FP_cumsum = torch.cumsum(FP, dim=0)\n",
        "        recalls = TP_cumsum / (total_true_bboxes + epsilon)\n",
        "        precisions = torch.divide(TP_cumsum, (TP_cumsum + FP_cumsum + epsilon))\n",
        "        precisions = torch.cat((torch.tensor([1]), precisions))\n",
        "        recalls = torch.cat((torch.tensor([0]), recalls))\n",
        "        \n",
        "        fr = open(\"recalls.txt\",\"w\")\n",
        "        for i in list(recalls):\n",
        "          fr.write(str(float(i))+\"\\n\")\n",
        "        \n",
        "        fp = open(\"precisions.txt\",\"w\")\n",
        "        for i in list(precisions):\n",
        "          fp.write(str(float(i))+\"\\n\")\n",
        "\n",
        "        # torch.trapz for numerical integration\n",
        "        average_precisions.append(torch.trapz(precisions, recalls))\n",
        "\n",
        "    return sum(average_precisions) / (len(average_precisions))"
      ]
    },
    {
      "cell_type": "markdown",
      "metadata": {
        "id": "5J17xITT2OU7"
      },
      "source": [
        "#Cell_to_Boxes\n"
      ]
    },
    {
      "cell_type": "code",
      "execution_count": null,
      "metadata": {
        "id": "10pFzbTg2Rlg"
      },
      "outputs": [],
      "source": [
        "def convert_cellboxes(predictions, S=7):\n",
        "    \"\"\"\n",
        "    Converts bounding boxes output from Yolo with\n",
        "    an image split size of S into entire image ratios\n",
        "    rather than relative to cell ratios. Tried to do this\n",
        "    vectorized, but this resulted in quite difficult to read\n",
        "    code... Use as a black box? Or implement a more intuitive,\n",
        "    using 2 for loops iterating range(S) and convert them one\n",
        "    by one, resulting in a slower but more readable implementation.\n",
        "    \"\"\"\n",
        "\n",
        "    predictions = predictions.to(\"cpu\")\n",
        "    batch_size = predictions.shape[0]\n",
        "    predictions = predictions.reshape(batch_size, 7, 7, 30)\n",
        "    bboxes1 = predictions[..., 21:25]\n",
        "    bboxes2 = predictions[..., 26:30]\n",
        "    scores = torch.cat(\n",
        "        (predictions[..., 20].unsqueeze(0), predictions[..., 25].unsqueeze(0)), dim=0\n",
        "    )\n",
        "    best_box = scores.argmax(0).unsqueeze(-1)\n",
        "    best_boxes = bboxes1 * (1 - best_box) + best_box * bboxes2\n",
        "    cell_indices = torch.arange(7).repeat(batch_size, 7, 1).unsqueeze(-1)\n",
        "    x = 1 / S * (best_boxes[..., :1] + cell_indices)\n",
        "    y = 1 / S * (best_boxes[..., 1:2] + cell_indices.permute(0, 2, 1, 3))\n",
        "    w_y = 1 / S * best_boxes[..., 2:4]\n",
        "    converted_bboxes = torch.cat((x, y, w_y), dim=-1)\n",
        "    predicted_class = predictions[..., :20].argmax(-1).unsqueeze(-1)\n",
        "    best_confidence = torch.max(predictions[..., 20], predictions[..., 25]).unsqueeze(\n",
        "        -1\n",
        "    )\n",
        "    converted_preds = torch.cat(\n",
        "        (predicted_class, best_confidence, converted_bboxes), dim=-1\n",
        "    )\n",
        "\n",
        "    return converted_preds\n",
        "\n",
        "\n",
        "def cellboxes_to_boxes(out, S=7):\n",
        "    converted_pred = convert_cellboxes(out).reshape(out.shape[0], S * S, -1)\n",
        "    converted_pred[..., 0] = converted_pred[..., 0].long()\n",
        "    all_bboxes = []\n",
        "\n",
        "    for ex_idx in range(out.shape[0]):\n",
        "        bboxes = []\n",
        "\n",
        "        for bbox_idx in range(S * S):\n",
        "            bboxes.append([x.item() for x in converted_pred[ex_idx, bbox_idx, :]])\n",
        "        all_bboxes.append(bboxes)\n",
        "\n",
        "    return all_bboxes"
      ]
    },
    {
      "cell_type": "markdown",
      "metadata": {
        "id": "-9HWG1aP2HSN"
      },
      "source": [
        "#Bounding Boxes"
      ]
    },
    {
      "cell_type": "code",
      "execution_count": null,
      "metadata": {
        "id": "aapro_hg2KCs"
      },
      "outputs": [],
      "source": [
        "def get_bboxes(\n",
        "    loader,\n",
        "    model,\n",
        "    iou_threshold,\n",
        "    threshold,\n",
        "    pred_format=\"cells\",\n",
        "    box_format=\"midpoint\",\n",
        "    device=\"cuda\",\n",
        "):\n",
        "    all_pred_boxes = []\n",
        "    all_true_boxes = []\n",
        "\n",
        "    # make sure model is in eval before get bboxes\n",
        "    model.eval()\n",
        "    train_idx = 0\n",
        "\n",
        "    for batch_idx, (x, labels) in enumerate(loader):\n",
        "        x = x.to(device)\n",
        "        labels = labels.to(device)\n",
        "\n",
        "        with torch.no_grad():\n",
        "            predictions = model(x)\n",
        "\n",
        "        batch_size = x.shape[0]\n",
        "        true_bboxes = cellboxes_to_boxes(labels)\n",
        "        bboxes = cellboxes_to_boxes(predictions)\n",
        "\n",
        "        for idx in range(batch_size):\n",
        "            nms_boxes = non_max_suppression(\n",
        "                bboxes[idx],\n",
        "                iou_threshold=iou_threshold,\n",
        "                threshold=threshold,\n",
        "                box_format=box_format,\n",
        "            )\n",
        "\n",
        "\n",
        "            #if batch_idx == 0 and idx == 0:\n",
        "            #    plot_image(x[idx].permute(1,2,0).to(\"cpu\"), nms_boxes)\n",
        "            #    print(nms_boxes)\n",
        "\n",
        "            for nms_box in nms_boxes:\n",
        "                all_pred_boxes.append([train_idx] + nms_box)\n",
        "\n",
        "            for box in true_bboxes[idx]:\n",
        "                # many will get converted to 0 pred\n",
        "                if box[1] > threshold:\n",
        "                    all_true_boxes.append([train_idx] + box)\n",
        "\n",
        "            train_idx += 1\n",
        "\n",
        "    # model.train()\n",
        "    return all_pred_boxes, all_true_boxes"
      ]
    },
    {
      "cell_type": "markdown",
      "metadata": {
        "id": "B5iuqta5RH7A"
      },
      "source": [
        "#Training"
      ]
    },
    {
      "cell_type": "code",
      "execution_count": null,
      "metadata": {
        "colab": {
          "base_uri": "https://localhost:8080/"
        },
        "outputId": "70c651a6-280c-4f76-90b8-4927b0c3fb59",
        "id": "tXEk8Jk4G6bl"
      },
      "outputs": [
        {
          "output_type": "stream",
          "name": "stdout",
          "text": [
            "Drive already mounted at /content/drive; to attempt to forcibly remount, call drive.mount(\"/content/drive\", force_remount=True).\n"
          ]
        }
      ],
      "source": [
        "from google.colab import drive\n",
        "drive.mount('/content/drive')"
      ]
    },
    {
      "cell_type": "code",
      "execution_count": null,
      "metadata": {
        "id": "qdEun51Mn7aZ"
      },
      "outputs": [],
      "source": [
        "import os\n",
        "data_name = \"data_500\"\n",
        "data_name_zip = data_name+\".zip\"\n",
        "drive_path = \"/content/drive/MyDrive/\"\n",
        "path = os.path.join(drive_path,data_name)"
      ]
    },
    {
      "cell_type": "markdown",
      "metadata": {
        "id": "LR1KHtE8cG2Q"
      },
      "source": []
    },
    {
      "cell_type": "code",
      "execution_count": null,
      "metadata": {
        "id": "25ynZGUfuCtJ",
        "colab": {
          "base_uri": "https://localhost:8080/"
        },
        "outputId": "b6cd0945-255e-4d45-b1e4-f5cd42e1a3ed"
      },
      "outputs": [
        {
          "output_type": "stream",
          "name": "stdout",
          "text": [
            "Fix archive (-F) - assume mostly intact archive\n",
            "Zip entry offsets do not need adjusting\n",
            " copying: data_500/images/\n",
            " copying: data_500/images/0001.jpg\n",
            " copying: data_500/images/0002.jpg\n",
            " copying: data_500/images/0003.jpg\n",
            " copying: data_500/images/0004.jpg\n",
            " copying: data_500/images/0005.jpg\n",
            " copying: data_500/images/0006.jpg\n",
            " copying: data_500/images/0007.jpg\n",
            " copying: data_500/images/0008.jpg\n",
            " copying: data_500/images/0009.jpg\n",
            " copying: data_500/images/0010.jpg\n",
            " copying: data_500/images/0011.jpg\n",
            " copying: data_500/images/0012.jpg\n",
            " copying: data_500/images/0013.jpg\n",
            " copying: data_500/images/0014.jpg\n",
            " copying: data_500/images/0015.jpg\n",
            " copying: data_500/images/0016.jpg\n",
            " copying: data_500/images/0017.jpg\n",
            " copying: data_500/images/0018.jpg\n",
            " copying: data_500/images/0019.jpg\n",
            " copying: data_500/images/0020.jpg\n",
            " copying: data_500/images/0021.jpg\n",
            " copying: data_500/images/0022.jpg\n",
            " copying: data_500/images/0023.jpg\n",
            " copying: data_500/images/0024.jpg\n",
            " copying: data_500/images/0025.jpg\n",
            " copying: data_500/images/0026.jpg\n",
            " copying: data_500/images/0027.jpg\n",
            " copying: data_500/images/0028.jpg\n",
            " copying: data_500/images/0029.jpg\n",
            " copying: data_500/images/0030.jpg\n",
            " copying: data_500/images/0031.jpg\n",
            " copying: data_500/images/0032.jpg\n",
            " copying: data_500/images/0033.jpg\n",
            " copying: data_500/images/0034.jpg\n",
            " copying: data_500/images/0035.jpg\n",
            " copying: data_500/images/0036.jpg\n",
            " copying: data_500/images/0037.jpg\n",
            " copying: data_500/images/0038.jpg\n",
            " copying: data_500/images/0039.jpg\n",
            " copying: data_500/images/0040.jpg\n",
            " copying: data_500/images/0041.jpg\n",
            " copying: data_500/images/0042.jpg\n",
            " copying: data_500/images/0043.jpg\n",
            " copying: data_500/images/0044.jpg\n",
            " copying: data_500/images/0045.jpg\n",
            " copying: data_500/images/0046.jpg\n",
            " copying: data_500/images/0047.jpg\n",
            " copying: data_500/images/0048.jpg\n",
            " copying: data_500/images/0049.jpg\n",
            " copying: data_500/images/0050.jpg\n",
            " copying: data_500/images/0051.jpg\n",
            " copying: data_500/images/0052.jpg\n",
            " copying: data_500/images/0053.jpg\n",
            " copying: data_500/images/0054.jpg\n",
            " copying: data_500/images/0055.jpg\n",
            " copying: data_500/images/0056.jpg\n",
            " copying: data_500/images/0057.jpg\n",
            " copying: data_500/images/0058.jpg\n",
            " copying: data_500/images/0059.jpg\n",
            " copying: data_500/images/0060.jpg\n",
            " copying: data_500/images/0061.jpg\n",
            " copying: data_500/images/0062.jpg\n",
            " copying: data_500/images/0063.jpg\n",
            " copying: data_500/images/0064.jpg\n",
            " copying: data_500/images/0065.jpg\n",
            " copying: data_500/images/0066.jpg\n",
            " copying: data_500/images/0067.jpg\n",
            " copying: data_500/images/0068.jpg\n",
            " copying: data_500/images/0069.jpg\n",
            " copying: data_500/images/0070.jpg\n",
            " copying: data_500/images/0071.jpg\n",
            " copying: data_500/images/0072.jpg\n",
            " copying: data_500/images/0073.jpg\n",
            " copying: data_500/images/0074.jpg\n",
            " copying: data_500/images/0075.jpg\n",
            " copying: data_500/images/0076.jpg\n",
            " copying: data_500/images/0077.jpg\n",
            " copying: data_500/images/0078.jpg\n",
            " copying: data_500/images/0079.jpg\n",
            " copying: data_500/images/0080.jpg\n",
            " copying: data_500/images/0081.jpg\n",
            " copying: data_500/images/0082.jpg\n",
            " copying: data_500/images/0083.jpg\n",
            " copying: data_500/images/0084.jpg\n",
            " copying: data_500/images/0085.jpg\n",
            " copying: data_500/images/0086.jpg\n",
            " copying: data_500/images/0087.jpg\n",
            " copying: data_500/images/0088.jpg\n",
            " copying: data_500/images/0089.jpg\n",
            " copying: data_500/images/0090.jpg\n",
            " copying: data_500/images/0091.jpg\n",
            " copying: data_500/images/0092.jpg\n",
            " copying: data_500/images/0093.jpg\n",
            " copying: data_500/images/0094.jpg\n",
            " copying: data_500/images/0095.jpg\n",
            " copying: data_500/images/0096.jpg\n",
            " copying: data_500/images/0097.jpg\n",
            " copying: data_500/images/0098.jpg\n",
            " copying: data_500/images/0099.jpg\n",
            " copying: data_500/images/0100.jpg\n",
            " copying: data_500/images/0101.jpg\n",
            " copying: data_500/images/0102.jpg\n",
            " copying: data_500/images/0103.jpg\n",
            " copying: data_500/images/0104.jpg\n",
            " copying: data_500/images/0105.jpg\n",
            " copying: data_500/images/0106.jpg\n",
            " copying: data_500/images/0107.jpg\n",
            " copying: data_500/images/0108.jpg\n",
            " copying: data_500/images/0109.jpg\n",
            " copying: data_500/images/0110.jpg\n",
            " copying: data_500/images/0111.jpg\n",
            " copying: data_500/images/0112.jpg\n",
            " copying: data_500/images/0113.jpg\n",
            " copying: data_500/images/0114.jpg\n",
            " copying: data_500/images/0115.jpg\n",
            " copying: data_500/images/0116.jpg\n",
            " copying: data_500/images/0117.jpg\n",
            " copying: data_500/images/0118.jpg\n",
            " copying: data_500/images/0119.jpg\n",
            " copying: data_500/images/0120.jpg\n",
            " copying: data_500/images/0121.jpg\n",
            " copying: data_500/images/0122.jpg\n",
            " copying: data_500/images/0123.jpg\n",
            " copying: data_500/images/0124.jpg\n",
            " copying: data_500/images/0125.jpg\n",
            " copying: data_500/images/0126.jpg\n",
            " copying: data_500/images/0127.jpg\n",
            " copying: data_500/images/0128.jpg\n",
            " copying: data_500/images/0129.jpg\n",
            " copying: data_500/images/0130.jpg\n",
            " copying: data_500/images/0131.jpg\n",
            " copying: data_500/images/0132.jpg\n",
            " copying: data_500/images/0133.jpg\n",
            " copying: data_500/images/0134.jpg\n",
            " copying: data_500/images/0135.jpg\n",
            " copying: data_500/images/0136.jpg\n",
            " copying: data_500/images/0137.jpg\n",
            " copying: data_500/images/0138.jpg\n",
            " copying: data_500/images/0139.jpg\n",
            " copying: data_500/images/0140.jpg\n",
            " copying: data_500/images/0141.jpg\n",
            " copying: data_500/images/0142.jpg\n",
            " copying: data_500/images/0143.jpg\n",
            " copying: data_500/images/0144.jpg\n",
            " copying: data_500/images/0145.jpg\n",
            " copying: data_500/images/0146.jpg\n",
            " copying: data_500/images/0147.jpg\n",
            " copying: data_500/images/0148.jpg\n",
            " copying: data_500/images/0149.jpg\n",
            " copying: data_500/images/0150.jpg\n",
            " copying: data_500/images/0151.jpg\n",
            " copying: data_500/images/0152.jpg\n",
            " copying: data_500/images/0153.jpg\n",
            " copying: data_500/images/0154.jpg\n",
            " copying: data_500/images/0155.jpg\n",
            " copying: data_500/images/0156.jpg\n",
            " copying: data_500/images/0157.jpg\n",
            " copying: data_500/images/0158.jpg\n",
            " copying: data_500/images/0159.jpg\n",
            " copying: data_500/images/0160.jpg\n",
            " copying: data_500/images/0161.jpg\n",
            " copying: data_500/images/0162.jpg\n",
            " copying: data_500/images/0163.jpg\n",
            " copying: data_500/images/0164.jpg\n",
            " copying: data_500/images/0165.jpg\n",
            " copying: data_500/images/0166.jpg\n",
            " copying: data_500/images/0167.jpg\n",
            " copying: data_500/images/0168.jpg\n",
            " copying: data_500/images/0169.jpg\n",
            " copying: data_500/images/0170.jpg\n",
            " copying: data_500/images/0171.jpg\n",
            " copying: data_500/images/0172.jpg\n",
            " copying: data_500/images/0173.jpg\n",
            " copying: data_500/images/0174.jpg\n",
            " copying: data_500/images/0175.jpg\n",
            " copying: data_500/images/0176.jpg\n",
            " copying: data_500/images/0177.jpg\n",
            " copying: data_500/images/0178.jpg\n",
            " copying: data_500/images/0179.jpg\n",
            " copying: data_500/images/0180.jpg\n",
            " copying: data_500/images/0181.jpg\n",
            " copying: data_500/images/0182.jpg\n",
            " copying: data_500/images/0183.jpg\n",
            " copying: data_500/images/0184.jpg\n",
            " copying: data_500/images/0185.jpg\n",
            " copying: data_500/images/0186.jpg\n",
            " copying: data_500/images/0187.jpg\n",
            " copying: data_500/images/0188.jpg\n",
            " copying: data_500/images/0189.jpg\n",
            " copying: data_500/images/0190.jpg\n",
            " copying: data_500/images/0191.jpg\n",
            " copying: data_500/images/0192.jpg\n",
            " copying: data_500/images/0193.jpg\n",
            " copying: data_500/images/0194.jpg\n",
            " copying: data_500/images/0195.jpg\n",
            " copying: data_500/images/0196.jpg\n",
            " copying: data_500/images/0197.jpg\n",
            " copying: data_500/images/0198.jpg\n",
            " copying: data_500/images/0199.jpg\n",
            " copying: data_500/images/0200.jpg\n",
            " copying: data_500/images/0201.jpg\n",
            " copying: data_500/images/0202.jpg\n",
            " copying: data_500/images/0203.jpg\n",
            " copying: data_500/images/0204.jpg\n",
            " copying: data_500/images/0205.jpg\n",
            " copying: data_500/images/0206.jpg\n",
            " copying: data_500/images/0207.jpg\n",
            " copying: data_500/images/0208.jpg\n",
            " copying: data_500/images/0209.jpg\n",
            " copying: data_500/images/0210.jpg\n",
            " copying: data_500/images/0211.jpg\n",
            " copying: data_500/images/0212.jpg\n",
            " copying: data_500/images/0213.jpg\n",
            " copying: data_500/images/0214.jpg\n",
            " copying: data_500/images/0215.jpg\n",
            " copying: data_500/images/0216.jpg\n",
            " copying: data_500/images/0217.jpg\n",
            " copying: data_500/images/0218.jpg\n",
            " copying: data_500/images/0219.jpg\n",
            " copying: data_500/images/0220.jpg\n",
            " copying: data_500/images/0221.jpg\n",
            " copying: data_500/images/0222.jpg\n",
            " copying: data_500/images/0223.jpg\n",
            " copying: data_500/images/0224.jpg\n",
            " copying: data_500/images/0225.jpg\n",
            " copying: data_500/images/0226.jpg\n",
            " copying: data_500/images/0227.jpg\n",
            " copying: data_500/images/0228.jpg\n",
            " copying: data_500/images/0229.jpg\n",
            " copying: data_500/images/0230.jpg\n",
            " copying: data_500/images/0231.jpg\n",
            " copying: data_500/images/0232.jpg\n",
            " copying: data_500/images/0233.jpg\n",
            " copying: data_500/images/0234.jpg\n",
            " copying: data_500/images/0235.jpg\n",
            " copying: data_500/images/0236.jpg\n",
            " copying: data_500/images/0237.jpg\n",
            " copying: data_500/images/0238.jpg\n",
            " copying: data_500/images/0239.jpg\n",
            " copying: data_500/images/0240.jpg\n",
            " copying: data_500/images/0241.jpg\n",
            " copying: data_500/images/0242.jpg\n",
            " copying: data_500/images/0243.jpg\n",
            " copying: data_500/images/0244.jpg\n",
            " copying: data_500/images/0245.jpg\n",
            " copying: data_500/images/0246.jpg\n",
            " copying: data_500/images/0247.jpg\n",
            " copying: data_500/images/0248.jpg\n",
            " copying: data_500/images/0249.jpg\n",
            " copying: data_500/images/0250.jpg\n",
            " copying: data_500/images/0251.jpg\n",
            " copying: data_500/images/0252.jpg\n",
            " copying: data_500/images/0253.jpg\n",
            " copying: data_500/images/0254.jpg\n",
            " copying: data_500/images/0255.jpg\n",
            " copying: data_500/images/0256.jpg\n",
            " copying: data_500/images/0257.jpg\n",
            " copying: data_500/images/0258.jpg\n",
            " copying: data_500/images/0259.jpg\n",
            " copying: data_500/images/0260.jpg\n",
            " copying: data_500/images/0261.jpg\n",
            " copying: data_500/images/0262.jpg\n",
            " copying: data_500/images/0263.jpg\n",
            " copying: data_500/images/0264.jpg\n",
            " copying: data_500/images/0265.jpg\n",
            " copying: data_500/images/0266.jpg\n",
            " copying: data_500/images/0267.jpg\n",
            " copying: data_500/images/0268.jpg\n",
            " copying: data_500/images/0269.jpg\n",
            " copying: data_500/images/0270.jpg\n",
            " copying: data_500/images/0271.jpg\n",
            " copying: data_500/images/0272.jpg\n",
            " copying: data_500/images/0273.jpg\n",
            " copying: data_500/images/0274.jpg\n",
            " copying: data_500/images/0275.jpg\n",
            " copying: data_500/images/0276.jpg\n",
            " copying: data_500/images/0277.jpg\n",
            " copying: data_500/images/0278.jpg\n",
            " copying: data_500/images/0279.jpg\n",
            " copying: data_500/images/0280.jpg\n",
            " copying: data_500/images/0281.jpg\n",
            " copying: data_500/images/0282.jpg\n",
            " copying: data_500/images/0283.jpg\n",
            " copying: data_500/images/0284.jpg\n",
            " copying: data_500/images/0285.jpg\n",
            " copying: data_500/images/0286.jpg\n",
            " copying: data_500/images/0287.jpg\n",
            " copying: data_500/images/0288.jpg\n",
            " copying: data_500/images/0289.jpg\n",
            " copying: data_500/images/0290.jpg\n",
            " copying: data_500/images/0291.jpg\n",
            " copying: data_500/images/0292.jpg\n",
            " copying: data_500/images/0293.jpg\n",
            " copying: data_500/images/0294.jpg\n",
            " copying: data_500/images/0295.jpg\n",
            " copying: data_500/images/0296.jpg\n",
            " copying: data_500/images/0297.jpg\n",
            " copying: data_500/images/0298.jpg\n",
            " copying: data_500/images/0299.jpg\n",
            " copying: data_500/images/0300.jpg\n",
            " copying: data_500/images/0301.jpg\n",
            " copying: data_500/images/0302.jpg\n",
            " copying: data_500/images/0303.jpg\n",
            " copying: data_500/images/0304.jpg\n",
            " copying: data_500/images/0305.jpg\n",
            " copying: data_500/images/0306.jpg\n",
            " copying: data_500/images/0307.jpg\n",
            " copying: data_500/images/0308.jpg\n",
            " copying: data_500/images/0309.jpg\n",
            " copying: data_500/images/0310.jpg\n",
            " copying: data_500/images/0311.jpg\n",
            " copying: data_500/images/0312.jpg\n",
            " copying: data_500/images/0313.jpg\n",
            " copying: data_500/images/0314.jpg\n",
            " copying: data_500/images/0315.jpg\n",
            " copying: data_500/images/0316.jpg\n",
            " copying: data_500/images/0317.jpg\n",
            " copying: data_500/images/0318.jpg\n",
            " copying: data_500/images/0319.jpg\n",
            " copying: data_500/images/0320.jpg\n",
            " copying: data_500/images/0321.jpg\n",
            " copying: data_500/images/0322.jpg\n",
            " copying: data_500/images/0323.jpg\n",
            " copying: data_500/images/0324.jpg\n",
            " copying: data_500/images/0325.jpg\n",
            " copying: data_500/images/0326.jpg\n",
            " copying: data_500/images/0327.jpg\n",
            " copying: data_500/images/0328.jpg\n",
            " copying: data_500/images/0329.jpg\n",
            " copying: data_500/images/0330.jpg\n",
            " copying: data_500/images/0331.jpg\n",
            " copying: data_500/images/0332.jpg\n",
            " copying: data_500/images/0333.jpg\n",
            " copying: data_500/images/0334.jpg\n",
            " copying: data_500/images/0335.jpg\n",
            " copying: data_500/images/0336.jpg\n",
            " copying: data_500/images/0337.jpg\n",
            " copying: data_500/images/0338.jpg\n",
            " copying: data_500/images/0339.jpg\n",
            " copying: data_500/images/0340.jpg\n",
            " copying: data_500/images/0341.jpg\n",
            " copying: data_500/images/0342.jpg\n",
            " copying: data_500/images/0343.jpg\n",
            " copying: data_500/images/0344.jpg\n",
            " copying: data_500/images/0345.jpg\n",
            " copying: data_500/images/0346.jpg\n",
            " copying: data_500/images/0347.jpg\n",
            " copying: data_500/images/0348.jpg\n",
            " copying: data_500/images/0349.jpg\n",
            " copying: data_500/images/0350.jpg\n",
            " copying: data_500/images/0351.jpg\n",
            " copying: data_500/images/0352.jpg\n",
            " copying: data_500/images/0353.jpg\n",
            " copying: data_500/images/0354.jpg\n",
            " copying: data_500/images/0355.jpg\n",
            " copying: data_500/images/0356.jpg\n",
            " copying: data_500/images/0357.jpg\n",
            " copying: data_500/images/0358.jpg\n",
            " copying: data_500/images/0359.jpg\n",
            " copying: data_500/images/0360.jpg\n",
            " copying: data_500/images/0361.jpg\n",
            " copying: data_500/images/0362.jpg\n",
            " copying: data_500/images/0363.jpg\n",
            " copying: data_500/images/0364.jpg\n",
            " copying: data_500/images/0365.jpg\n",
            " copying: data_500/images/0366.jpg\n",
            " copying: data_500/images/0367.jpg\n",
            " copying: data_500/images/0368.jpg\n",
            " copying: data_500/images/0369.jpg\n",
            " copying: data_500/images/0370.jpg\n",
            " copying: data_500/images/0371.jpg\n",
            " copying: data_500/images/0372.jpg\n",
            " copying: data_500/images/0373.jpg\n",
            " copying: data_500/images/0374.jpg\n",
            " copying: data_500/images/0375.jpg\n",
            " copying: data_500/images/0376.jpg\n",
            " copying: data_500/images/0377.jpg\n",
            " copying: data_500/images/0378.jpg\n",
            " copying: data_500/images/0379.jpg\n",
            " copying: data_500/images/0380.jpg\n",
            " copying: data_500/images/0381.jpg\n",
            " copying: data_500/images/0382.jpg\n",
            " copying: data_500/images/0383.jpg\n",
            " copying: data_500/images/0384.jpg\n",
            " copying: data_500/images/0385.jpg\n",
            " copying: data_500/images/0386.jpg\n",
            " copying: data_500/images/0387.jpg\n",
            " copying: data_500/images/0388.jpg\n",
            " copying: data_500/images/0389.jpg\n",
            " copying: data_500/images/0390.jpg\n",
            " copying: data_500/images/0391.jpg\n",
            " copying: data_500/images/0392.jpg\n",
            " copying: data_500/images/0393.jpg\n",
            " copying: data_500/images/0394.jpg\n",
            " copying: data_500/images/0395.jpg\n",
            " copying: data_500/images/0396.jpg\n",
            " copying: data_500/images/0397.jpg\n",
            " copying: data_500/images/0398.jpg\n",
            " copying: data_500/images/0399.jpg\n",
            " copying: data_500/images/0400.jpg\n",
            " copying: data_500/images/0401.jpg\n",
            " copying: data_500/images/0402.jpg\n",
            " copying: data_500/images/0403.jpg\n",
            " copying: data_500/images/0404.jpg\n",
            " copying: data_500/images/0405.jpg\n",
            " copying: data_500/images/0406.jpg\n",
            " copying: data_500/images/0407.jpg\n",
            " copying: data_500/images/0408.jpg\n",
            " copying: data_500/images/0409.jpg\n",
            " copying: data_500/images/0410.jpg\n",
            " copying: data_500/images/0411.jpg\n",
            " copying: data_500/images/0412.jpg\n",
            " copying: data_500/images/0413.jpg\n",
            " copying: data_500/images/0414.jpg\n",
            " copying: data_500/images/0415.jpg\n",
            " copying: data_500/images/0416.jpg\n",
            " copying: data_500/images/0417.jpg\n",
            " copying: data_500/images/0418.jpg\n",
            " copying: data_500/images/0419.jpg\n",
            " copying: data_500/images/0420.jpg\n",
            " copying: data_500/images/0421.jpg\n",
            " copying: data_500/images/0422.jpg\n",
            " copying: data_500/images/0423.jpg\n",
            " copying: data_500/images/0424.jpg\n",
            " copying: data_500/images/0425.jpg\n",
            " copying: data_500/images/0426.jpg\n",
            " copying: data_500/images/0427.jpg\n",
            " copying: data_500/images/0428.jpg\n",
            " copying: data_500/images/0429.jpg\n",
            " copying: data_500/images/0430.jpg\n",
            " copying: data_500/images/0431.jpg\n",
            " copying: data_500/images/0432.jpg\n",
            " copying: data_500/images/0433.jpg\n",
            " copying: data_500/images/0434.jpg\n",
            " copying: data_500/images/0435.jpg\n",
            " copying: data_500/images/0436.jpg\n",
            " copying: data_500/images/0437.jpg\n",
            " copying: data_500/images/0438.jpg\n",
            " copying: data_500/images/0439.jpg\n",
            " copying: data_500/images/0440.jpg\n",
            " copying: data_500/images/0441.jpg\n",
            " copying: data_500/images/0442.jpg\n",
            " copying: data_500/images/0443.jpg\n",
            " copying: data_500/images/0444.jpg\n",
            " copying: data_500/images/0445.jpg\n",
            " copying: data_500/images/0446.jpg\n",
            " copying: data_500/images/0447.jpg\n",
            " copying: data_500/images/0448.jpg\n",
            " copying: data_500/images/0449.jpg\n",
            " copying: data_500/images/0450.jpg\n",
            " copying: data_500/images/0451.jpg\n",
            " copying: data_500/images/0452.jpg\n",
            " copying: data_500/images/0453.jpg\n",
            " copying: data_500/images/0454.jpg\n",
            " copying: data_500/images/0455.jpg\n",
            " copying: data_500/images/0456.jpg\n",
            " copying: data_500/images/0457.jpg\n",
            " copying: data_500/images/0458.jpg\n",
            " copying: data_500/images/0459.jpg\n",
            " copying: data_500/images/0460.jpg\n",
            " copying: data_500/images/0461.jpg\n",
            " copying: data_500/images/0462.jpg\n",
            " copying: data_500/images/0463.jpg\n",
            " copying: data_500/images/0464.jpg\n",
            " copying: data_500/images/0465.jpg\n",
            " copying: data_500/images/0466.jpg\n",
            " copying: data_500/images/0467.jpg\n",
            " copying: data_500/images/0468.jpg\n",
            " copying: data_500/images/0469.jpg\n",
            " copying: data_500/images/0470.jpg\n",
            " copying: data_500/images/0471.jpg\n",
            " copying: data_500/images/0472.jpg\n",
            " copying: data_500/images/0473.jpg\n",
            " copying: data_500/images/0474.jpg\n",
            " copying: data_500/images/0475.jpg\n",
            " copying: data_500/images/0476.jpg\n",
            " copying: data_500/images/0477.jpg\n",
            " copying: data_500/images/0478.jpg\n",
            " copying: data_500/images/0479.jpg\n",
            " copying: data_500/images/0480.jpg\n",
            " copying: data_500/images/0481.jpg\n",
            " copying: data_500/images/0482.jpg\n",
            " copying: data_500/images/0483.jpg\n",
            " copying: data_500/images/0484.jpg\n",
            " copying: data_500/images/0485.jpg\n",
            " copying: data_500/images/0486.jpg\n",
            " copying: data_500/images/0487.jpg\n",
            " copying: data_500/images/0488.jpg\n",
            " copying: data_500/images/0489.jpg\n",
            " copying: data_500/images/0490.jpg\n",
            " copying: data_500/images/0491.jpg\n",
            " copying: data_500/images/0492.jpg\n",
            " copying: data_500/images/0493.jpg\n",
            " copying: data_500/images/0494.jpg\n",
            " copying: data_500/images/0495.jpg\n",
            " copying: data_500/images/0496.jpg\n",
            " copying: data_500/images/0497.jpg\n",
            " copying: data_500/images/0498.jpg\n",
            " copying: data_500/images/0499.jpg\n",
            " copying: data_500/images/0500.jpg\n",
            " copying: data_500/labels/\n",
            " copying: data_500/labels/0001.txt\n",
            " copying: data_500/labels/0002.txt\n",
            " copying: data_500/labels/0003.txt\n",
            " copying: data_500/labels/0004.txt\n",
            " copying: data_500/labels/0005.txt\n",
            " copying: data_500/labels/0006.txt\n",
            " copying: data_500/labels/0007.txt\n",
            " copying: data_500/labels/0008.txt\n",
            " copying: data_500/labels/0009.txt\n",
            " copying: data_500/labels/0010.txt\n",
            " copying: data_500/labels/0011.txt\n",
            " copying: data_500/labels/0012.txt\n",
            " copying: data_500/labels/0013.txt\n",
            " copying: data_500/labels/0014.txt\n",
            " copying: data_500/labels/0015.txt\n",
            " copying: data_500/labels/0016.txt\n",
            " copying: data_500/labels/0017.txt\n",
            " copying: data_500/labels/0018.txt\n",
            " copying: data_500/labels/0019.txt\n",
            " copying: data_500/labels/0020.txt\n",
            " copying: data_500/labels/0021.txt\n",
            " copying: data_500/labels/0022.txt\n",
            " copying: data_500/labels/0023.txt\n",
            " copying: data_500/labels/0024.txt\n",
            " copying: data_500/labels/0025.txt\n",
            " copying: data_500/labels/0026.txt\n",
            " copying: data_500/labels/0027.txt\n",
            " copying: data_500/labels/0028.txt\n",
            " copying: data_500/labels/0029.txt\n",
            " copying: data_500/labels/0030.txt\n",
            " copying: data_500/labels/0031.txt\n",
            " copying: data_500/labels/0032.txt\n",
            " copying: data_500/labels/0033.txt\n",
            " copying: data_500/labels/0034.txt\n",
            " copying: data_500/labels/0035.txt\n",
            " copying: data_500/labels/0036.txt\n",
            " copying: data_500/labels/0037.txt\n",
            " copying: data_500/labels/0038.txt\n",
            " copying: data_500/labels/0039.txt\n",
            " copying: data_500/labels/0040.txt\n",
            " copying: data_500/labels/0041.txt\n",
            " copying: data_500/labels/0042.txt\n",
            " copying: data_500/labels/0043.txt\n",
            " copying: data_500/labels/0044.txt\n",
            " copying: data_500/labels/0045.txt\n",
            " copying: data_500/labels/0046.txt\n",
            " copying: data_500/labels/0047.txt\n",
            " copying: data_500/labels/0048.txt\n",
            " copying: data_500/labels/0049.txt\n",
            " copying: data_500/labels/0050.txt\n",
            " copying: data_500/labels/0051.txt\n",
            " copying: data_500/labels/0052.txt\n",
            " copying: data_500/labels/0053.txt\n",
            " copying: data_500/labels/0054.txt\n",
            " copying: data_500/labels/0055.txt\n",
            " copying: data_500/labels/0056.txt\n",
            " copying: data_500/labels/0057.txt\n",
            " copying: data_500/labels/0058.txt\n",
            " copying: data_500/labels/0059.txt\n",
            " copying: data_500/labels/0060.txt\n",
            " copying: data_500/labels/0061.txt\n",
            " copying: data_500/labels/0062.txt\n",
            " copying: data_500/labels/0063.txt\n",
            " copying: data_500/labels/0064.txt\n",
            " copying: data_500/labels/0065.txt\n",
            " copying: data_500/labels/0066.txt\n",
            " copying: data_500/labels/0067.txt\n",
            " copying: data_500/labels/0068.txt\n",
            " copying: data_500/labels/0069.txt\n",
            " copying: data_500/labels/0070.txt\n",
            " copying: data_500/labels/0071.txt\n",
            " copying: data_500/labels/0072.txt\n",
            " copying: data_500/labels/0073.txt\n",
            " copying: data_500/labels/0074.txt\n",
            " copying: data_500/labels/0075.txt\n",
            " copying: data_500/labels/0076.txt\n",
            " copying: data_500/labels/0077.txt\n",
            " copying: data_500/labels/0078.txt\n",
            " copying: data_500/labels/0079.txt\n",
            " copying: data_500/labels/0080.txt\n",
            " copying: data_500/labels/0081.txt\n",
            " copying: data_500/labels/0082.txt\n",
            " copying: data_500/labels/0083.txt\n",
            " copying: data_500/labels/0084.txt\n",
            " copying: data_500/labels/0085.txt\n",
            " copying: data_500/labels/0086.txt\n",
            " copying: data_500/labels/0087.txt\n",
            " copying: data_500/labels/0088.txt\n",
            " copying: data_500/labels/0089.txt\n",
            " copying: data_500/labels/0090.txt\n",
            " copying: data_500/labels/0091.txt\n",
            " copying: data_500/labels/0092.txt\n",
            " copying: data_500/labels/0093.txt\n",
            " copying: data_500/labels/0094.txt\n",
            " copying: data_500/labels/0095.txt\n",
            " copying: data_500/labels/0096.txt\n",
            " copying: data_500/labels/0097.txt\n",
            " copying: data_500/labels/0098.txt\n",
            " copying: data_500/labels/0099.txt\n",
            " copying: data_500/labels/0100.txt\n",
            " copying: data_500/labels/0101.txt\n",
            " copying: data_500/labels/0102.txt\n",
            " copying: data_500/labels/0103.txt\n",
            " copying: data_500/labels/0104.txt\n",
            " copying: data_500/labels/0105.txt\n",
            " copying: data_500/labels/0106.txt\n",
            " copying: data_500/labels/0107.txt\n",
            " copying: data_500/labels/0108.txt\n",
            " copying: data_500/labels/0109.txt\n",
            " copying: data_500/labels/0110.txt\n",
            " copying: data_500/labels/0111.txt\n",
            " copying: data_500/labels/0112.txt\n",
            " copying: data_500/labels/0113.txt\n",
            " copying: data_500/labels/0114.txt\n",
            " copying: data_500/labels/0115.txt\n",
            " copying: data_500/labels/0116.txt\n",
            " copying: data_500/labels/0117.txt\n",
            " copying: data_500/labels/0118.txt\n",
            " copying: data_500/labels/0119.txt\n",
            " copying: data_500/labels/0120.txt\n",
            " copying: data_500/labels/0121.txt\n",
            " copying: data_500/labels/0122.txt\n",
            " copying: data_500/labels/0123.txt\n",
            " copying: data_500/labels/0124.txt\n",
            " copying: data_500/labels/0125.txt\n",
            " copying: data_500/labels/0126.txt\n",
            " copying: data_500/labels/0127.txt\n",
            " copying: data_500/labels/0128.txt\n",
            " copying: data_500/labels/0129.txt\n",
            " copying: data_500/labels/0130.txt\n",
            " copying: data_500/labels/0131.txt\n",
            " copying: data_500/labels/0132.txt\n",
            " copying: data_500/labels/0133.txt\n",
            " copying: data_500/labels/0134.txt\n",
            " copying: data_500/labels/0135.txt\n",
            " copying: data_500/labels/0136.txt\n",
            " copying: data_500/labels/0137.txt\n",
            " copying: data_500/labels/0138.txt\n",
            " copying: data_500/labels/0139.txt\n",
            " copying: data_500/labels/0140.txt\n",
            " copying: data_500/labels/0141.txt\n",
            " copying: data_500/labels/0142.txt\n",
            " copying: data_500/labels/0143.txt\n",
            " copying: data_500/labels/0144.txt\n",
            " copying: data_500/labels/0145.txt\n",
            " copying: data_500/labels/0146.txt\n",
            " copying: data_500/labels/0147.txt\n",
            " copying: data_500/labels/0148.txt\n",
            " copying: data_500/labels/0149.txt\n",
            " copying: data_500/labels/0150.txt\n",
            " copying: data_500/labels/0151.txt\n",
            " copying: data_500/labels/0152.txt\n",
            " copying: data_500/labels/0153.txt\n",
            " copying: data_500/labels/0154.txt\n",
            " copying: data_500/labels/0155.txt\n",
            " copying: data_500/labels/0156.txt\n",
            " copying: data_500/labels/0157.txt\n",
            " copying: data_500/labels/0158.txt\n",
            " copying: data_500/labels/0159.txt\n",
            " copying: data_500/labels/0160.txt\n",
            " copying: data_500/labels/0161.txt\n",
            " copying: data_500/labels/0162.txt\n",
            " copying: data_500/labels/0163.txt\n",
            " copying: data_500/labels/0164.txt\n",
            " copying: data_500/labels/0165.txt\n",
            " copying: data_500/labels/0166.txt\n",
            " copying: data_500/labels/0167.txt\n",
            " copying: data_500/labels/0168.txt\n",
            " copying: data_500/labels/0169.txt\n",
            " copying: data_500/labels/0170.txt\n",
            " copying: data_500/labels/0171.txt\n",
            " copying: data_500/labels/0172.txt\n",
            " copying: data_500/labels/0173.txt\n",
            " copying: data_500/labels/0174.txt\n",
            " copying: data_500/labels/0175.txt\n",
            " copying: data_500/labels/0176.txt\n",
            " copying: data_500/labels/0177.txt\n",
            " copying: data_500/labels/0178.txt\n",
            " copying: data_500/labels/0179.txt\n",
            " copying: data_500/labels/0180.txt\n",
            " copying: data_500/labels/0181.txt\n",
            " copying: data_500/labels/0182.txt\n",
            " copying: data_500/labels/0183.txt\n",
            " copying: data_500/labels/0184.txt\n",
            " copying: data_500/labels/0185.txt\n",
            " copying: data_500/labels/0186.txt\n",
            " copying: data_500/labels/0187.txt\n",
            " copying: data_500/labels/0188.txt\n",
            " copying: data_500/labels/0189.txt\n",
            " copying: data_500/labels/0190.txt\n",
            " copying: data_500/labels/0191.txt\n",
            " copying: data_500/labels/0192.txt\n",
            " copying: data_500/labels/0193.txt\n",
            " copying: data_500/labels/0194.txt\n",
            " copying: data_500/labels/0195.txt\n",
            " copying: data_500/labels/0196.txt\n",
            " copying: data_500/labels/0197.txt\n",
            " copying: data_500/labels/0198.txt\n",
            " copying: data_500/labels/0199.txt\n",
            " copying: data_500/labels/0200.txt\n",
            " copying: data_500/labels/0201.txt\n",
            " copying: data_500/labels/0202.txt\n",
            " copying: data_500/labels/0203.txt\n",
            " copying: data_500/labels/0204.txt\n",
            " copying: data_500/labels/0205.txt\n",
            " copying: data_500/labels/0206.txt\n",
            " copying: data_500/labels/0207.txt\n",
            " copying: data_500/labels/0208.txt\n",
            " copying: data_500/labels/0209.txt\n",
            " copying: data_500/labels/0210.txt\n",
            " copying: data_500/labels/0211.txt\n",
            " copying: data_500/labels/0212.txt\n",
            " copying: data_500/labels/0213.txt\n",
            " copying: data_500/labels/0214.txt\n",
            " copying: data_500/labels/0215.txt\n",
            " copying: data_500/labels/0216.txt\n",
            " copying: data_500/labels/0217.txt\n",
            " copying: data_500/labels/0218.txt\n",
            " copying: data_500/labels/0219.txt\n",
            " copying: data_500/labels/0220.txt\n",
            " copying: data_500/labels/0221.txt\n",
            " copying: data_500/labels/0222.txt\n",
            " copying: data_500/labels/0223.txt\n",
            " copying: data_500/labels/0224.txt\n",
            " copying: data_500/labels/0225.txt\n",
            " copying: data_500/labels/0226.txt\n",
            " copying: data_500/labels/0227.txt\n",
            " copying: data_500/labels/0228.txt\n",
            " copying: data_500/labels/0229.txt\n",
            " copying: data_500/labels/0230.txt\n",
            " copying: data_500/labels/0231.txt\n",
            " copying: data_500/labels/0232.txt\n",
            " copying: data_500/labels/0233.txt\n",
            " copying: data_500/labels/0234.txt\n",
            " copying: data_500/labels/0235.txt\n",
            " copying: data_500/labels/0236.txt\n",
            " copying: data_500/labels/0237.txt\n",
            " copying: data_500/labels/0238.txt\n",
            " copying: data_500/labels/0239.txt\n",
            " copying: data_500/labels/0240.txt\n",
            " copying: data_500/labels/0241.txt\n",
            " copying: data_500/labels/0242.txt\n",
            " copying: data_500/labels/0243.txt\n",
            " copying: data_500/labels/0244.txt\n",
            " copying: data_500/labels/0245.txt\n",
            " copying: data_500/labels/0246.txt\n",
            " copying: data_500/labels/0247.txt\n",
            " copying: data_500/labels/0248.txt\n",
            " copying: data_500/labels/0249.txt\n",
            " copying: data_500/labels/0250.txt\n",
            " copying: data_500/labels/0251.txt\n",
            " copying: data_500/labels/0252.txt\n",
            " copying: data_500/labels/0253.txt\n",
            " copying: data_500/labels/0254.txt\n",
            " copying: data_500/labels/0255.txt\n",
            " copying: data_500/labels/0256.txt\n",
            " copying: data_500/labels/0257.txt\n",
            " copying: data_500/labels/0258.txt\n",
            " copying: data_500/labels/0259.txt\n",
            " copying: data_500/labels/0260.txt\n",
            " copying: data_500/labels/0261.txt\n",
            " copying: data_500/labels/0262.txt\n",
            " copying: data_500/labels/0263.txt\n",
            " copying: data_500/labels/0264.txt\n",
            " copying: data_500/labels/0265.txt\n",
            " copying: data_500/labels/0266.txt\n",
            " copying: data_500/labels/0267.txt\n",
            " copying: data_500/labels/0268.txt\n",
            " copying: data_500/labels/0269.txt\n",
            " copying: data_500/labels/0270.txt\n",
            " copying: data_500/labels/0271.txt\n",
            " copying: data_500/labels/0272.txt\n",
            " copying: data_500/labels/0273.txt\n",
            " copying: data_500/labels/0274.txt\n",
            " copying: data_500/labels/0275.txt\n",
            " copying: data_500/labels/0276.txt\n",
            " copying: data_500/labels/0277.txt\n",
            " copying: data_500/labels/0278.txt\n",
            " copying: data_500/labels/0279.txt\n",
            " copying: data_500/labels/0280.txt\n",
            " copying: data_500/labels/0281.txt\n",
            " copying: data_500/labels/0282.txt\n",
            " copying: data_500/labels/0283.txt\n",
            " copying: data_500/labels/0284.txt\n",
            " copying: data_500/labels/0285.txt\n",
            " copying: data_500/labels/0286.txt\n",
            " copying: data_500/labels/0287.txt\n",
            " copying: data_500/labels/0288.txt\n",
            " copying: data_500/labels/0289.txt\n",
            " copying: data_500/labels/0290.txt\n",
            " copying: data_500/labels/0291.txt\n",
            " copying: data_500/labels/0292.txt\n",
            " copying: data_500/labels/0293.txt\n",
            " copying: data_500/labels/0294.txt\n",
            " copying: data_500/labels/0295.txt\n",
            " copying: data_500/labels/0296.txt\n",
            " copying: data_500/labels/0297.txt\n",
            " copying: data_500/labels/0298.txt\n",
            " copying: data_500/labels/0299.txt\n",
            " copying: data_500/labels/0300.txt\n",
            " copying: data_500/labels/0301.txt\n",
            " copying: data_500/labels/0302.txt\n",
            " copying: data_500/labels/0303.txt\n",
            " copying: data_500/labels/0304.txt\n",
            " copying: data_500/labels/0305.txt\n",
            " copying: data_500/labels/0306.txt\n",
            " copying: data_500/labels/0307.txt\n",
            " copying: data_500/labels/0308.txt\n",
            " copying: data_500/labels/0309.txt\n",
            " copying: data_500/labels/0310.txt\n",
            " copying: data_500/labels/0311.txt\n",
            " copying: data_500/labels/0312.txt\n",
            " copying: data_500/labels/0313.txt\n",
            " copying: data_500/labels/0314.txt\n",
            " copying: data_500/labels/0315.txt\n",
            " copying: data_500/labels/0316.txt\n",
            " copying: data_500/labels/0317.txt\n",
            " copying: data_500/labels/0318.txt\n",
            " copying: data_500/labels/0319.txt\n",
            " copying: data_500/labels/0320.txt\n",
            " copying: data_500/labels/0321.txt\n",
            " copying: data_500/labels/0322.txt\n",
            " copying: data_500/labels/0323.txt\n",
            " copying: data_500/labels/0324.txt\n",
            " copying: data_500/labels/0325.txt\n",
            " copying: data_500/labels/0326.txt\n",
            " copying: data_500/labels/0327.txt\n",
            " copying: data_500/labels/0328.txt\n",
            " copying: data_500/labels/0329.txt\n",
            " copying: data_500/labels/0330.txt\n",
            " copying: data_500/labels/0331.txt\n",
            " copying: data_500/labels/0332.txt\n",
            " copying: data_500/labels/0333.txt\n",
            " copying: data_500/labels/0334.txt\n",
            " copying: data_500/labels/0335.txt\n",
            " copying: data_500/labels/0336.txt\n",
            " copying: data_500/labels/0337.txt\n",
            " copying: data_500/labels/0338.txt\n",
            " copying: data_500/labels/0339.txt\n",
            " copying: data_500/labels/0340.txt\n",
            " copying: data_500/labels/0341.txt\n",
            " copying: data_500/labels/0342.txt\n",
            " copying: data_500/labels/0343.txt\n",
            " copying: data_500/labels/0344.txt\n",
            " copying: data_500/labels/0345.txt\n",
            " copying: data_500/labels/0346.txt\n",
            " copying: data_500/labels/0347.txt\n",
            " copying: data_500/labels/0348.txt\n",
            " copying: data_500/labels/0349.txt\n",
            " copying: data_500/labels/0350.txt\n",
            " copying: data_500/labels/0351.txt\n",
            " copying: data_500/labels/0352.txt\n",
            " copying: data_500/labels/0353.txt\n",
            " copying: data_500/labels/0354.txt\n",
            " copying: data_500/labels/0355.txt\n",
            " copying: data_500/labels/0356.txt\n",
            " copying: data_500/labels/0357.txt\n",
            " copying: data_500/labels/0358.txt\n",
            " copying: data_500/labels/0359.txt\n",
            " copying: data_500/labels/0360.txt\n",
            " copying: data_500/labels/0361.txt\n",
            " copying: data_500/labels/0362.txt\n",
            " copying: data_500/labels/0363.txt\n",
            " copying: data_500/labels/0364.txt\n",
            " copying: data_500/labels/0365.txt\n",
            " copying: data_500/labels/0366.txt\n",
            " copying: data_500/labels/0367.txt\n",
            " copying: data_500/labels/0368.txt\n",
            " copying: data_500/labels/0369.txt\n",
            " copying: data_500/labels/0370.txt\n",
            " copying: data_500/labels/0371.txt\n",
            " copying: data_500/labels/0372.txt\n",
            " copying: data_500/labels/0373.txt\n",
            " copying: data_500/labels/0374.txt\n",
            " copying: data_500/labels/0375.txt\n",
            " copying: data_500/labels/0376.txt\n",
            " copying: data_500/labels/0377.txt\n",
            " copying: data_500/labels/0378.txt\n",
            " copying: data_500/labels/0379.txt\n",
            " copying: data_500/labels/0380.txt\n",
            " copying: data_500/labels/0381.txt\n",
            " copying: data_500/labels/0382.txt\n",
            " copying: data_500/labels/0383.txt\n",
            " copying: data_500/labels/0384.txt\n",
            " copying: data_500/labels/0385.txt\n",
            " copying: data_500/labels/0386.txt\n",
            " copying: data_500/labels/0387.txt\n",
            " copying: data_500/labels/0388.txt\n",
            " copying: data_500/labels/0389.txt\n",
            " copying: data_500/labels/0390.txt\n",
            " copying: data_500/labels/0391.txt\n",
            " copying: data_500/labels/0392.txt\n",
            " copying: data_500/labels/0393.txt\n",
            " copying: data_500/labels/0394.txt\n",
            " copying: data_500/labels/0395.txt\n",
            " copying: data_500/labels/0396.txt\n",
            " copying: data_500/labels/0397.txt\n",
            " copying: data_500/labels/0398.txt\n",
            " copying: data_500/labels/0399.txt\n",
            " copying: data_500/labels/0400.txt\n",
            " copying: data_500/labels/0401.txt\n",
            " copying: data_500/labels/0402.txt\n",
            " copying: data_500/labels/0403.txt\n",
            " copying: data_500/labels/0404.txt\n",
            " copying: data_500/labels/0405.txt\n",
            " copying: data_500/labels/0406.txt\n",
            " copying: data_500/labels/0407.txt\n",
            " copying: data_500/labels/0408.txt\n",
            " copying: data_500/labels/0409.txt\n",
            " copying: data_500/labels/0410.txt\n",
            " copying: data_500/labels/0411.txt\n",
            " copying: data_500/labels/0412.txt\n",
            " copying: data_500/labels/0413.txt\n",
            " copying: data_500/labels/0414.txt\n",
            " copying: data_500/labels/0415.txt\n",
            " copying: data_500/labels/0416.txt\n",
            " copying: data_500/labels/0417.txt\n",
            " copying: data_500/labels/0418.txt\n",
            " copying: data_500/labels/0419.txt\n",
            " copying: data_500/labels/0420.txt\n",
            " copying: data_500/labels/0421.txt\n",
            " copying: data_500/labels/0422.txt\n",
            " copying: data_500/labels/0423.txt\n",
            " copying: data_500/labels/0424.txt\n",
            " copying: data_500/labels/0425.txt\n",
            " copying: data_500/labels/0426.txt\n",
            " copying: data_500/labels/0427.txt\n",
            " copying: data_500/labels/0428.txt\n",
            " copying: data_500/labels/0429.txt\n",
            " copying: data_500/labels/0430.txt\n",
            " copying: data_500/labels/0431.txt\n",
            " copying: data_500/labels/0432.txt\n",
            " copying: data_500/labels/0433.txt\n",
            " copying: data_500/labels/0434.txt\n",
            " copying: data_500/labels/0435.txt\n",
            " copying: data_500/labels/0436.txt\n",
            " copying: data_500/labels/0437.txt\n",
            " copying: data_500/labels/0438.txt\n",
            " copying: data_500/labels/0439.txt\n",
            " copying: data_500/labels/0440.txt\n",
            " copying: data_500/labels/0441.txt\n",
            " copying: data_500/labels/0442.txt\n",
            " copying: data_500/labels/0443.txt\n",
            " copying: data_500/labels/0444.txt\n",
            " copying: data_500/labels/0445.txt\n",
            " copying: data_500/labels/0446.txt\n",
            " copying: data_500/labels/0447.txt\n",
            " copying: data_500/labels/0448.txt\n",
            " copying: data_500/labels/0449.txt\n",
            " copying: data_500/labels/0450.txt\n",
            " copying: data_500/labels/0451.txt\n",
            " copying: data_500/labels/0452.txt\n",
            " copying: data_500/labels/0453.txt\n",
            " copying: data_500/labels/0454.txt\n",
            " copying: data_500/labels/0455.txt\n",
            " copying: data_500/labels/0456.txt\n",
            " copying: data_500/labels/0457.txt\n",
            " copying: data_500/labels/0458.txt\n",
            " copying: data_500/labels/0459.txt\n",
            " copying: data_500/labels/0460.txt\n",
            " copying: data_500/labels/0461.txt\n",
            " copying: data_500/labels/0462.txt\n",
            " copying: data_500/labels/0463.txt\n",
            " copying: data_500/labels/0464.txt\n",
            " copying: data_500/labels/0465.txt\n",
            " copying: data_500/labels/0466.txt\n",
            " copying: data_500/labels/0467.txt\n",
            " copying: data_500/labels/0468.txt\n",
            " copying: data_500/labels/0469.txt\n",
            " copying: data_500/labels/0470.txt\n",
            " copying: data_500/labels/0471.txt\n",
            " copying: data_500/labels/0472.txt\n",
            " copying: data_500/labels/0473.txt\n",
            " copying: data_500/labels/0474.txt\n",
            " copying: data_500/labels/0475.txt\n",
            " copying: data_500/labels/0476.txt\n",
            " copying: data_500/labels/0477.txt\n",
            " copying: data_500/labels/0478.txt\n",
            " copying: data_500/labels/0479.txt\n",
            " copying: data_500/labels/0480.txt\n",
            " copying: data_500/labels/0481.txt\n",
            " copying: data_500/labels/0482.txt\n",
            " copying: data_500/labels/0483.txt\n",
            " copying: data_500/labels/0484.txt\n",
            " copying: data_500/labels/0485.txt\n",
            " copying: data_500/labels/0486.txt\n",
            " copying: data_500/labels/0487.txt\n",
            " copying: data_500/labels/0488.txt\n",
            " copying: data_500/labels/0489.txt\n",
            " copying: data_500/labels/0490.txt\n",
            " copying: data_500/labels/0491.txt\n",
            " copying: data_500/labels/0492.txt\n",
            " copying: data_500/labels/0493.txt\n",
            " copying: data_500/labels/0494.txt\n",
            " copying: data_500/labels/0495.txt\n",
            " copying: data_500/labels/0496.txt\n",
            " copying: data_500/labels/0497.txt\n",
            " copying: data_500/labels/0498.txt\n",
            " copying: data_500/labels/0499.txt\n",
            " copying: data_500/labels/0500.txt\n",
            " copying: data_500/test_csv.csv\n",
            " copying: data_500/train_csv.csv\n",
            "Archive:  fixed.zip\n",
            "   creating: /content/data_500/images/\n",
            "  inflating: /content/data_500/images/0001.jpg  \n",
            "  inflating: /content/data_500/images/0002.jpg  \n",
            "  inflating: /content/data_500/images/0003.jpg  \n",
            "  inflating: /content/data_500/images/0004.jpg  \n",
            "  inflating: /content/data_500/images/0005.jpg  \n",
            "  inflating: /content/data_500/images/0006.jpg  \n",
            "  inflating: /content/data_500/images/0007.jpg  \n",
            "  inflating: /content/data_500/images/0008.jpg  \n",
            "  inflating: /content/data_500/images/0009.jpg  \n",
            "  inflating: /content/data_500/images/0010.jpg  \n",
            "  inflating: /content/data_500/images/0011.jpg  \n",
            "  inflating: /content/data_500/images/0012.jpg  \n",
            "  inflating: /content/data_500/images/0013.jpg  \n",
            "  inflating: /content/data_500/images/0014.jpg  \n",
            "  inflating: /content/data_500/images/0015.jpg  \n",
            "  inflating: /content/data_500/images/0016.jpg  \n",
            "  inflating: /content/data_500/images/0017.jpg  \n",
            "  inflating: /content/data_500/images/0018.jpg  \n",
            "  inflating: /content/data_500/images/0019.jpg  \n",
            "  inflating: /content/data_500/images/0020.jpg  \n",
            "  inflating: /content/data_500/images/0021.jpg  \n",
            "  inflating: /content/data_500/images/0022.jpg  \n",
            "  inflating: /content/data_500/images/0023.jpg  \n",
            "  inflating: /content/data_500/images/0024.jpg  \n",
            "  inflating: /content/data_500/images/0025.jpg  \n",
            "  inflating: /content/data_500/images/0026.jpg  \n",
            "  inflating: /content/data_500/images/0027.jpg  \n",
            "  inflating: /content/data_500/images/0028.jpg  \n",
            "  inflating: /content/data_500/images/0029.jpg  \n",
            "  inflating: /content/data_500/images/0030.jpg  \n",
            "  inflating: /content/data_500/images/0031.jpg  \n",
            "  inflating: /content/data_500/images/0032.jpg  \n",
            "  inflating: /content/data_500/images/0033.jpg  \n",
            "  inflating: /content/data_500/images/0034.jpg  \n",
            "  inflating: /content/data_500/images/0035.jpg  \n",
            "  inflating: /content/data_500/images/0036.jpg  \n",
            "  inflating: /content/data_500/images/0037.jpg  \n",
            "  inflating: /content/data_500/images/0038.jpg  \n",
            "  inflating: /content/data_500/images/0039.jpg  \n",
            "  inflating: /content/data_500/images/0040.jpg  \n",
            "  inflating: /content/data_500/images/0041.jpg  \n",
            "  inflating: /content/data_500/images/0042.jpg  \n",
            "  inflating: /content/data_500/images/0043.jpg  \n",
            "  inflating: /content/data_500/images/0044.jpg  \n",
            "  inflating: /content/data_500/images/0045.jpg  \n",
            "  inflating: /content/data_500/images/0046.jpg  \n",
            "  inflating: /content/data_500/images/0047.jpg  \n",
            "  inflating: /content/data_500/images/0048.jpg  \n",
            "  inflating: /content/data_500/images/0049.jpg  \n",
            "  inflating: /content/data_500/images/0050.jpg  \n",
            "  inflating: /content/data_500/images/0051.jpg  \n",
            "  inflating: /content/data_500/images/0052.jpg  \n",
            "  inflating: /content/data_500/images/0053.jpg  \n",
            "  inflating: /content/data_500/images/0054.jpg  \n",
            "  inflating: /content/data_500/images/0055.jpg  \n",
            "  inflating: /content/data_500/images/0056.jpg  \n",
            "  inflating: /content/data_500/images/0057.jpg  \n",
            "  inflating: /content/data_500/images/0058.jpg  \n",
            "  inflating: /content/data_500/images/0059.jpg  \n",
            "  inflating: /content/data_500/images/0060.jpg  \n",
            "  inflating: /content/data_500/images/0061.jpg  \n",
            "  inflating: /content/data_500/images/0062.jpg  \n",
            "  inflating: /content/data_500/images/0063.jpg  \n",
            "  inflating: /content/data_500/images/0064.jpg  \n",
            "  inflating: /content/data_500/images/0065.jpg  \n",
            "  inflating: /content/data_500/images/0066.jpg  \n",
            "  inflating: /content/data_500/images/0067.jpg  \n",
            "  inflating: /content/data_500/images/0068.jpg  \n",
            "  inflating: /content/data_500/images/0069.jpg  \n",
            "  inflating: /content/data_500/images/0070.jpg  \n",
            "  inflating: /content/data_500/images/0071.jpg  \n",
            "  inflating: /content/data_500/images/0072.jpg  \n",
            "  inflating: /content/data_500/images/0073.jpg  \n",
            "  inflating: /content/data_500/images/0074.jpg  \n",
            "  inflating: /content/data_500/images/0075.jpg  \n",
            "  inflating: /content/data_500/images/0076.jpg  \n",
            "  inflating: /content/data_500/images/0077.jpg  \n",
            "  inflating: /content/data_500/images/0078.jpg  \n",
            "  inflating: /content/data_500/images/0079.jpg  \n",
            "  inflating: /content/data_500/images/0080.jpg  \n",
            "  inflating: /content/data_500/images/0081.jpg  \n",
            "  inflating: /content/data_500/images/0082.jpg  \n",
            "  inflating: /content/data_500/images/0083.jpg  \n",
            "  inflating: /content/data_500/images/0084.jpg  \n",
            "  inflating: /content/data_500/images/0085.jpg  \n",
            "  inflating: /content/data_500/images/0086.jpg  \n",
            "  inflating: /content/data_500/images/0087.jpg  \n",
            "  inflating: /content/data_500/images/0088.jpg  \n",
            "  inflating: /content/data_500/images/0089.jpg  \n",
            "  inflating: /content/data_500/images/0090.jpg  \n",
            "  inflating: /content/data_500/images/0091.jpg  \n",
            "  inflating: /content/data_500/images/0092.jpg  \n",
            "  inflating: /content/data_500/images/0093.jpg  \n",
            "  inflating: /content/data_500/images/0094.jpg  \n",
            "  inflating: /content/data_500/images/0095.jpg  \n",
            "  inflating: /content/data_500/images/0096.jpg  \n",
            "  inflating: /content/data_500/images/0097.jpg  \n",
            "  inflating: /content/data_500/images/0098.jpg  \n",
            "  inflating: /content/data_500/images/0099.jpg  \n",
            "  inflating: /content/data_500/images/0100.jpg  \n",
            "  inflating: /content/data_500/images/0101.jpg  \n",
            "  inflating: /content/data_500/images/0102.jpg  \n",
            "  inflating: /content/data_500/images/0103.jpg  \n",
            "  inflating: /content/data_500/images/0104.jpg  \n",
            "  inflating: /content/data_500/images/0105.jpg  \n",
            "  inflating: /content/data_500/images/0106.jpg  \n",
            "  inflating: /content/data_500/images/0107.jpg  \n",
            "  inflating: /content/data_500/images/0108.jpg  \n",
            "  inflating: /content/data_500/images/0109.jpg  \n",
            "  inflating: /content/data_500/images/0110.jpg  \n",
            "  inflating: /content/data_500/images/0111.jpg  \n",
            "  inflating: /content/data_500/images/0112.jpg  \n",
            "  inflating: /content/data_500/images/0113.jpg  \n",
            "  inflating: /content/data_500/images/0114.jpg  \n",
            "  inflating: /content/data_500/images/0115.jpg  \n",
            "  inflating: /content/data_500/images/0116.jpg  \n",
            "  inflating: /content/data_500/images/0117.jpg  \n",
            "  inflating: /content/data_500/images/0118.jpg  \n",
            "  inflating: /content/data_500/images/0119.jpg  \n",
            "  inflating: /content/data_500/images/0120.jpg  \n",
            "  inflating: /content/data_500/images/0121.jpg  \n",
            "  inflating: /content/data_500/images/0122.jpg  \n",
            "  inflating: /content/data_500/images/0123.jpg  \n",
            "  inflating: /content/data_500/images/0124.jpg  \n",
            "  inflating: /content/data_500/images/0125.jpg  \n",
            "  inflating: /content/data_500/images/0126.jpg  \n",
            "  inflating: /content/data_500/images/0127.jpg  \n",
            "  inflating: /content/data_500/images/0128.jpg  \n",
            "  inflating: /content/data_500/images/0129.jpg  \n",
            "  inflating: /content/data_500/images/0130.jpg  \n",
            "  inflating: /content/data_500/images/0131.jpg  \n",
            "  inflating: /content/data_500/images/0132.jpg  \n",
            "  inflating: /content/data_500/images/0133.jpg  \n",
            "  inflating: /content/data_500/images/0134.jpg  \n",
            "  inflating: /content/data_500/images/0135.jpg  \n",
            "  inflating: /content/data_500/images/0136.jpg  \n",
            "  inflating: /content/data_500/images/0137.jpg  \n",
            "  inflating: /content/data_500/images/0138.jpg  \n",
            "  inflating: /content/data_500/images/0139.jpg  \n",
            "  inflating: /content/data_500/images/0140.jpg  \n",
            "  inflating: /content/data_500/images/0141.jpg  \n",
            "  inflating: /content/data_500/images/0142.jpg  \n",
            "  inflating: /content/data_500/images/0143.jpg  \n",
            "  inflating: /content/data_500/images/0144.jpg  \n",
            "  inflating: /content/data_500/images/0145.jpg  \n",
            "  inflating: /content/data_500/images/0146.jpg  \n",
            "  inflating: /content/data_500/images/0147.jpg  \n",
            "  inflating: /content/data_500/images/0148.jpg  \n",
            "  inflating: /content/data_500/images/0149.jpg  \n",
            "  inflating: /content/data_500/images/0150.jpg  \n",
            "  inflating: /content/data_500/images/0151.jpg  \n",
            "  inflating: /content/data_500/images/0152.jpg  \n",
            "  inflating: /content/data_500/images/0153.jpg  \n",
            "  inflating: /content/data_500/images/0154.jpg  \n",
            "  inflating: /content/data_500/images/0155.jpg  \n",
            "  inflating: /content/data_500/images/0156.jpg  \n",
            "  inflating: /content/data_500/images/0157.jpg  \n",
            "  inflating: /content/data_500/images/0158.jpg  \n",
            "  inflating: /content/data_500/images/0159.jpg  \n",
            "  inflating: /content/data_500/images/0160.jpg  \n",
            "  inflating: /content/data_500/images/0161.jpg  \n",
            "  inflating: /content/data_500/images/0162.jpg  \n",
            "  inflating: /content/data_500/images/0163.jpg  \n",
            "  inflating: /content/data_500/images/0164.jpg  \n",
            "  inflating: /content/data_500/images/0165.jpg  \n",
            "  inflating: /content/data_500/images/0166.jpg  \n",
            "  inflating: /content/data_500/images/0167.jpg  \n",
            "  inflating: /content/data_500/images/0168.jpg  \n",
            "  inflating: /content/data_500/images/0169.jpg  \n",
            "  inflating: /content/data_500/images/0170.jpg  \n",
            "  inflating: /content/data_500/images/0171.jpg  \n",
            "  inflating: /content/data_500/images/0172.jpg  \n",
            "  inflating: /content/data_500/images/0173.jpg  \n",
            "  inflating: /content/data_500/images/0174.jpg  \n",
            "  inflating: /content/data_500/images/0175.jpg  \n",
            "  inflating: /content/data_500/images/0176.jpg  \n",
            "  inflating: /content/data_500/images/0177.jpg  \n",
            "  inflating: /content/data_500/images/0178.jpg  \n",
            "  inflating: /content/data_500/images/0179.jpg  \n",
            "  inflating: /content/data_500/images/0180.jpg  \n",
            "  inflating: /content/data_500/images/0181.jpg  \n",
            "  inflating: /content/data_500/images/0182.jpg  \n",
            "  inflating: /content/data_500/images/0183.jpg  \n",
            "  inflating: /content/data_500/images/0184.jpg  \n",
            "  inflating: /content/data_500/images/0185.jpg  \n",
            "  inflating: /content/data_500/images/0186.jpg  \n",
            "  inflating: /content/data_500/images/0187.jpg  \n",
            "  inflating: /content/data_500/images/0188.jpg  \n",
            "  inflating: /content/data_500/images/0189.jpg  \n",
            "  inflating: /content/data_500/images/0190.jpg  \n",
            "  inflating: /content/data_500/images/0191.jpg  \n",
            "  inflating: /content/data_500/images/0192.jpg  \n",
            "  inflating: /content/data_500/images/0193.jpg  \n",
            "  inflating: /content/data_500/images/0194.jpg  \n",
            "  inflating: /content/data_500/images/0195.jpg  \n",
            "  inflating: /content/data_500/images/0196.jpg  \n",
            "  inflating: /content/data_500/images/0197.jpg  \n",
            "  inflating: /content/data_500/images/0198.jpg  \n",
            "  inflating: /content/data_500/images/0199.jpg  \n",
            "  inflating: /content/data_500/images/0200.jpg  \n",
            "  inflating: /content/data_500/images/0201.jpg  \n",
            "  inflating: /content/data_500/images/0202.jpg  \n",
            "  inflating: /content/data_500/images/0203.jpg  \n",
            "  inflating: /content/data_500/images/0204.jpg  \n",
            "  inflating: /content/data_500/images/0205.jpg  \n",
            "  inflating: /content/data_500/images/0206.jpg  \n",
            "  inflating: /content/data_500/images/0207.jpg  \n",
            "  inflating: /content/data_500/images/0208.jpg  \n",
            "  inflating: /content/data_500/images/0209.jpg  \n",
            "  inflating: /content/data_500/images/0210.jpg  \n",
            "  inflating: /content/data_500/images/0211.jpg  \n",
            "  inflating: /content/data_500/images/0212.jpg  \n",
            "  inflating: /content/data_500/images/0213.jpg  \n",
            "  inflating: /content/data_500/images/0214.jpg  \n",
            "  inflating: /content/data_500/images/0215.jpg  \n",
            "  inflating: /content/data_500/images/0216.jpg  \n",
            "  inflating: /content/data_500/images/0217.jpg  \n",
            "  inflating: /content/data_500/images/0218.jpg  \n",
            "  inflating: /content/data_500/images/0219.jpg  \n",
            "  inflating: /content/data_500/images/0220.jpg  \n",
            "  inflating: /content/data_500/images/0221.jpg  \n",
            "  inflating: /content/data_500/images/0222.jpg  \n",
            "  inflating: /content/data_500/images/0223.jpg  \n",
            "  inflating: /content/data_500/images/0224.jpg  \n",
            "  inflating: /content/data_500/images/0225.jpg  \n",
            "  inflating: /content/data_500/images/0226.jpg  \n",
            "  inflating: /content/data_500/images/0227.jpg  \n",
            "  inflating: /content/data_500/images/0228.jpg  \n",
            "  inflating: /content/data_500/images/0229.jpg  \n",
            "  inflating: /content/data_500/images/0230.jpg  \n",
            "  inflating: /content/data_500/images/0231.jpg  \n",
            "  inflating: /content/data_500/images/0232.jpg  \n",
            "  inflating: /content/data_500/images/0233.jpg  \n",
            "  inflating: /content/data_500/images/0234.jpg  \n",
            "  inflating: /content/data_500/images/0235.jpg  \n",
            "  inflating: /content/data_500/images/0236.jpg  \n",
            "  inflating: /content/data_500/images/0237.jpg  \n",
            "  inflating: /content/data_500/images/0238.jpg  \n",
            "  inflating: /content/data_500/images/0239.jpg  \n",
            "  inflating: /content/data_500/images/0240.jpg  \n",
            "  inflating: /content/data_500/images/0241.jpg  \n",
            "  inflating: /content/data_500/images/0242.jpg  \n",
            "  inflating: /content/data_500/images/0243.jpg  \n",
            "  inflating: /content/data_500/images/0244.jpg  \n",
            "  inflating: /content/data_500/images/0245.jpg  \n",
            "  inflating: /content/data_500/images/0246.jpg  \n",
            "  inflating: /content/data_500/images/0247.jpg  \n",
            "  inflating: /content/data_500/images/0248.jpg  \n",
            "  inflating: /content/data_500/images/0249.jpg  \n",
            "  inflating: /content/data_500/images/0250.jpg  \n",
            "  inflating: /content/data_500/images/0251.jpg  \n",
            "  inflating: /content/data_500/images/0252.jpg  \n",
            "  inflating: /content/data_500/images/0253.jpg  \n",
            "  inflating: /content/data_500/images/0254.jpg  \n",
            "  inflating: /content/data_500/images/0255.jpg  \n",
            "  inflating: /content/data_500/images/0256.jpg  \n",
            "  inflating: /content/data_500/images/0257.jpg  \n",
            "  inflating: /content/data_500/images/0258.jpg  \n",
            "  inflating: /content/data_500/images/0259.jpg  \n",
            "  inflating: /content/data_500/images/0260.jpg  \n",
            "  inflating: /content/data_500/images/0261.jpg  \n",
            "  inflating: /content/data_500/images/0262.jpg  \n",
            "  inflating: /content/data_500/images/0263.jpg  \n",
            "  inflating: /content/data_500/images/0264.jpg  \n",
            "  inflating: /content/data_500/images/0265.jpg  \n",
            "  inflating: /content/data_500/images/0266.jpg  \n",
            "  inflating: /content/data_500/images/0267.jpg  \n",
            "  inflating: /content/data_500/images/0268.jpg  \n",
            "  inflating: /content/data_500/images/0269.jpg  \n",
            "  inflating: /content/data_500/images/0270.jpg  \n",
            "  inflating: /content/data_500/images/0271.jpg  \n",
            "  inflating: /content/data_500/images/0272.jpg  \n",
            "  inflating: /content/data_500/images/0273.jpg  \n",
            "  inflating: /content/data_500/images/0274.jpg  \n",
            "  inflating: /content/data_500/images/0275.jpg  \n",
            "  inflating: /content/data_500/images/0276.jpg  \n",
            "  inflating: /content/data_500/images/0277.jpg  \n",
            "  inflating: /content/data_500/images/0278.jpg  \n",
            "  inflating: /content/data_500/images/0279.jpg  \n",
            "  inflating: /content/data_500/images/0280.jpg  \n",
            "  inflating: /content/data_500/images/0281.jpg  \n",
            "  inflating: /content/data_500/images/0282.jpg  \n",
            "  inflating: /content/data_500/images/0283.jpg  \n",
            "  inflating: /content/data_500/images/0284.jpg  \n",
            "  inflating: /content/data_500/images/0285.jpg  \n",
            "  inflating: /content/data_500/images/0286.jpg  \n",
            "  inflating: /content/data_500/images/0287.jpg  \n",
            "  inflating: /content/data_500/images/0288.jpg  \n",
            "  inflating: /content/data_500/images/0289.jpg  \n",
            "  inflating: /content/data_500/images/0290.jpg  \n",
            "  inflating: /content/data_500/images/0291.jpg  \n",
            "  inflating: /content/data_500/images/0292.jpg  \n",
            "  inflating: /content/data_500/images/0293.jpg  \n",
            "  inflating: /content/data_500/images/0294.jpg  \n",
            "  inflating: /content/data_500/images/0295.jpg  \n",
            "  inflating: /content/data_500/images/0296.jpg  \n",
            "  inflating: /content/data_500/images/0297.jpg  \n",
            "  inflating: /content/data_500/images/0298.jpg  \n",
            "  inflating: /content/data_500/images/0299.jpg  \n",
            "  inflating: /content/data_500/images/0300.jpg  \n",
            "  inflating: /content/data_500/images/0301.jpg  \n",
            "  inflating: /content/data_500/images/0302.jpg  \n",
            "  inflating: /content/data_500/images/0303.jpg  \n",
            "  inflating: /content/data_500/images/0304.jpg  \n",
            "  inflating: /content/data_500/images/0305.jpg  \n",
            "  inflating: /content/data_500/images/0306.jpg  \n",
            "  inflating: /content/data_500/images/0307.jpg  \n",
            "  inflating: /content/data_500/images/0308.jpg  \n",
            "  inflating: /content/data_500/images/0309.jpg  \n",
            "  inflating: /content/data_500/images/0310.jpg  \n",
            "  inflating: /content/data_500/images/0311.jpg  \n",
            "  inflating: /content/data_500/images/0312.jpg  \n",
            "  inflating: /content/data_500/images/0313.jpg  \n",
            "  inflating: /content/data_500/images/0314.jpg  \n",
            "  inflating: /content/data_500/images/0315.jpg  \n",
            "  inflating: /content/data_500/images/0316.jpg  \n",
            "  inflating: /content/data_500/images/0317.jpg  \n",
            "  inflating: /content/data_500/images/0318.jpg  \n",
            "  inflating: /content/data_500/images/0319.jpg  \n",
            "  inflating: /content/data_500/images/0320.jpg  \n",
            "  inflating: /content/data_500/images/0321.jpg  \n",
            "  inflating: /content/data_500/images/0322.jpg  \n",
            "  inflating: /content/data_500/images/0323.jpg  \n",
            "  inflating: /content/data_500/images/0324.jpg  \n",
            "  inflating: /content/data_500/images/0325.jpg  \n",
            "  inflating: /content/data_500/images/0326.jpg  \n",
            "  inflating: /content/data_500/images/0327.jpg  \n",
            "  inflating: /content/data_500/images/0328.jpg  \n",
            "  inflating: /content/data_500/images/0329.jpg  \n",
            "  inflating: /content/data_500/images/0330.jpg  \n",
            "  inflating: /content/data_500/images/0331.jpg  \n",
            "  inflating: /content/data_500/images/0332.jpg  \n",
            "  inflating: /content/data_500/images/0333.jpg  \n",
            "  inflating: /content/data_500/images/0334.jpg  \n",
            "  inflating: /content/data_500/images/0335.jpg  \n",
            "  inflating: /content/data_500/images/0336.jpg  \n",
            "  inflating: /content/data_500/images/0337.jpg  \n",
            "  inflating: /content/data_500/images/0338.jpg  \n",
            "  inflating: /content/data_500/images/0339.jpg  \n",
            "  inflating: /content/data_500/images/0340.jpg  \n",
            "  inflating: /content/data_500/images/0341.jpg  \n",
            "  inflating: /content/data_500/images/0342.jpg  \n",
            "  inflating: /content/data_500/images/0343.jpg  \n",
            "  inflating: /content/data_500/images/0344.jpg  \n",
            "  inflating: /content/data_500/images/0345.jpg  \n",
            "  inflating: /content/data_500/images/0346.jpg  \n",
            "  inflating: /content/data_500/images/0347.jpg  \n",
            "  inflating: /content/data_500/images/0348.jpg  \n",
            "  inflating: /content/data_500/images/0349.jpg  \n",
            "  inflating: /content/data_500/images/0350.jpg  \n",
            "  inflating: /content/data_500/images/0351.jpg  \n",
            "  inflating: /content/data_500/images/0352.jpg  \n",
            "  inflating: /content/data_500/images/0353.jpg  \n",
            "  inflating: /content/data_500/images/0354.jpg  \n",
            "  inflating: /content/data_500/images/0355.jpg  \n",
            "  inflating: /content/data_500/images/0356.jpg  \n",
            "  inflating: /content/data_500/images/0357.jpg  \n",
            "  inflating: /content/data_500/images/0358.jpg  \n",
            "  inflating: /content/data_500/images/0359.jpg  \n",
            "  inflating: /content/data_500/images/0360.jpg  \n",
            "  inflating: /content/data_500/images/0361.jpg  \n",
            "  inflating: /content/data_500/images/0362.jpg  \n",
            "  inflating: /content/data_500/images/0363.jpg  \n",
            "  inflating: /content/data_500/images/0364.jpg  \n",
            "  inflating: /content/data_500/images/0365.jpg  \n",
            "  inflating: /content/data_500/images/0366.jpg  \n",
            "  inflating: /content/data_500/images/0367.jpg  \n",
            "  inflating: /content/data_500/images/0368.jpg  \n",
            "  inflating: /content/data_500/images/0369.jpg  \n",
            "  inflating: /content/data_500/images/0370.jpg  \n",
            "  inflating: /content/data_500/images/0371.jpg  \n",
            "  inflating: /content/data_500/images/0372.jpg  \n",
            "  inflating: /content/data_500/images/0373.jpg  \n",
            "  inflating: /content/data_500/images/0374.jpg  \n",
            "  inflating: /content/data_500/images/0375.jpg  \n",
            "  inflating: /content/data_500/images/0376.jpg  \n",
            "  inflating: /content/data_500/images/0377.jpg  \n",
            "  inflating: /content/data_500/images/0378.jpg  \n",
            "  inflating: /content/data_500/images/0379.jpg  \n",
            "  inflating: /content/data_500/images/0380.jpg  \n",
            "  inflating: /content/data_500/images/0381.jpg  \n",
            "  inflating: /content/data_500/images/0382.jpg  \n",
            "  inflating: /content/data_500/images/0383.jpg  \n",
            "  inflating: /content/data_500/images/0384.jpg  \n",
            "  inflating: /content/data_500/images/0385.jpg  \n",
            "  inflating: /content/data_500/images/0386.jpg  \n",
            "  inflating: /content/data_500/images/0387.jpg  \n",
            "  inflating: /content/data_500/images/0388.jpg  \n",
            "  inflating: /content/data_500/images/0389.jpg  \n",
            "  inflating: /content/data_500/images/0390.jpg  \n",
            "  inflating: /content/data_500/images/0391.jpg  \n",
            "  inflating: /content/data_500/images/0392.jpg  \n",
            "  inflating: /content/data_500/images/0393.jpg  \n",
            "  inflating: /content/data_500/images/0394.jpg  \n",
            "  inflating: /content/data_500/images/0395.jpg  \n",
            "  inflating: /content/data_500/images/0396.jpg  \n",
            "  inflating: /content/data_500/images/0397.jpg  \n",
            "  inflating: /content/data_500/images/0398.jpg  \n",
            "  inflating: /content/data_500/images/0399.jpg  \n",
            "  inflating: /content/data_500/images/0400.jpg  \n",
            "  inflating: /content/data_500/images/0401.jpg  \n",
            "  inflating: /content/data_500/images/0402.jpg  \n",
            "  inflating: /content/data_500/images/0403.jpg  \n",
            "  inflating: /content/data_500/images/0404.jpg  \n",
            "  inflating: /content/data_500/images/0405.jpg  \n",
            "  inflating: /content/data_500/images/0406.jpg  \n",
            "  inflating: /content/data_500/images/0407.jpg  \n",
            "  inflating: /content/data_500/images/0408.jpg  \n",
            "  inflating: /content/data_500/images/0409.jpg  \n",
            "  inflating: /content/data_500/images/0410.jpg  \n",
            "  inflating: /content/data_500/images/0411.jpg  \n",
            "  inflating: /content/data_500/images/0412.jpg  \n",
            "  inflating: /content/data_500/images/0413.jpg  \n",
            "  inflating: /content/data_500/images/0414.jpg  \n",
            "  inflating: /content/data_500/images/0415.jpg  \n",
            "  inflating: /content/data_500/images/0416.jpg  \n",
            "  inflating: /content/data_500/images/0417.jpg  \n",
            "  inflating: /content/data_500/images/0418.jpg  \n",
            "  inflating: /content/data_500/images/0419.jpg  \n",
            "  inflating: /content/data_500/images/0420.jpg  \n",
            "  inflating: /content/data_500/images/0421.jpg  \n",
            "  inflating: /content/data_500/images/0422.jpg  \n",
            "  inflating: /content/data_500/images/0423.jpg  \n",
            "  inflating: /content/data_500/images/0424.jpg  \n",
            "  inflating: /content/data_500/images/0425.jpg  \n",
            "  inflating: /content/data_500/images/0426.jpg  \n",
            "  inflating: /content/data_500/images/0427.jpg  \n",
            "  inflating: /content/data_500/images/0428.jpg  \n",
            "  inflating: /content/data_500/images/0429.jpg  \n",
            "  inflating: /content/data_500/images/0430.jpg  \n",
            "  inflating: /content/data_500/images/0431.jpg  \n",
            "  inflating: /content/data_500/images/0432.jpg  \n",
            "  inflating: /content/data_500/images/0433.jpg  \n",
            "  inflating: /content/data_500/images/0434.jpg  \n",
            "  inflating: /content/data_500/images/0435.jpg  \n",
            "  inflating: /content/data_500/images/0436.jpg  \n",
            "  inflating: /content/data_500/images/0437.jpg  \n",
            "  inflating: /content/data_500/images/0438.jpg  \n",
            "  inflating: /content/data_500/images/0439.jpg  \n",
            "  inflating: /content/data_500/images/0440.jpg  \n",
            "  inflating: /content/data_500/images/0441.jpg  \n",
            "  inflating: /content/data_500/images/0442.jpg  \n",
            "  inflating: /content/data_500/images/0443.jpg  \n",
            "  inflating: /content/data_500/images/0444.jpg  \n",
            "  inflating: /content/data_500/images/0445.jpg  \n",
            "  inflating: /content/data_500/images/0446.jpg  \n",
            "  inflating: /content/data_500/images/0447.jpg  \n",
            "  inflating: /content/data_500/images/0448.jpg  \n",
            "  inflating: /content/data_500/images/0449.jpg  \n",
            "  inflating: /content/data_500/images/0450.jpg  \n",
            "  inflating: /content/data_500/images/0451.jpg  \n",
            "  inflating: /content/data_500/images/0452.jpg  \n",
            "  inflating: /content/data_500/images/0453.jpg  \n",
            "  inflating: /content/data_500/images/0454.jpg  \n",
            "  inflating: /content/data_500/images/0455.jpg  \n",
            "  inflating: /content/data_500/images/0456.jpg  \n",
            "  inflating: /content/data_500/images/0457.jpg  \n",
            "  inflating: /content/data_500/images/0458.jpg  \n",
            "  inflating: /content/data_500/images/0459.jpg  \n",
            "  inflating: /content/data_500/images/0460.jpg  \n",
            "  inflating: /content/data_500/images/0461.jpg  \n",
            "  inflating: /content/data_500/images/0462.jpg  \n",
            "  inflating: /content/data_500/images/0463.jpg  \n",
            "  inflating: /content/data_500/images/0464.jpg  \n",
            "  inflating: /content/data_500/images/0465.jpg  \n",
            "  inflating: /content/data_500/images/0466.jpg  \n",
            "  inflating: /content/data_500/images/0467.jpg  \n",
            "  inflating: /content/data_500/images/0468.jpg  \n",
            "  inflating: /content/data_500/images/0469.jpg  \n",
            "  inflating: /content/data_500/images/0470.jpg  \n",
            "  inflating: /content/data_500/images/0471.jpg  \n",
            "  inflating: /content/data_500/images/0472.jpg  \n",
            "  inflating: /content/data_500/images/0473.jpg  \n",
            "  inflating: /content/data_500/images/0474.jpg  \n",
            "  inflating: /content/data_500/images/0475.jpg  \n",
            "  inflating: /content/data_500/images/0476.jpg  \n",
            "  inflating: /content/data_500/images/0477.jpg  \n",
            "  inflating: /content/data_500/images/0478.jpg  \n",
            "  inflating: /content/data_500/images/0479.jpg  \n",
            "  inflating: /content/data_500/images/0480.jpg  \n",
            "  inflating: /content/data_500/images/0481.jpg  \n",
            "  inflating: /content/data_500/images/0482.jpg  \n",
            "  inflating: /content/data_500/images/0483.jpg  \n",
            "  inflating: /content/data_500/images/0484.jpg  \n",
            "  inflating: /content/data_500/images/0485.jpg  \n",
            "  inflating: /content/data_500/images/0486.jpg  \n",
            "  inflating: /content/data_500/images/0487.jpg  \n",
            "  inflating: /content/data_500/images/0488.jpg  \n",
            "  inflating: /content/data_500/images/0489.jpg  \n",
            "  inflating: /content/data_500/images/0490.jpg  \n",
            "  inflating: /content/data_500/images/0491.jpg  \n",
            "  inflating: /content/data_500/images/0492.jpg  \n",
            "  inflating: /content/data_500/images/0493.jpg  \n",
            "  inflating: /content/data_500/images/0494.jpg  \n",
            "  inflating: /content/data_500/images/0495.jpg  \n",
            "  inflating: /content/data_500/images/0496.jpg  \n",
            "  inflating: /content/data_500/images/0497.jpg  \n",
            "  inflating: /content/data_500/images/0498.jpg  \n",
            "  inflating: /content/data_500/images/0499.jpg  \n",
            "  inflating: /content/data_500/images/0500.jpg  \n",
            "   creating: /content/data_500/labels/\n",
            "  inflating: /content/data_500/labels/0001.txt  \n",
            "  inflating: /content/data_500/labels/0002.txt  \n",
            "  inflating: /content/data_500/labels/0003.txt  \n",
            "  inflating: /content/data_500/labels/0004.txt  \n",
            "  inflating: /content/data_500/labels/0005.txt  \n",
            "  inflating: /content/data_500/labels/0006.txt  \n",
            "  inflating: /content/data_500/labels/0007.txt  \n",
            "  inflating: /content/data_500/labels/0008.txt  \n",
            "  inflating: /content/data_500/labels/0009.txt  \n",
            "  inflating: /content/data_500/labels/0010.txt  \n",
            "  inflating: /content/data_500/labels/0011.txt  \n",
            "  inflating: /content/data_500/labels/0012.txt  \n",
            "  inflating: /content/data_500/labels/0013.txt  \n",
            "  inflating: /content/data_500/labels/0014.txt  \n",
            "  inflating: /content/data_500/labels/0015.txt  \n",
            "  inflating: /content/data_500/labels/0016.txt  \n",
            "  inflating: /content/data_500/labels/0017.txt  \n",
            "  inflating: /content/data_500/labels/0018.txt  \n",
            "  inflating: /content/data_500/labels/0019.txt  \n",
            "  inflating: /content/data_500/labels/0020.txt  \n",
            "  inflating: /content/data_500/labels/0021.txt  \n",
            "  inflating: /content/data_500/labels/0022.txt  \n",
            "  inflating: /content/data_500/labels/0023.txt  \n",
            "  inflating: /content/data_500/labels/0024.txt  \n",
            "  inflating: /content/data_500/labels/0025.txt  \n",
            "  inflating: /content/data_500/labels/0026.txt  \n",
            "  inflating: /content/data_500/labels/0027.txt  \n",
            "  inflating: /content/data_500/labels/0028.txt  \n",
            "  inflating: /content/data_500/labels/0029.txt  \n",
            "  inflating: /content/data_500/labels/0030.txt  \n",
            "  inflating: /content/data_500/labels/0031.txt  \n",
            "  inflating: /content/data_500/labels/0032.txt  \n",
            "  inflating: /content/data_500/labels/0033.txt  \n",
            "  inflating: /content/data_500/labels/0034.txt  \n",
            "  inflating: /content/data_500/labels/0035.txt  \n",
            "  inflating: /content/data_500/labels/0036.txt  \n",
            "  inflating: /content/data_500/labels/0037.txt  \n",
            "  inflating: /content/data_500/labels/0038.txt  \n",
            "  inflating: /content/data_500/labels/0039.txt  \n",
            "  inflating: /content/data_500/labels/0040.txt  \n",
            "  inflating: /content/data_500/labels/0041.txt  \n",
            "  inflating: /content/data_500/labels/0042.txt  \n",
            "  inflating: /content/data_500/labels/0043.txt  \n",
            "  inflating: /content/data_500/labels/0044.txt  \n",
            "  inflating: /content/data_500/labels/0045.txt  \n",
            "  inflating: /content/data_500/labels/0046.txt  \n",
            "  inflating: /content/data_500/labels/0047.txt  \n",
            "  inflating: /content/data_500/labels/0048.txt  \n",
            "  inflating: /content/data_500/labels/0049.txt  \n",
            "  inflating: /content/data_500/labels/0050.txt  \n",
            "  inflating: /content/data_500/labels/0051.txt  \n",
            "  inflating: /content/data_500/labels/0052.txt  \n",
            "  inflating: /content/data_500/labels/0053.txt  \n",
            "  inflating: /content/data_500/labels/0054.txt  \n",
            "  inflating: /content/data_500/labels/0055.txt  \n",
            "  inflating: /content/data_500/labels/0056.txt  \n",
            "  inflating: /content/data_500/labels/0057.txt  \n",
            "  inflating: /content/data_500/labels/0058.txt  \n",
            "  inflating: /content/data_500/labels/0059.txt  \n",
            "  inflating: /content/data_500/labels/0060.txt  \n",
            "  inflating: /content/data_500/labels/0061.txt  \n",
            "  inflating: /content/data_500/labels/0062.txt  \n",
            "  inflating: /content/data_500/labels/0063.txt  \n",
            "  inflating: /content/data_500/labels/0064.txt  \n",
            "  inflating: /content/data_500/labels/0065.txt  \n",
            "  inflating: /content/data_500/labels/0066.txt  \n",
            "  inflating: /content/data_500/labels/0067.txt  \n",
            "  inflating: /content/data_500/labels/0068.txt  \n",
            "  inflating: /content/data_500/labels/0069.txt  \n",
            "  inflating: /content/data_500/labels/0070.txt  \n",
            "  inflating: /content/data_500/labels/0071.txt  \n",
            "  inflating: /content/data_500/labels/0072.txt  \n",
            "  inflating: /content/data_500/labels/0073.txt  \n",
            "  inflating: /content/data_500/labels/0074.txt  \n",
            "  inflating: /content/data_500/labels/0075.txt  \n",
            "  inflating: /content/data_500/labels/0076.txt  \n",
            "  inflating: /content/data_500/labels/0077.txt  \n",
            "  inflating: /content/data_500/labels/0078.txt  \n",
            "  inflating: /content/data_500/labels/0079.txt  \n",
            "  inflating: /content/data_500/labels/0080.txt  \n",
            "  inflating: /content/data_500/labels/0081.txt  \n",
            "  inflating: /content/data_500/labels/0082.txt  \n",
            "  inflating: /content/data_500/labels/0083.txt  \n",
            "  inflating: /content/data_500/labels/0084.txt  \n",
            "  inflating: /content/data_500/labels/0085.txt  \n",
            "  inflating: /content/data_500/labels/0086.txt  \n",
            "  inflating: /content/data_500/labels/0087.txt  \n",
            "  inflating: /content/data_500/labels/0088.txt  \n",
            "  inflating: /content/data_500/labels/0089.txt  \n",
            "  inflating: /content/data_500/labels/0090.txt  \n",
            "  inflating: /content/data_500/labels/0091.txt  \n",
            "  inflating: /content/data_500/labels/0092.txt  \n",
            "  inflating: /content/data_500/labels/0093.txt  \n",
            "  inflating: /content/data_500/labels/0094.txt  \n",
            "  inflating: /content/data_500/labels/0095.txt  \n",
            "  inflating: /content/data_500/labels/0096.txt  \n",
            "  inflating: /content/data_500/labels/0097.txt  \n",
            "  inflating: /content/data_500/labels/0098.txt  \n",
            "  inflating: /content/data_500/labels/0099.txt  \n",
            "  inflating: /content/data_500/labels/0100.txt  \n",
            "  inflating: /content/data_500/labels/0101.txt  \n",
            "  inflating: /content/data_500/labels/0102.txt  \n",
            "  inflating: /content/data_500/labels/0103.txt  \n",
            "  inflating: /content/data_500/labels/0104.txt  \n",
            "  inflating: /content/data_500/labels/0105.txt  \n",
            "  inflating: /content/data_500/labels/0106.txt  \n",
            "  inflating: /content/data_500/labels/0107.txt  \n",
            "  inflating: /content/data_500/labels/0108.txt  \n",
            "  inflating: /content/data_500/labels/0109.txt  \n",
            "  inflating: /content/data_500/labels/0110.txt  \n",
            "  inflating: /content/data_500/labels/0111.txt  \n",
            "  inflating: /content/data_500/labels/0112.txt  \n",
            "  inflating: /content/data_500/labels/0113.txt  \n",
            "  inflating: /content/data_500/labels/0114.txt  \n",
            "  inflating: /content/data_500/labels/0115.txt  \n",
            "  inflating: /content/data_500/labels/0116.txt  \n",
            "  inflating: /content/data_500/labels/0117.txt  \n",
            "  inflating: /content/data_500/labels/0118.txt  \n",
            "  inflating: /content/data_500/labels/0119.txt  \n",
            "  inflating: /content/data_500/labels/0120.txt  \n",
            "  inflating: /content/data_500/labels/0121.txt  \n",
            "  inflating: /content/data_500/labels/0122.txt  \n",
            "  inflating: /content/data_500/labels/0123.txt  \n",
            "  inflating: /content/data_500/labels/0124.txt  \n",
            "  inflating: /content/data_500/labels/0125.txt  \n",
            "  inflating: /content/data_500/labels/0126.txt  \n",
            "  inflating: /content/data_500/labels/0127.txt  \n",
            "  inflating: /content/data_500/labels/0128.txt  \n",
            "  inflating: /content/data_500/labels/0129.txt  \n",
            "  inflating: /content/data_500/labels/0130.txt  \n",
            "  inflating: /content/data_500/labels/0131.txt  \n",
            "  inflating: /content/data_500/labels/0132.txt  \n",
            "  inflating: /content/data_500/labels/0133.txt  \n",
            "  inflating: /content/data_500/labels/0134.txt  \n",
            "  inflating: /content/data_500/labels/0135.txt  \n",
            "  inflating: /content/data_500/labels/0136.txt  \n",
            "  inflating: /content/data_500/labels/0137.txt  \n",
            "  inflating: /content/data_500/labels/0138.txt  \n",
            "  inflating: /content/data_500/labels/0139.txt  \n",
            "  inflating: /content/data_500/labels/0140.txt  \n",
            "  inflating: /content/data_500/labels/0141.txt  \n",
            "  inflating: /content/data_500/labels/0142.txt  \n",
            "  inflating: /content/data_500/labels/0143.txt  \n",
            "  inflating: /content/data_500/labels/0144.txt  \n",
            "  inflating: /content/data_500/labels/0145.txt  \n",
            "  inflating: /content/data_500/labels/0146.txt  \n",
            "  inflating: /content/data_500/labels/0147.txt  \n",
            "  inflating: /content/data_500/labels/0148.txt  \n",
            "  inflating: /content/data_500/labels/0149.txt  \n",
            "  inflating: /content/data_500/labels/0150.txt  \n",
            "  inflating: /content/data_500/labels/0151.txt  \n",
            "  inflating: /content/data_500/labels/0152.txt  \n",
            "  inflating: /content/data_500/labels/0153.txt  \n",
            "  inflating: /content/data_500/labels/0154.txt  \n",
            "  inflating: /content/data_500/labels/0155.txt  \n",
            "  inflating: /content/data_500/labels/0156.txt  \n",
            "  inflating: /content/data_500/labels/0157.txt  \n",
            "  inflating: /content/data_500/labels/0158.txt  \n",
            "  inflating: /content/data_500/labels/0159.txt  \n",
            "  inflating: /content/data_500/labels/0160.txt  \n",
            "  inflating: /content/data_500/labels/0161.txt  \n",
            "  inflating: /content/data_500/labels/0162.txt  \n",
            "  inflating: /content/data_500/labels/0163.txt  \n",
            "  inflating: /content/data_500/labels/0164.txt  \n",
            "  inflating: /content/data_500/labels/0165.txt  \n",
            "  inflating: /content/data_500/labels/0166.txt  \n",
            "  inflating: /content/data_500/labels/0167.txt  \n",
            "  inflating: /content/data_500/labels/0168.txt  \n",
            "  inflating: /content/data_500/labels/0169.txt  \n",
            "  inflating: /content/data_500/labels/0170.txt  \n",
            "  inflating: /content/data_500/labels/0171.txt  \n",
            "  inflating: /content/data_500/labels/0172.txt  \n",
            "  inflating: /content/data_500/labels/0173.txt  \n",
            "  inflating: /content/data_500/labels/0174.txt  \n",
            "  inflating: /content/data_500/labels/0175.txt  \n",
            "  inflating: /content/data_500/labels/0176.txt  \n",
            "  inflating: /content/data_500/labels/0177.txt  \n",
            "  inflating: /content/data_500/labels/0178.txt  \n",
            "  inflating: /content/data_500/labels/0179.txt  \n",
            "  inflating: /content/data_500/labels/0180.txt  \n",
            "  inflating: /content/data_500/labels/0181.txt  \n",
            "  inflating: /content/data_500/labels/0182.txt  \n",
            "  inflating: /content/data_500/labels/0183.txt  \n",
            "  inflating: /content/data_500/labels/0184.txt  \n",
            "  inflating: /content/data_500/labels/0185.txt  \n",
            "  inflating: /content/data_500/labels/0186.txt  \n",
            "  inflating: /content/data_500/labels/0187.txt  \n",
            "  inflating: /content/data_500/labels/0188.txt  \n",
            "  inflating: /content/data_500/labels/0189.txt  \n",
            "  inflating: /content/data_500/labels/0190.txt  \n",
            "  inflating: /content/data_500/labels/0191.txt  \n",
            "  inflating: /content/data_500/labels/0192.txt  \n",
            "  inflating: /content/data_500/labels/0193.txt  \n",
            "  inflating: /content/data_500/labels/0194.txt  \n",
            "  inflating: /content/data_500/labels/0195.txt  \n",
            "  inflating: /content/data_500/labels/0196.txt  \n",
            "  inflating: /content/data_500/labels/0197.txt  \n",
            "  inflating: /content/data_500/labels/0198.txt  \n",
            "  inflating: /content/data_500/labels/0199.txt  \n",
            "  inflating: /content/data_500/labels/0200.txt  \n",
            "  inflating: /content/data_500/labels/0201.txt  \n",
            "  inflating: /content/data_500/labels/0202.txt  \n",
            "  inflating: /content/data_500/labels/0203.txt  \n",
            "  inflating: /content/data_500/labels/0204.txt  \n",
            "  inflating: /content/data_500/labels/0205.txt  \n",
            "  inflating: /content/data_500/labels/0206.txt  \n",
            "  inflating: /content/data_500/labels/0207.txt  \n",
            "  inflating: /content/data_500/labels/0208.txt  \n",
            "  inflating: /content/data_500/labels/0209.txt  \n",
            "  inflating: /content/data_500/labels/0210.txt  \n",
            "  inflating: /content/data_500/labels/0211.txt  \n",
            "  inflating: /content/data_500/labels/0212.txt  \n",
            "  inflating: /content/data_500/labels/0213.txt  \n",
            "  inflating: /content/data_500/labels/0214.txt  \n",
            "  inflating: /content/data_500/labels/0215.txt  \n",
            "  inflating: /content/data_500/labels/0216.txt  \n",
            "  inflating: /content/data_500/labels/0217.txt  \n",
            "  inflating: /content/data_500/labels/0218.txt  \n",
            "  inflating: /content/data_500/labels/0219.txt  \n",
            "  inflating: /content/data_500/labels/0220.txt  \n",
            "  inflating: /content/data_500/labels/0221.txt  \n",
            "  inflating: /content/data_500/labels/0222.txt  \n",
            "  inflating: /content/data_500/labels/0223.txt  \n",
            "  inflating: /content/data_500/labels/0224.txt  \n",
            "  inflating: /content/data_500/labels/0225.txt  \n",
            "  inflating: /content/data_500/labels/0226.txt  \n",
            "  inflating: /content/data_500/labels/0227.txt  \n",
            "  inflating: /content/data_500/labels/0228.txt  \n",
            "  inflating: /content/data_500/labels/0229.txt  \n",
            "  inflating: /content/data_500/labels/0230.txt  \n",
            "  inflating: /content/data_500/labels/0231.txt  \n",
            "  inflating: /content/data_500/labels/0232.txt  \n",
            "  inflating: /content/data_500/labels/0233.txt  \n",
            "  inflating: /content/data_500/labels/0234.txt  \n",
            "  inflating: /content/data_500/labels/0235.txt  \n",
            "  inflating: /content/data_500/labels/0236.txt  \n",
            "  inflating: /content/data_500/labels/0237.txt  \n",
            "  inflating: /content/data_500/labels/0238.txt  \n",
            "  inflating: /content/data_500/labels/0239.txt  \n",
            "  inflating: /content/data_500/labels/0240.txt  \n",
            "  inflating: /content/data_500/labels/0241.txt  \n",
            "  inflating: /content/data_500/labels/0242.txt  \n",
            "  inflating: /content/data_500/labels/0243.txt  \n",
            "  inflating: /content/data_500/labels/0244.txt  \n",
            "  inflating: /content/data_500/labels/0245.txt  \n",
            "  inflating: /content/data_500/labels/0246.txt  \n",
            "  inflating: /content/data_500/labels/0247.txt  \n",
            "  inflating: /content/data_500/labels/0248.txt  \n",
            "  inflating: /content/data_500/labels/0249.txt  \n",
            "  inflating: /content/data_500/labels/0250.txt  \n",
            "  inflating: /content/data_500/labels/0251.txt  \n",
            "  inflating: /content/data_500/labels/0252.txt  \n",
            "  inflating: /content/data_500/labels/0253.txt  \n",
            "  inflating: /content/data_500/labels/0254.txt  \n",
            "  inflating: /content/data_500/labels/0255.txt  \n",
            "  inflating: /content/data_500/labels/0256.txt  \n",
            "  inflating: /content/data_500/labels/0257.txt  \n",
            "  inflating: /content/data_500/labels/0258.txt  \n",
            "  inflating: /content/data_500/labels/0259.txt  \n",
            "  inflating: /content/data_500/labels/0260.txt  \n",
            "  inflating: /content/data_500/labels/0261.txt  \n",
            "  inflating: /content/data_500/labels/0262.txt  \n",
            "  inflating: /content/data_500/labels/0263.txt  \n",
            "  inflating: /content/data_500/labels/0264.txt  \n",
            "  inflating: /content/data_500/labels/0265.txt  \n",
            "  inflating: /content/data_500/labels/0266.txt  \n",
            "  inflating: /content/data_500/labels/0267.txt  \n",
            "  inflating: /content/data_500/labels/0268.txt  \n",
            "  inflating: /content/data_500/labels/0269.txt  \n",
            "  inflating: /content/data_500/labels/0270.txt  \n",
            "  inflating: /content/data_500/labels/0271.txt  \n",
            "  inflating: /content/data_500/labels/0272.txt  \n",
            "  inflating: /content/data_500/labels/0273.txt  \n",
            "  inflating: /content/data_500/labels/0274.txt  \n",
            "  inflating: /content/data_500/labels/0275.txt  \n",
            "  inflating: /content/data_500/labels/0276.txt  \n",
            "  inflating: /content/data_500/labels/0277.txt  \n",
            "  inflating: /content/data_500/labels/0278.txt  \n",
            "  inflating: /content/data_500/labels/0279.txt  \n",
            "  inflating: /content/data_500/labels/0280.txt  \n",
            "  inflating: /content/data_500/labels/0281.txt  \n",
            "  inflating: /content/data_500/labels/0282.txt  \n",
            "  inflating: /content/data_500/labels/0283.txt  \n",
            "  inflating: /content/data_500/labels/0284.txt  \n",
            "  inflating: /content/data_500/labels/0285.txt  \n",
            "  inflating: /content/data_500/labels/0286.txt  \n",
            "  inflating: /content/data_500/labels/0287.txt  \n",
            "  inflating: /content/data_500/labels/0288.txt  \n",
            "  inflating: /content/data_500/labels/0289.txt  \n",
            "  inflating: /content/data_500/labels/0290.txt  \n",
            "  inflating: /content/data_500/labels/0291.txt  \n",
            "  inflating: /content/data_500/labels/0292.txt  \n",
            "  inflating: /content/data_500/labels/0293.txt  \n",
            "  inflating: /content/data_500/labels/0294.txt  \n",
            "  inflating: /content/data_500/labels/0295.txt  \n",
            "  inflating: /content/data_500/labels/0296.txt  \n",
            "  inflating: /content/data_500/labels/0297.txt  \n",
            "  inflating: /content/data_500/labels/0298.txt  \n",
            "  inflating: /content/data_500/labels/0299.txt  \n",
            "  inflating: /content/data_500/labels/0300.txt  \n",
            "  inflating: /content/data_500/labels/0301.txt  \n",
            "  inflating: /content/data_500/labels/0302.txt  \n",
            "  inflating: /content/data_500/labels/0303.txt  \n",
            "  inflating: /content/data_500/labels/0304.txt  \n",
            "  inflating: /content/data_500/labels/0305.txt  \n",
            "  inflating: /content/data_500/labels/0306.txt  \n",
            "  inflating: /content/data_500/labels/0307.txt  \n",
            "  inflating: /content/data_500/labels/0308.txt  \n",
            "  inflating: /content/data_500/labels/0309.txt  \n",
            "  inflating: /content/data_500/labels/0310.txt  \n",
            "  inflating: /content/data_500/labels/0311.txt  \n",
            "  inflating: /content/data_500/labels/0312.txt  \n",
            "  inflating: /content/data_500/labels/0313.txt  \n",
            "  inflating: /content/data_500/labels/0314.txt  \n",
            "  inflating: /content/data_500/labels/0315.txt  \n",
            "  inflating: /content/data_500/labels/0316.txt  \n",
            "  inflating: /content/data_500/labels/0317.txt  \n",
            "  inflating: /content/data_500/labels/0318.txt  \n",
            "  inflating: /content/data_500/labels/0319.txt  \n",
            "  inflating: /content/data_500/labels/0320.txt  \n",
            "  inflating: /content/data_500/labels/0321.txt  \n",
            "  inflating: /content/data_500/labels/0322.txt  \n",
            "  inflating: /content/data_500/labels/0323.txt  \n",
            "  inflating: /content/data_500/labels/0324.txt  \n",
            "  inflating: /content/data_500/labels/0325.txt  \n",
            "  inflating: /content/data_500/labels/0326.txt  \n",
            "  inflating: /content/data_500/labels/0327.txt  \n",
            "  inflating: /content/data_500/labels/0328.txt  \n",
            "  inflating: /content/data_500/labels/0329.txt  \n",
            "  inflating: /content/data_500/labels/0330.txt  \n",
            "  inflating: /content/data_500/labels/0331.txt  \n",
            "  inflating: /content/data_500/labels/0332.txt  \n",
            "  inflating: /content/data_500/labels/0333.txt  \n",
            "  inflating: /content/data_500/labels/0334.txt  \n",
            "  inflating: /content/data_500/labels/0335.txt  \n",
            "  inflating: /content/data_500/labels/0336.txt  \n",
            "  inflating: /content/data_500/labels/0337.txt  \n",
            "  inflating: /content/data_500/labels/0338.txt  \n",
            "  inflating: /content/data_500/labels/0339.txt  \n",
            "  inflating: /content/data_500/labels/0340.txt  \n",
            "  inflating: /content/data_500/labels/0341.txt  \n",
            "  inflating: /content/data_500/labels/0342.txt  \n",
            "  inflating: /content/data_500/labels/0343.txt  \n",
            "  inflating: /content/data_500/labels/0344.txt  \n",
            "  inflating: /content/data_500/labels/0345.txt  \n",
            "  inflating: /content/data_500/labels/0346.txt  \n",
            "  inflating: /content/data_500/labels/0347.txt  \n",
            "  inflating: /content/data_500/labels/0348.txt  \n",
            "  inflating: /content/data_500/labels/0349.txt  \n",
            "  inflating: /content/data_500/labels/0350.txt  \n",
            "  inflating: /content/data_500/labels/0351.txt  \n",
            "  inflating: /content/data_500/labels/0352.txt  \n",
            "  inflating: /content/data_500/labels/0353.txt  \n",
            "  inflating: /content/data_500/labels/0354.txt  \n",
            "  inflating: /content/data_500/labels/0355.txt  \n",
            "  inflating: /content/data_500/labels/0356.txt  \n",
            "  inflating: /content/data_500/labels/0357.txt  \n",
            "  inflating: /content/data_500/labels/0358.txt  \n",
            "  inflating: /content/data_500/labels/0359.txt  \n",
            "  inflating: /content/data_500/labels/0360.txt  \n",
            "  inflating: /content/data_500/labels/0361.txt  \n",
            "  inflating: /content/data_500/labels/0362.txt  \n",
            "  inflating: /content/data_500/labels/0363.txt  \n",
            "  inflating: /content/data_500/labels/0364.txt  \n",
            "  inflating: /content/data_500/labels/0365.txt  \n",
            "  inflating: /content/data_500/labels/0366.txt  \n",
            "  inflating: /content/data_500/labels/0367.txt  \n",
            "  inflating: /content/data_500/labels/0368.txt  \n",
            "  inflating: /content/data_500/labels/0369.txt  \n",
            "  inflating: /content/data_500/labels/0370.txt  \n",
            "  inflating: /content/data_500/labels/0371.txt  \n",
            "  inflating: /content/data_500/labels/0372.txt  \n",
            "  inflating: /content/data_500/labels/0373.txt  \n",
            "  inflating: /content/data_500/labels/0374.txt  \n",
            "  inflating: /content/data_500/labels/0375.txt  \n",
            "  inflating: /content/data_500/labels/0376.txt  \n",
            "  inflating: /content/data_500/labels/0377.txt  \n",
            "  inflating: /content/data_500/labels/0378.txt  \n",
            "  inflating: /content/data_500/labels/0379.txt  \n",
            "  inflating: /content/data_500/labels/0380.txt  \n",
            "  inflating: /content/data_500/labels/0381.txt  \n",
            "  inflating: /content/data_500/labels/0382.txt  \n",
            "  inflating: /content/data_500/labels/0383.txt  \n",
            "  inflating: /content/data_500/labels/0384.txt  \n",
            "  inflating: /content/data_500/labels/0385.txt  \n",
            "  inflating: /content/data_500/labels/0386.txt  \n",
            "  inflating: /content/data_500/labels/0387.txt  \n",
            "  inflating: /content/data_500/labels/0388.txt  \n",
            "  inflating: /content/data_500/labels/0389.txt  \n",
            "  inflating: /content/data_500/labels/0390.txt  \n",
            "  inflating: /content/data_500/labels/0391.txt  \n",
            "  inflating: /content/data_500/labels/0392.txt  \n",
            "  inflating: /content/data_500/labels/0393.txt  \n",
            "  inflating: /content/data_500/labels/0394.txt  \n",
            "  inflating: /content/data_500/labels/0395.txt  \n",
            "  inflating: /content/data_500/labels/0396.txt  \n",
            "  inflating: /content/data_500/labels/0397.txt  \n",
            "  inflating: /content/data_500/labels/0398.txt  \n",
            "  inflating: /content/data_500/labels/0399.txt  \n",
            "  inflating: /content/data_500/labels/0400.txt  \n",
            "  inflating: /content/data_500/labels/0401.txt  \n",
            "  inflating: /content/data_500/labels/0402.txt  \n",
            "  inflating: /content/data_500/labels/0403.txt  \n",
            "  inflating: /content/data_500/labels/0404.txt  \n",
            "  inflating: /content/data_500/labels/0405.txt  \n",
            "  inflating: /content/data_500/labels/0406.txt  \n",
            "  inflating: /content/data_500/labels/0407.txt  \n",
            "  inflating: /content/data_500/labels/0408.txt  \n",
            "  inflating: /content/data_500/labels/0409.txt  \n",
            "  inflating: /content/data_500/labels/0410.txt  \n",
            "  inflating: /content/data_500/labels/0411.txt  \n",
            "  inflating: /content/data_500/labels/0412.txt  \n",
            "  inflating: /content/data_500/labels/0413.txt  \n",
            "  inflating: /content/data_500/labels/0414.txt  \n",
            "  inflating: /content/data_500/labels/0415.txt  \n",
            "  inflating: /content/data_500/labels/0416.txt  \n",
            "  inflating: /content/data_500/labels/0417.txt  \n",
            "  inflating: /content/data_500/labels/0418.txt  \n",
            "  inflating: /content/data_500/labels/0419.txt  \n",
            "  inflating: /content/data_500/labels/0420.txt  \n",
            "  inflating: /content/data_500/labels/0421.txt  \n",
            "  inflating: /content/data_500/labels/0422.txt  \n",
            "  inflating: /content/data_500/labels/0423.txt  \n",
            "  inflating: /content/data_500/labels/0424.txt  \n",
            "  inflating: /content/data_500/labels/0425.txt  \n",
            "  inflating: /content/data_500/labels/0426.txt  \n",
            "  inflating: /content/data_500/labels/0427.txt  \n",
            "  inflating: /content/data_500/labels/0428.txt  \n",
            "  inflating: /content/data_500/labels/0429.txt  \n",
            "  inflating: /content/data_500/labels/0430.txt  \n",
            "  inflating: /content/data_500/labels/0431.txt  \n",
            "  inflating: /content/data_500/labels/0432.txt  \n",
            "  inflating: /content/data_500/labels/0433.txt  \n",
            "  inflating: /content/data_500/labels/0434.txt  \n",
            "  inflating: /content/data_500/labels/0435.txt  \n",
            "  inflating: /content/data_500/labels/0436.txt  \n",
            "  inflating: /content/data_500/labels/0437.txt  \n",
            "  inflating: /content/data_500/labels/0438.txt  \n",
            "  inflating: /content/data_500/labels/0439.txt  \n",
            "  inflating: /content/data_500/labels/0440.txt  \n",
            "  inflating: /content/data_500/labels/0441.txt  \n",
            "  inflating: /content/data_500/labels/0442.txt  \n",
            "  inflating: /content/data_500/labels/0443.txt  \n",
            "  inflating: /content/data_500/labels/0444.txt  \n",
            "  inflating: /content/data_500/labels/0445.txt  \n",
            "  inflating: /content/data_500/labels/0446.txt  \n",
            "  inflating: /content/data_500/labels/0447.txt  \n",
            "  inflating: /content/data_500/labels/0448.txt  \n",
            "  inflating: /content/data_500/labels/0449.txt  \n",
            "  inflating: /content/data_500/labels/0450.txt  \n",
            "  inflating: /content/data_500/labels/0451.txt  \n",
            "  inflating: /content/data_500/labels/0452.txt  \n",
            "  inflating: /content/data_500/labels/0453.txt  \n",
            "  inflating: /content/data_500/labels/0454.txt  \n",
            "  inflating: /content/data_500/labels/0455.txt  \n",
            "  inflating: /content/data_500/labels/0456.txt  \n",
            "  inflating: /content/data_500/labels/0457.txt  \n",
            "  inflating: /content/data_500/labels/0458.txt  \n",
            "  inflating: /content/data_500/labels/0459.txt  \n",
            "  inflating: /content/data_500/labels/0460.txt  \n",
            "  inflating: /content/data_500/labels/0461.txt  \n",
            "  inflating: /content/data_500/labels/0462.txt  \n",
            "  inflating: /content/data_500/labels/0463.txt  \n",
            "  inflating: /content/data_500/labels/0464.txt  \n",
            "  inflating: /content/data_500/labels/0465.txt  \n",
            "  inflating: /content/data_500/labels/0466.txt  \n",
            "  inflating: /content/data_500/labels/0467.txt  \n",
            "  inflating: /content/data_500/labels/0468.txt  \n",
            "  inflating: /content/data_500/labels/0469.txt  \n",
            "  inflating: /content/data_500/labels/0470.txt  \n",
            "  inflating: /content/data_500/labels/0471.txt  \n",
            "  inflating: /content/data_500/labels/0472.txt  \n",
            "  inflating: /content/data_500/labels/0473.txt  \n",
            "  inflating: /content/data_500/labels/0474.txt  \n",
            "  inflating: /content/data_500/labels/0475.txt  \n",
            "  inflating: /content/data_500/labels/0476.txt  \n",
            "  inflating: /content/data_500/labels/0477.txt  \n",
            "  inflating: /content/data_500/labels/0478.txt  \n",
            "  inflating: /content/data_500/labels/0479.txt  \n",
            "  inflating: /content/data_500/labels/0480.txt  \n",
            "  inflating: /content/data_500/labels/0481.txt  \n",
            "  inflating: /content/data_500/labels/0482.txt  \n",
            "  inflating: /content/data_500/labels/0483.txt  \n",
            "  inflating: /content/data_500/labels/0484.txt  \n",
            "  inflating: /content/data_500/labels/0485.txt  \n",
            "  inflating: /content/data_500/labels/0486.txt  \n",
            "  inflating: /content/data_500/labels/0487.txt  \n",
            "  inflating: /content/data_500/labels/0488.txt  \n",
            "  inflating: /content/data_500/labels/0489.txt  \n",
            "  inflating: /content/data_500/labels/0490.txt  \n",
            "  inflating: /content/data_500/labels/0491.txt  \n",
            "  inflating: /content/data_500/labels/0492.txt  \n",
            "  inflating: /content/data_500/labels/0493.txt  \n",
            "  inflating: /content/data_500/labels/0494.txt  \n",
            "  inflating: /content/data_500/labels/0495.txt  \n",
            "  inflating: /content/data_500/labels/0496.txt  \n",
            "  inflating: /content/data_500/labels/0497.txt  \n",
            "  inflating: /content/data_500/labels/0498.txt  \n",
            "  inflating: /content/data_500/labels/0499.txt  \n",
            "  inflating: /content/data_500/labels/0500.txt  \n",
            "  inflating: /content/data_500/test_csv.csv  \n",
            "  inflating: /content/data_500/train_csv.csv  \n"
          ]
        }
      ],
      "source": [
        "if not os.path.exists(path):\n",
        "  !zip -F \"data_500.zip\" --out \"fixed.zip\"\n",
        "  !unzip \"fixed.zip\" -d \"/content\"\n",
        "else:\n",
        "  print(\"Alert :: DATA ALREADY EXIST !!!!!\")"
      ]
    },
    {
      "cell_type": "code",
      "execution_count": null,
      "metadata": {
        "id": "4k5K_lTM-Ran"
      },
      "outputs": [],
      "source": [
        "import cv2\n",
        "base_path = data_name+\"/images/\"\n",
        "for img in os.listdir(base_path):\n",
        "  read = cv2.imread(base_path + img)\n",
        "  outfile = img.split('.')[0] + '.jpg'\n",
        "  cv2.imwrite(base_path+outfile,read,[int(cv2.IMWRITE_JPEG_QUALITY), 200])"
      ]
    },
    {
      "cell_type": "code",
      "source": [
        "def clean_data(data_name):\n",
        "  base_path = data_name+\"/images/\"\n",
        "  for img in os.listdir(base_path):\n",
        "    read = cv2.imread(base_path + img)\n",
        "    outfile = img.split('.')[0] + '.jpg'\n",
        "    cv2.imwrite(base_path+outfile,read,[int(cv2.IMWRITE_JPEG_QUALITY), 200])\n",
        "  df_train = pd.read_csv(data_name+\"/train_csv.csv\", names = [\"image\", \"label\"])\n",
        "  df_train.head()\n",
        "  df_train[\"image\"] = df_train[\"image\"].apply(lambda x: x.split('.')[0]+\".jpg\")\n",
        "  df_train.head()\n",
        "  df_train.to_csv(\"./\"+data_name+\"/train_csv.csv\",header=False,index=False)\n",
        "  df_test = pd.read_csv(data_name+\"/test_csv.csv\", names = [\"image\", \"label\"])\n",
        "  df_test.head()\n",
        "  df_test[\"image\"] = df_test[\"image\"].apply(lambda x: x.split('.')[0]+\".jpg\")\n",
        "  df_test.head()\n",
        "  df_test.to_csv(\"./\"+data_name+\"/test_csv.csv\",header=False,index=False)"
      ],
      "metadata": {
        "id": "J8LMdONhlkaH"
      },
      "execution_count": null,
      "outputs": []
    },
    {
      "cell_type": "code",
      "source": [
        "clean_data(data_name)"
      ],
      "metadata": {
        "id": "1nwMy7LpItVg"
      },
      "execution_count": null,
      "outputs": []
    },
    {
      "cell_type": "code",
      "execution_count": null,
      "metadata": {
        "id": "w_0_HYxKf0xl"
      },
      "outputs": [],
      "source": [
        "class Compose(object):\n",
        "    def __init__(self, transforms):\n",
        "        self.transforms = transforms\n",
        "\n",
        "    def __call__(self, img, bboxes):\n",
        "        for t in self.transforms:\n",
        "            img, bboxes = t(img), bboxes\n",
        "\n",
        "        return img, bboxes"
      ]
    },
    {
      "cell_type": "code",
      "execution_count": null,
      "metadata": {
        "id": "vUYtx_f5RnGU",
        "colab": {
          "base_uri": "https://localhost:8080/"
        },
        "outputId": "db023ad8-52cf-4913-c8eb-32da4bce8116"
      },
      "outputs": [
        {
          "output_type": "stream",
          "name": "stdout",
          "text": [
            "cuda\n"
          ]
        }
      ],
      "source": [
        "DEVICE = \"cuda\" if torch.cuda.is_available() else \"cpu\"\n",
        "print(DEVICE)"
      ]
    },
    {
      "cell_type": "code",
      "execution_count": null,
      "metadata": {
        "id": "El9FZbdTReqh"
      },
      "outputs": [],
      "source": [
        "LEARNING_RATE = 1e-5\n",
        "BATCH_SIZE = 4 # 64 in original paper but I don't have that much vram, grad accum?\n",
        "WEIGHT_DECAY = 0 #1e-4\n",
        "EPOCHS = 200\n",
        "NUM_WORKERS = 2\n",
        "PIN_MEMORY = True\n",
        "LOAD_MODEL = False\n",
        "LOAD_MODEL_FILE = \"overfit.pth.tar\"\n",
        "IMG_DIR = os.path.join(data_name,\"images\")\n",
        "LABEL_DIR = os.path.join(data_name,\"labels\")"
      ]
    },
    {
      "cell_type": "code",
      "execution_count": null,
      "metadata": {
        "id": "9GZMSJ_kCzyG"
      },
      "outputs": [],
      "source": [
        "def model_evaluation(test_loader,model,loss_fn):\n",
        "  model.eval()\n",
        "\n",
        "  pred_boxes, target_boxes = get_bboxes(\n",
        "            test_loader, model, iou_threshold=0.5, threshold=0.4,device = DEVICE\n",
        "        )\n",
        "\n",
        "  mean_avg_prec = mean_average_precision(\n",
        "              pred_boxes,target_boxes, iou_threshold=0.5, box_format=\"midpoint\"\n",
        "          )\n",
        "\n",
        "  mean_loss = []\n",
        "  for batch_idx, (x, y) in enumerate(test_loader):\n",
        "    x, y = x.to(DEVICE), y.to(DEVICE)\n",
        "    out = model(x)\n",
        "    loss = loss_fn(out, y)\n",
        "    mean_loss.append(loss.item())\n",
        "  \n",
        "  model.train()\n",
        "  return (sum(mean_loss)/(len(mean_loss)+1)),mean_avg_prec\n"
      ]
    },
    {
      "cell_type": "code",
      "execution_count": null,
      "metadata": {
        "id": "vL3Q_EXv8atV"
      },
      "outputs": [],
      "source": [
        "def train_fn(train_loader, model, optimizer, loss_fn):\n",
        "\n",
        "    loop = tqdm(train_loader, leave=True)\n",
        "    mean_loss = []\n",
        "\n",
        "    for batch_idx, (x, y) in enumerate(loop):\n",
        "        x, y = x.to(DEVICE), y.to(DEVICE)\n",
        "        out = model(x)\n",
        "        loss = loss_fn(out, y)\n",
        "        mean_loss.append(loss.item())\n",
        "        optimizer.zero_grad()\n",
        "        loss.backward()\n",
        "        optimizer.step()\n",
        "\n",
        "        # update progress bar\n",
        "        loop.set_postfix(loss=loss.item())\n",
        "    \n",
        "\n",
        "    # print(f\"Mean loss was {sum(mean_loss)/len(mean_loss)}\")\n",
        "\n",
        "    return (sum(mean_loss)/(len(mean_loss)+1))"
      ]
    },
    {
      "cell_type": "code",
      "execution_count": null,
      "metadata": {
        "id": "E6bATAlHRJEv"
      },
      "outputs": [],
      "source": [
        "model = Yolov1(split_size=7, num_boxes=2, num_classes=20)\n",
        "model = model.to(DEVICE)\n",
        "optimizer = optim.Adam(\n",
        "        model.parameters(), lr=LEARNING_RATE, weight_decay=WEIGHT_DECAY\n",
        "    )\n",
        "loss_fn = YoloLoss()"
      ]
    },
    {
      "cell_type": "code",
      "execution_count": null,
      "metadata": {
        "id": "gOHpUx6aTDay"
      },
      "outputs": [],
      "source": [
        "transform = Compose([transforms.Resize((448, 448)), transforms.ToTensor(),])"
      ]
    },
    {
      "cell_type": "code",
      "execution_count": null,
      "metadata": {
        "id": "3HixlWn8S9uI"
      },
      "outputs": [],
      "source": [
        "train_dataset = VOCDataset(\n",
        "        os.path.join(\"/content\",data_name,\"train_csv.csv\"),\n",
        "        transform=transform,\n",
        "        img_dir=IMG_DIR,\n",
        "        label_dir=LABEL_DIR,\n",
        "    )\n",
        "\n",
        "test_dataset = VOCDataset(\n",
        "        os.path.join(\"/content\",data_name,\"test_csv.csv\"), transform=transform, img_dir=IMG_DIR, label_dir=LABEL_DIR,\n",
        "    )"
      ]
    },
    {
      "cell_type": "code",
      "execution_count": null,
      "metadata": {
        "id": "nLNHDDLezGsL"
      },
      "outputs": [],
      "source": [
        "train_loader = DataLoader(\n",
        "        dataset=train_dataset,\n",
        "        batch_size=BATCH_SIZE,\n",
        "        num_workers=NUM_WORKERS,\n",
        "        pin_memory=PIN_MEMORY,\n",
        "        shuffle=True,\n",
        "        drop_last=True,\n",
        "    )\n",
        "\n",
        "test_loader = DataLoader(\n",
        "        dataset=test_dataset,\n",
        "        batch_size=BATCH_SIZE,\n",
        "        num_workers=NUM_WORKERS,\n",
        "        pin_memory=PIN_MEMORY,\n",
        "        shuffle=True,\n",
        "        drop_last=True,\n",
        "    )"
      ]
    },
    {
      "cell_type": "markdown",
      "metadata": {
        "id": "n9SWihDgcDjQ"
      },
      "source": [
        "#SAVING AND LOADING"
      ]
    },
    {
      "cell_type": "code",
      "execution_count": null,
      "metadata": {
        "id": "HYU8xlmpc7Zp"
      },
      "outputs": [],
      "source": [
        "def save_data(loss_data,accuracy_data,algo):\n",
        "  name_loss = 'loss_data'+algo+'.pt'\n",
        "  name_accuracy = 'accuracy_data'+algo+'.pt'\n",
        "  path1 = \"/content/drive/MyDrive/\"+name_loss\n",
        "  path2 = \"/content/drive/MyDrive/\"+name_accuracy \n",
        "  torch.save(loss_data, path1)\n",
        "  torch.save(accuracy_data, path2)"
      ]
    },
    {
      "cell_type": "code",
      "execution_count": null,
      "metadata": {
        "id": "_irv94rwz2YI",
        "colab": {
          "base_uri": "https://localhost:8080/"
        },
        "outputId": "7cd1972b-9fef-452d-e651-d4e35a930ce7"
      },
      "outputs": [
        {
          "output_type": "stream",
          "name": "stdout",
          "text": [
            "EPOCH :0 Train mAP: 0.0 Test mAP : 0.0 \n"
          ]
        },
        {
          "output_type": "stream",
          "name": "stderr",
          "text": [
            "100%|██████████| 99/99 [00:15<00:00,  6.53it/s, loss=23.4]"
          ]
        },
        {
          "output_type": "stream",
          "name": "stdout",
          "text": [
            " \n",
            " Train LOSS: 34.20640413284302 Test LOSS : 88.87555572509766\n"
          ]
        },
        {
          "output_type": "stream",
          "name": "stderr",
          "text": [
            "\n"
          ]
        },
        {
          "output_type": "stream",
          "name": "stdout",
          "text": [
            "EPOCH :1 Train mAP: 3.0841798782348633 Test mAP : 0.5397395491600037 \n",
            "Last Epoch saved : 1\n"
          ]
        },
        {
          "output_type": "stream",
          "name": "stderr",
          "text": [
            "100%|██████████| 99/99 [00:15<00:00,  6.37it/s, loss=9.2]"
          ]
        },
        {
          "output_type": "stream",
          "name": "stdout",
          "text": [
            " \n",
            " Train LOSS: 14.745710401535034 Test LOSS : 20.819646186828614\n"
          ]
        },
        {
          "output_type": "stream",
          "name": "stderr",
          "text": [
            "\n"
          ]
        },
        {
          "output_type": "stream",
          "name": "stdout",
          "text": [
            "EPOCH :2 Train mAP: 19.370025634765625 Test mAP : 5.019244194030762 \n",
            "Last Epoch saved : 2\n"
          ]
        },
        {
          "output_type": "stream",
          "name": "stderr",
          "text": [
            "100%|██████████| 99/99 [00:15<00:00,  6.29it/s, loss=7.22]"
          ]
        },
        {
          "output_type": "stream",
          "name": "stdout",
          "text": [
            " \n",
            " Train LOSS: 10.08676736354828 Test LOSS : 16.646172409057616\n"
          ]
        },
        {
          "output_type": "stream",
          "name": "stderr",
          "text": [
            "\n"
          ]
        },
        {
          "output_type": "stream",
          "name": "stdout",
          "text": [
            "EPOCH :3 Train mAP: 41.692787170410156 Test mAP : 4.6520609855651855 \n",
            "Last Epoch saved : 3\n"
          ]
        },
        {
          "output_type": "stream",
          "name": "stderr",
          "text": [
            "100%|██████████| 99/99 [00:16<00:00,  6.18it/s, loss=13.5]"
          ]
        },
        {
          "output_type": "stream",
          "name": "stdout",
          "text": [
            " \n",
            " Train LOSS: 7.784503669738769 Test LOSS : 14.626116333007813\n"
          ]
        },
        {
          "output_type": "stream",
          "name": "stderr",
          "text": [
            "\n"
          ]
        },
        {
          "output_type": "stream",
          "name": "stdout",
          "text": [
            "EPOCH :4 Train mAP: 56.84514617919922 Test mAP : 8.357282638549805 \n",
            "Last Epoch saved : 4\n"
          ]
        },
        {
          "output_type": "stream",
          "name": "stderr",
          "text": [
            "100%|██████████| 99/99 [00:16<00:00,  6.10it/s, loss=6.72]"
          ]
        },
        {
          "output_type": "stream",
          "name": "stdout",
          "text": [
            " \n",
            " Train LOSS: 6.483884506225586 Test LOSS : 13.995029792785644\n"
          ]
        },
        {
          "output_type": "stream",
          "name": "stderr",
          "text": [
            "\n"
          ]
        },
        {
          "output_type": "stream",
          "name": "stdout",
          "text": [
            "EPOCH :5 Train mAP: 76.24322509765625 Test mAP : 9.176865577697754 \n",
            "Last Epoch saved : 5\n"
          ]
        },
        {
          "output_type": "stream",
          "name": "stderr",
          "text": [
            "100%|██████████| 99/99 [00:16<00:00,  6.08it/s, loss=5.08]"
          ]
        },
        {
          "output_type": "stream",
          "name": "stdout",
          "text": [
            " \n",
            " Train LOSS: 5.610366070270539 Test LOSS : 13.036387062072754\n"
          ]
        },
        {
          "output_type": "stream",
          "name": "stderr",
          "text": [
            "\n"
          ]
        },
        {
          "output_type": "stream",
          "name": "stdout",
          "text": [
            "EPOCH :6 Train mAP: 88.99046325683594 Test mAP : 6.109374046325684 \n",
            "Last Epoch saved : 6\n"
          ]
        },
        {
          "output_type": "stream",
          "name": "stderr",
          "text": [
            "100%|██████████| 99/99 [00:16<00:00,  6.01it/s, loss=4.98]"
          ]
        },
        {
          "output_type": "stream",
          "name": "stdout",
          "text": [
            " \n",
            " Train LOSS: 5.145805900096893 Test LOSS : 12.35631196975708\n"
          ]
        },
        {
          "output_type": "stream",
          "name": "stderr",
          "text": [
            "\n"
          ]
        },
        {
          "output_type": "stream",
          "name": "stdout",
          "text": [
            "EPOCH :7 Train mAP: 91.95221710205078 Test mAP : 5.681399822235107 \n",
            "Last Epoch saved : 7\n"
          ]
        },
        {
          "output_type": "stream",
          "name": "stderr",
          "text": [
            "100%|██████████| 99/99 [00:16<00:00,  5.97it/s, loss=5.09]"
          ]
        },
        {
          "output_type": "stream",
          "name": "stdout",
          "text": [
            " \n",
            " Train LOSS: 4.692822191715241 Test LOSS : 11.441977043151855\n"
          ]
        },
        {
          "output_type": "stream",
          "name": "stderr",
          "text": [
            "\n"
          ]
        },
        {
          "output_type": "stream",
          "name": "stdout",
          "text": [
            "EPOCH :8 Train mAP: 94.7679214477539 Test mAP : 9.799880981445312 \n",
            "Last Epoch saved : 8\n"
          ]
        },
        {
          "output_type": "stream",
          "name": "stderr",
          "text": [
            "100%|██████████| 99/99 [00:16<00:00,  5.97it/s, loss=4.75]"
          ]
        },
        {
          "output_type": "stream",
          "name": "stdout",
          "text": [
            " \n",
            " Train LOSS: 4.341215443611145 Test LOSS : 9.907535495758056\n"
          ]
        },
        {
          "output_type": "stream",
          "name": "stderr",
          "text": [
            "\n"
          ]
        },
        {
          "output_type": "stream",
          "name": "stdout",
          "text": [
            "EPOCH :9 Train mAP: 97.41178131103516 Test mAP : 9.874103546142578 \n",
            "Last Epoch saved : 9\n"
          ]
        },
        {
          "output_type": "stream",
          "name": "stderr",
          "text": [
            "100%|██████████| 99/99 [00:16<00:00,  6.06it/s, loss=3.72]"
          ]
        },
        {
          "output_type": "stream",
          "name": "stdout",
          "text": [
            " \n",
            " Train LOSS: 4.2004202938079835 Test LOSS : 10.41826416015625\n"
          ]
        },
        {
          "output_type": "stream",
          "name": "stderr",
          "text": [
            "\n"
          ]
        },
        {
          "output_type": "stream",
          "name": "stdout",
          "text": [
            "EPOCH :10 Train mAP: 97.46044921875 Test mAP : 13.810319900512695 \n",
            "Last Epoch saved : 10\n"
          ]
        },
        {
          "output_type": "stream",
          "name": "stderr",
          "text": [
            "100%|██████████| 99/99 [00:16<00:00,  6.07it/s, loss=3.47]"
          ]
        },
        {
          "output_type": "stream",
          "name": "stdout",
          "text": [
            " \n",
            " Train LOSS: 3.754939284324646 Test LOSS : 10.163128051757813\n"
          ]
        },
        {
          "output_type": "stream",
          "name": "stderr",
          "text": [
            "\n"
          ]
        },
        {
          "output_type": "stream",
          "name": "stdout",
          "text": [
            "EPOCH :11 Train mAP: 96.50709533691406 Test mAP : 17.873931884765625 \n",
            "Last Epoch saved : 11\n"
          ]
        },
        {
          "output_type": "stream",
          "name": "stderr",
          "text": [
            "100%|██████████| 99/99 [00:16<00:00,  5.97it/s, loss=3.62]"
          ]
        },
        {
          "output_type": "stream",
          "name": "stdout",
          "text": [
            " \n",
            " Train LOSS: 3.488303642272949 Test LOSS : 9.969432106018067\n"
          ]
        },
        {
          "output_type": "stream",
          "name": "stderr",
          "text": [
            "\n"
          ]
        },
        {
          "output_type": "stream",
          "name": "stdout",
          "text": [
            "EPOCH :12 Train mAP: 99.2464370727539 Test mAP : 15.225598335266113 \n",
            "Last Epoch saved : 12\n"
          ]
        },
        {
          "output_type": "stream",
          "name": "stderr",
          "text": [
            "100%|██████████| 99/99 [00:16<00:00,  6.06it/s, loss=2.85]"
          ]
        },
        {
          "output_type": "stream",
          "name": "stdout",
          "text": [
            " \n",
            " Train LOSS: 3.348328876495361 Test LOSS : 10.107373046875\n"
          ]
        },
        {
          "output_type": "stream",
          "name": "stderr",
          "text": [
            "\n"
          ]
        },
        {
          "output_type": "stream",
          "name": "stdout",
          "text": [
            "EPOCH :13 Train mAP: 99.37714385986328 Test mAP : 17.624773025512695 \n",
            "Last Epoch saved : 13\n"
          ]
        },
        {
          "output_type": "stream",
          "name": "stderr",
          "text": [
            "100%|██████████| 99/99 [00:16<00:00,  6.00it/s, loss=3.25]"
          ]
        },
        {
          "output_type": "stream",
          "name": "stdout",
          "text": [
            " \n",
            " Train LOSS: 3.1433713173866273 Test LOSS : 9.64205961227417\n"
          ]
        },
        {
          "output_type": "stream",
          "name": "stderr",
          "text": [
            "\n"
          ]
        },
        {
          "output_type": "stream",
          "name": "stdout",
          "text": [
            "EPOCH :14 Train mAP: 98.94281005859375 Test mAP : 12.774486541748047 \n",
            "Last Epoch saved : 14\n"
          ]
        },
        {
          "output_type": "stream",
          "name": "stderr",
          "text": [
            "100%|██████████| 99/99 [00:16<00:00,  6.05it/s, loss=3.57]"
          ]
        },
        {
          "output_type": "stream",
          "name": "stdout",
          "text": [
            " \n",
            " Train LOSS: 3.0067472767829897 Test LOSS : 9.800322799682617\n"
          ]
        },
        {
          "output_type": "stream",
          "name": "stderr",
          "text": [
            "\n"
          ]
        },
        {
          "output_type": "stream",
          "name": "stdout",
          "text": [
            "EPOCH :15 Train mAP: 99.27808380126953 Test mAP : 17.852418899536133 \n",
            "Last Epoch saved : 15\n"
          ]
        },
        {
          "output_type": "stream",
          "name": "stderr",
          "text": [
            "100%|██████████| 99/99 [00:16<00:00,  6.08it/s, loss=3.46]"
          ]
        },
        {
          "output_type": "stream",
          "name": "stdout",
          "text": [
            " \n",
            " Train LOSS: 2.999418702125549 Test LOSS : 9.420007877349853\n"
          ]
        },
        {
          "output_type": "stream",
          "name": "stderr",
          "text": [
            "\n"
          ]
        },
        {
          "output_type": "stream",
          "name": "stdout",
          "text": [
            "EPOCH :16 Train mAP: 100.00001525878906 Test mAP : 21.403629302978516 \n",
            "Last Epoch saved : 16\n"
          ]
        },
        {
          "output_type": "stream",
          "name": "stderr",
          "text": [
            "100%|██████████| 99/99 [00:16<00:00,  6.06it/s, loss=2.37]"
          ]
        },
        {
          "output_type": "stream",
          "name": "stdout",
          "text": [
            " \n",
            " Train LOSS: 2.761917073726654 Test LOSS : 9.096655406951903\n"
          ]
        },
        {
          "output_type": "stream",
          "name": "stderr",
          "text": [
            "\n"
          ]
        },
        {
          "output_type": "stream",
          "name": "stdout",
          "text": [
            "EPOCH :17 Train mAP: 98.41999053955078 Test mAP : 16.288408279418945 \n",
            "Last Epoch saved : 17\n"
          ]
        },
        {
          "output_type": "stream",
          "name": "stderr",
          "text": [
            "100%|██████████| 99/99 [00:16<00:00,  5.93it/s, loss=2.9]"
          ]
        },
        {
          "output_type": "stream",
          "name": "stdout",
          "text": [
            " \n",
            " Train LOSS: 2.8646272826194763 Test LOSS : 8.933700819015503\n"
          ]
        },
        {
          "output_type": "stream",
          "name": "stderr",
          "text": [
            "\n"
          ]
        },
        {
          "output_type": "stream",
          "name": "stdout",
          "text": [
            "EPOCH :18 Train mAP: 99.08565521240234 Test mAP : 20.396726608276367 \n",
            "Last Epoch saved : 18\n"
          ]
        },
        {
          "output_type": "stream",
          "name": "stderr",
          "text": [
            "100%|██████████| 99/99 [00:16<00:00,  6.10it/s, loss=2.6]"
          ]
        },
        {
          "output_type": "stream",
          "name": "stdout",
          "text": [
            " \n",
            " Train LOSS: 2.536998372077942 Test LOSS : 8.595156383514404\n"
          ]
        },
        {
          "output_type": "stream",
          "name": "stderr",
          "text": [
            "\n"
          ]
        },
        {
          "output_type": "stream",
          "name": "stdout",
          "text": [
            "EPOCH :19 Train mAP: 98.80277252197266 Test mAP : 18.089914321899414 \n",
            "Last Epoch saved : 19\n"
          ]
        },
        {
          "output_type": "stream",
          "name": "stderr",
          "text": [
            "100%|██████████| 99/99 [00:16<00:00,  6.05it/s, loss=1.75]"
          ]
        },
        {
          "output_type": "stream",
          "name": "stdout",
          "text": [
            " \n",
            " Train LOSS: 2.528431069850922 Test LOSS : 8.584922761917115\n"
          ]
        },
        {
          "output_type": "stream",
          "name": "stderr",
          "text": [
            "\n"
          ]
        },
        {
          "output_type": "stream",
          "name": "stdout",
          "text": [
            "EPOCH :20 Train mAP: 98.7484359741211 Test mAP : 24.312137603759766 \n",
            "Last Epoch saved : 20\n"
          ]
        },
        {
          "output_type": "stream",
          "name": "stderr",
          "text": [
            "100%|██████████| 99/99 [00:16<00:00,  6.10it/s, loss=1.97]"
          ]
        },
        {
          "output_type": "stream",
          "name": "stdout",
          "text": [
            " \n",
            " Train LOSS: 2.3979826092720034 Test LOSS : 8.529341316223144\n"
          ]
        },
        {
          "output_type": "stream",
          "name": "stderr",
          "text": [
            "\n"
          ]
        },
        {
          "output_type": "stream",
          "name": "stdout",
          "text": [
            "EPOCH :21 Train mAP: 99.01701354980469 Test mAP : 19.160207748413086 \n",
            "Last Epoch saved : 21\n"
          ]
        },
        {
          "output_type": "stream",
          "name": "stderr",
          "text": [
            "100%|██████████| 99/99 [00:16<00:00,  6.09it/s, loss=2.53]"
          ]
        },
        {
          "output_type": "stream",
          "name": "stdout",
          "text": [
            " \n",
            " Train LOSS: 2.332945399284363 Test LOSS : 8.602291507720947\n"
          ]
        },
        {
          "output_type": "stream",
          "name": "stderr",
          "text": [
            "\n"
          ]
        },
        {
          "output_type": "stream",
          "name": "stdout",
          "text": [
            "EPOCH :22 Train mAP: 99.63731384277344 Test mAP : 20.981704711914062 \n",
            "Last Epoch saved : 22\n"
          ]
        },
        {
          "output_type": "stream",
          "name": "stderr",
          "text": [
            "100%|██████████| 99/99 [00:16<00:00,  6.12it/s, loss=2.96]"
          ]
        },
        {
          "output_type": "stream",
          "name": "stdout",
          "text": [
            " \n",
            " Train LOSS: 2.2089111542701723 Test LOSS : 8.274750804901123\n"
          ]
        },
        {
          "output_type": "stream",
          "name": "stderr",
          "text": [
            "\n"
          ]
        },
        {
          "output_type": "stream",
          "name": "stdout",
          "text": [
            "EPOCH :23 Train mAP: 100.00001525878906 Test mAP : 22.55145263671875 \n",
            "Last Epoch saved : 23\n"
          ]
        },
        {
          "output_type": "stream",
          "name": "stderr",
          "text": [
            "100%|██████████| 99/99 [00:16<00:00,  6.00it/s, loss=2.72]"
          ]
        },
        {
          "output_type": "stream",
          "name": "stdout",
          "text": [
            " \n",
            " Train LOSS: 2.1320544803142547 Test LOSS : 8.444795694351196\n"
          ]
        },
        {
          "output_type": "stream",
          "name": "stderr",
          "text": [
            "\n"
          ]
        },
        {
          "output_type": "stream",
          "name": "stdout",
          "text": [
            "EPOCH :24 Train mAP: 98.54070281982422 Test mAP : 27.0609130859375 \n",
            "Last Epoch saved : 24\n"
          ]
        },
        {
          "output_type": "stream",
          "name": "stderr",
          "text": [
            "100%|██████████| 99/99 [00:16<00:00,  6.06it/s, loss=1.69]"
          ]
        },
        {
          "output_type": "stream",
          "name": "stdout",
          "text": [
            " \n",
            " Train LOSS: 2.0193878769874574 Test LOSS : 8.374584255218506\n"
          ]
        },
        {
          "output_type": "stream",
          "name": "stderr",
          "text": [
            "\n"
          ]
        },
        {
          "output_type": "stream",
          "name": "stdout",
          "text": [
            "EPOCH :25 Train mAP: 99.70220184326172 Test mAP : 20.405139923095703 \n",
            "Last Epoch saved : 25\n"
          ]
        },
        {
          "output_type": "stream",
          "name": "stderr",
          "text": [
            "100%|██████████| 99/99 [00:16<00:00,  6.06it/s, loss=1.68]"
          ]
        },
        {
          "output_type": "stream",
          "name": "stdout",
          "text": [
            " \n",
            " Train LOSS: 1.8473565924167632 Test LOSS : 7.756837844848633\n"
          ]
        },
        {
          "output_type": "stream",
          "name": "stderr",
          "text": [
            "\n"
          ]
        },
        {
          "output_type": "stream",
          "name": "stdout",
          "text": [
            "EPOCH :26 Train mAP: 100.00001525878906 Test mAP : 22.4634952545166 \n",
            "Last Epoch saved : 26\n"
          ]
        },
        {
          "output_type": "stream",
          "name": "stderr",
          "text": [
            "100%|██████████| 99/99 [00:16<00:00,  6.05it/s, loss=1.41]"
          ]
        },
        {
          "output_type": "stream",
          "name": "stdout",
          "text": [
            " \n",
            " Train LOSS: 1.9012571167945862 Test LOSS : 7.167454261779785\n"
          ]
        },
        {
          "output_type": "stream",
          "name": "stderr",
          "text": [
            "\n"
          ]
        },
        {
          "output_type": "stream",
          "name": "stdout",
          "text": [
            "EPOCH :27 Train mAP: 99.31279754638672 Test mAP : 25.51473045349121 \n",
            "Last Epoch saved : 27\n"
          ]
        },
        {
          "output_type": "stream",
          "name": "stderr",
          "text": [
            "100%|██████████| 99/99 [00:16<00:00,  6.05it/s, loss=3.09]"
          ]
        },
        {
          "output_type": "stream",
          "name": "stdout",
          "text": [
            " \n",
            " Train LOSS: 1.8800999748706817 Test LOSS : 7.9100034713745115\n"
          ]
        },
        {
          "output_type": "stream",
          "name": "stderr",
          "text": [
            "\n"
          ]
        },
        {
          "output_type": "stream",
          "name": "stdout",
          "text": [
            "EPOCH :28 Train mAP: 100.00001525878906 Test mAP : 23.46422004699707 \n",
            "Last Epoch saved : 28\n"
          ]
        },
        {
          "output_type": "stream",
          "name": "stderr",
          "text": [
            "100%|██████████| 99/99 [00:16<00:00,  6.03it/s, loss=1.68]"
          ]
        },
        {
          "output_type": "stream",
          "name": "stdout",
          "text": [
            " \n",
            " Train LOSS: 1.8385865700244903 Test LOSS : 7.612110004425049\n"
          ]
        },
        {
          "output_type": "stream",
          "name": "stderr",
          "text": [
            "\n"
          ]
        },
        {
          "output_type": "stream",
          "name": "stdout",
          "text": [
            "EPOCH :29 Train mAP: 98.923583984375 Test mAP : 22.31413459777832 \n",
            "Last Epoch saved : 29\n"
          ]
        },
        {
          "output_type": "stream",
          "name": "stderr",
          "text": [
            "100%|██████████| 99/99 [00:16<00:00,  6.01it/s, loss=1.94]"
          ]
        },
        {
          "output_type": "stream",
          "name": "stdout",
          "text": [
            " \n",
            " Train LOSS: 1.8167543148994445 Test LOSS : 7.9243994140625\n"
          ]
        },
        {
          "output_type": "stream",
          "name": "stderr",
          "text": [
            "\n"
          ]
        },
        {
          "output_type": "stream",
          "name": "stdout",
          "text": [
            "EPOCH :30 Train mAP: 99.69049072265625 Test mAP : 23.097917556762695 \n",
            "Last Epoch saved : 30\n"
          ]
        },
        {
          "output_type": "stream",
          "name": "stderr",
          "text": [
            "100%|██████████| 99/99 [00:16<00:00,  6.10it/s, loss=1.29]"
          ]
        },
        {
          "output_type": "stream",
          "name": "stdout",
          "text": [
            " \n",
            " Train LOSS: 1.8501149535179138 Test LOSS : 7.630829734802246\n"
          ]
        },
        {
          "output_type": "stream",
          "name": "stderr",
          "text": [
            "\n"
          ]
        },
        {
          "output_type": "stream",
          "name": "stdout",
          "text": [
            "EPOCH :31 Train mAP: 98.19300079345703 Test mAP : 24.383445739746094 \n",
            "Last Epoch saved : 31\n"
          ]
        },
        {
          "output_type": "stream",
          "name": "stderr",
          "text": [
            "100%|██████████| 99/99 [00:16<00:00,  6.07it/s, loss=2.01]"
          ]
        },
        {
          "output_type": "stream",
          "name": "stdout",
          "text": [
            " \n",
            " Train LOSS: 1.8750380182266235 Test LOSS : 7.633361339569092\n"
          ]
        },
        {
          "output_type": "stream",
          "name": "stderr",
          "text": [
            "\n"
          ]
        },
        {
          "output_type": "stream",
          "name": "stdout",
          "text": [
            "EPOCH :32 Train mAP: 99.0648193359375 Test mAP : 21.29145050048828 \n",
            "Last Epoch saved : 32\n"
          ]
        },
        {
          "output_type": "stream",
          "name": "stderr",
          "text": [
            "100%|██████████| 99/99 [00:16<00:00,  6.09it/s, loss=1.38]"
          ]
        },
        {
          "output_type": "stream",
          "name": "stdout",
          "text": [
            " \n",
            " Train LOSS: 1.7330927085876464 Test LOSS : 8.100164375305177\n"
          ]
        },
        {
          "output_type": "stream",
          "name": "stderr",
          "text": [
            "\n"
          ]
        },
        {
          "output_type": "stream",
          "name": "stdout",
          "text": [
            "EPOCH :33 Train mAP: 99.74620056152344 Test mAP : 25.447973251342773 \n",
            "Last Epoch saved : 33\n"
          ]
        },
        {
          "output_type": "stream",
          "name": "stderr",
          "text": [
            "100%|██████████| 99/99 [00:16<00:00,  6.06it/s, loss=1.33]"
          ]
        },
        {
          "output_type": "stream",
          "name": "stdout",
          "text": [
            " \n",
            " Train LOSS: 1.6060654312372207 Test LOSS : 7.489002838134765\n"
          ]
        },
        {
          "output_type": "stream",
          "name": "stderr",
          "text": [
            "\n"
          ]
        },
        {
          "output_type": "stream",
          "name": "stdout",
          "text": [
            "EPOCH :34 Train mAP: 99.7442626953125 Test mAP : 29.030353546142578 \n",
            "Last Epoch saved : 34\n"
          ]
        },
        {
          "output_type": "stream",
          "name": "stderr",
          "text": [
            "100%|██████████| 99/99 [00:16<00:00,  6.12it/s, loss=1.49]"
          ]
        },
        {
          "output_type": "stream",
          "name": "stdout",
          "text": [
            " \n",
            " Train LOSS: 1.6651423007249833 Test LOSS : 7.259648971557617\n"
          ]
        },
        {
          "output_type": "stream",
          "name": "stderr",
          "text": [
            "\n"
          ]
        },
        {
          "output_type": "stream",
          "name": "stdout",
          "text": [
            "EPOCH :35 Train mAP: 99.74555969238281 Test mAP : 25.413820266723633 \n",
            "Last Epoch saved : 35\n"
          ]
        },
        {
          "output_type": "stream",
          "name": "stderr",
          "text": [
            "100%|██████████| 99/99 [00:16<00:00,  5.98it/s, loss=1.01]"
          ]
        },
        {
          "output_type": "stream",
          "name": "stdout",
          "text": [
            " \n",
            " Train LOSS: 1.9053286111354828 Test LOSS : 7.859287796020507\n"
          ]
        },
        {
          "output_type": "stream",
          "name": "stderr",
          "text": [
            "\n"
          ]
        },
        {
          "output_type": "stream",
          "name": "stdout",
          "text": [
            "EPOCH :36 Train mAP: 99.7390365600586 Test mAP : 21.46976089477539 \n",
            "Last Epoch saved : 36\n"
          ]
        },
        {
          "output_type": "stream",
          "name": "stderr",
          "text": [
            "100%|██████████| 99/99 [00:16<00:00,  6.06it/s, loss=1.81]"
          ]
        },
        {
          "output_type": "stream",
          "name": "stdout",
          "text": [
            " \n",
            " Train LOSS: 1.8057435142993927 Test LOSS : 7.53873291015625\n"
          ]
        },
        {
          "output_type": "stream",
          "name": "stderr",
          "text": [
            "\n"
          ]
        },
        {
          "output_type": "stream",
          "name": "stdout",
          "text": [
            "EPOCH :37 Train mAP: 98.93580627441406 Test mAP : 22.919517517089844 \n",
            "Last Epoch saved : 37\n"
          ]
        },
        {
          "output_type": "stream",
          "name": "stderr",
          "text": [
            "100%|██████████| 99/99 [00:16<00:00,  6.04it/s, loss=1.21]"
          ]
        },
        {
          "output_type": "stream",
          "name": "stdout",
          "text": [
            " \n",
            " Train LOSS: 1.9091184961795806 Test LOSS : 7.736375617980957\n"
          ]
        },
        {
          "output_type": "stream",
          "name": "stderr",
          "text": [
            "\n"
          ]
        },
        {
          "output_type": "stream",
          "name": "stdout",
          "text": [
            "EPOCH :38 Train mAP: 99.4679946899414 Test mAP : 29.46866226196289 \n",
            "Last Epoch saved : 38\n"
          ]
        },
        {
          "output_type": "stream",
          "name": "stderr",
          "text": [
            "100%|██████████| 99/99 [00:16<00:00,  6.12it/s, loss=1.53]"
          ]
        },
        {
          "output_type": "stream",
          "name": "stdout",
          "text": [
            " \n",
            " Train LOSS: 1.8609909254312516 Test LOSS : 7.716630249023438\n"
          ]
        },
        {
          "output_type": "stream",
          "name": "stderr",
          "text": [
            "\n"
          ]
        },
        {
          "output_type": "stream",
          "name": "stdout",
          "text": [
            "EPOCH :39 Train mAP: 97.61653900146484 Test mAP : 29.549169540405273 \n",
            "Last Epoch saved : 39\n"
          ]
        },
        {
          "output_type": "stream",
          "name": "stderr",
          "text": [
            "100%|██████████| 99/99 [00:16<00:00,  6.12it/s, loss=1.61]"
          ]
        },
        {
          "output_type": "stream",
          "name": "stdout",
          "text": [
            " \n",
            " Train LOSS: 1.6227164816856385 Test LOSS : 6.162276859283447\n"
          ]
        },
        {
          "output_type": "stream",
          "name": "stderr",
          "text": [
            "\n"
          ]
        },
        {
          "output_type": "stream",
          "name": "stdout",
          "text": [
            "EPOCH :40 Train mAP: 99.71485137939453 Test mAP : 29.32621192932129 \n",
            "Last Epoch saved : 40\n"
          ]
        },
        {
          "output_type": "stream",
          "name": "stderr",
          "text": [
            "100%|██████████| 99/99 [00:16<00:00,  6.10it/s, loss=1.56]"
          ]
        },
        {
          "output_type": "stream",
          "name": "stdout",
          "text": [
            " \n",
            " Train LOSS: 1.5670087242126465 Test LOSS : 6.9059594631195065\n"
          ]
        },
        {
          "output_type": "stream",
          "name": "stderr",
          "text": [
            "\n"
          ]
        },
        {
          "output_type": "stream",
          "name": "stdout",
          "text": [
            "EPOCH :41 Train mAP: 99.29964447021484 Test mAP : 38.687259674072266 \n",
            "Last Epoch saved : 41\n"
          ]
        },
        {
          "output_type": "stream",
          "name": "stderr",
          "text": [
            "100%|██████████| 99/99 [00:16<00:00,  5.98it/s, loss=1.78]"
          ]
        },
        {
          "output_type": "stream",
          "name": "stdout",
          "text": [
            " \n",
            " Train LOSS: 1.52537874519825 Test LOSS : 7.109990282058716\n"
          ]
        },
        {
          "output_type": "stream",
          "name": "stderr",
          "text": [
            "\n"
          ]
        },
        {
          "output_type": "stream",
          "name": "stdout",
          "text": [
            "EPOCH :42 Train mAP: 100.00001525878906 Test mAP : 35.43228530883789 \n",
            "Last Epoch saved : 42\n"
          ]
        },
        {
          "output_type": "stream",
          "name": "stderr",
          "text": [
            "100%|██████████| 99/99 [00:16<00:00,  5.93it/s, loss=1.4]"
          ]
        },
        {
          "output_type": "stream",
          "name": "stdout",
          "text": [
            " \n",
            " Train LOSS: 1.4760913527011872 Test LOSS : 6.981978225708008\n"
          ]
        },
        {
          "output_type": "stream",
          "name": "stderr",
          "text": [
            "\n"
          ]
        },
        {
          "output_type": "stream",
          "name": "stdout",
          "text": [
            "EPOCH :43 Train mAP: 100.00001525878906 Test mAP : 33.41987609863281 \n",
            "Last Epoch saved : 43\n"
          ]
        },
        {
          "output_type": "stream",
          "name": "stderr",
          "text": [
            "100%|██████████| 99/99 [00:16<00:00,  6.00it/s, loss=1.59]"
          ]
        },
        {
          "output_type": "stream",
          "name": "stdout",
          "text": [
            " \n",
            " Train LOSS: 1.3335620486736297 Test LOSS : 6.693172454833984\n"
          ]
        },
        {
          "output_type": "stream",
          "name": "stderr",
          "text": [
            "\n"
          ]
        },
        {
          "output_type": "stream",
          "name": "stdout",
          "text": [
            "EPOCH :44 Train mAP: 100.00001525878906 Test mAP : 34.65611267089844 \n",
            "Last Epoch saved : 44\n"
          ]
        },
        {
          "output_type": "stream",
          "name": "stderr",
          "text": [
            "100%|██████████| 99/99 [00:16<00:00,  6.02it/s, loss=1.82]"
          ]
        },
        {
          "output_type": "stream",
          "name": "stdout",
          "text": [
            " \n",
            " Train LOSS: 1.3988783740997315 Test LOSS : 7.117513675689697\n"
          ]
        },
        {
          "output_type": "stream",
          "name": "stderr",
          "text": [
            "\n"
          ]
        },
        {
          "output_type": "stream",
          "name": "stdout",
          "text": [
            "EPOCH :45 Train mAP: 99.35554504394531 Test mAP : 43.130615234375 \n",
            "Last Epoch saved : 45\n"
          ]
        },
        {
          "output_type": "stream",
          "name": "stderr",
          "text": [
            "100%|██████████| 99/99 [00:16<00:00,  5.98it/s, loss=1.46]"
          ]
        },
        {
          "output_type": "stream",
          "name": "stdout",
          "text": [
            " \n",
            " Train LOSS: 1.550745370388031 Test LOSS : 6.858841905593872\n"
          ]
        },
        {
          "output_type": "stream",
          "name": "stderr",
          "text": [
            "\n"
          ]
        },
        {
          "output_type": "stream",
          "name": "stdout",
          "text": [
            "EPOCH :46 Train mAP: 96.7821044921875 Test mAP : 36.85014343261719 \n",
            "Last Epoch saved : 46\n"
          ]
        },
        {
          "output_type": "stream",
          "name": "stderr",
          "text": [
            "100%|██████████| 99/99 [00:16<00:00,  5.98it/s, loss=1.77]"
          ]
        },
        {
          "output_type": "stream",
          "name": "stdout",
          "text": [
            " \n",
            " Train LOSS: 1.5131287908554076 Test LOSS : 6.861934070587158\n"
          ]
        },
        {
          "output_type": "stream",
          "name": "stderr",
          "text": [
            "\n"
          ]
        },
        {
          "output_type": "stream",
          "name": "stdout",
          "text": [
            "EPOCH :47 Train mAP: 99.48186492919922 Test mAP : 30.151718139648438 \n",
            "Last Epoch saved : 47\n"
          ]
        },
        {
          "output_type": "stream",
          "name": "stderr",
          "text": [
            "100%|██████████| 99/99 [00:16<00:00,  5.99it/s, loss=1.19]"
          ]
        },
        {
          "output_type": "stream",
          "name": "stdout",
          "text": [
            " \n",
            " Train LOSS: 1.557628220319748 Test LOSS : 7.13207974433899\n"
          ]
        },
        {
          "output_type": "stream",
          "name": "stderr",
          "text": [
            "\n"
          ]
        },
        {
          "output_type": "stream",
          "name": "stdout",
          "text": [
            "EPOCH :48 Train mAP: 99.48783874511719 Test mAP : 39.75484848022461 \n",
            "Last Epoch saved : 48\n"
          ]
        },
        {
          "output_type": "stream",
          "name": "stderr",
          "text": [
            "100%|██████████| 99/99 [00:16<00:00,  5.99it/s, loss=1.63]"
          ]
        },
        {
          "output_type": "stream",
          "name": "stdout",
          "text": [
            " \n",
            " Train LOSS: 1.4345117390155793 Test LOSS : 6.778316011428833\n"
          ]
        },
        {
          "output_type": "stream",
          "name": "stderr",
          "text": [
            "\n"
          ]
        },
        {
          "output_type": "stream",
          "name": "stdout",
          "text": [
            "EPOCH :49 Train mAP: 93.88774871826172 Test mAP : 34.20399856567383 \n",
            "Last Epoch saved : 49\n"
          ]
        },
        {
          "output_type": "stream",
          "name": "stderr",
          "text": [
            "100%|██████████| 99/99 [00:16<00:00,  6.04it/s, loss=1.16]"
          ]
        },
        {
          "output_type": "stream",
          "name": "stdout",
          "text": [
            " \n",
            " Train LOSS: 1.390755562186241 Test LOSS : 7.0892353534698485\n"
          ]
        },
        {
          "output_type": "stream",
          "name": "stderr",
          "text": [
            "\n"
          ]
        },
        {
          "output_type": "stream",
          "name": "stdout",
          "text": [
            "EPOCH :50 Train mAP: 99.04086303710938 Test mAP : 37.4535026550293 \n",
            "Last Epoch saved : 50\n"
          ]
        },
        {
          "output_type": "stream",
          "name": "stderr",
          "text": [
            "100%|██████████| 99/99 [00:16<00:00,  6.02it/s, loss=0.866]"
          ]
        },
        {
          "output_type": "stream",
          "name": "stdout",
          "text": [
            " \n",
            " Train LOSS: 1.2725653076171874 Test LOSS : 6.551360855102539\n"
          ]
        },
        {
          "output_type": "stream",
          "name": "stderr",
          "text": [
            "\n"
          ]
        },
        {
          "output_type": "stream",
          "name": "stdout",
          "text": [
            "EPOCH :51 Train mAP: 99.73705291748047 Test mAP : 36.592559814453125 \n",
            "Last Epoch saved : 51\n"
          ]
        },
        {
          "output_type": "stream",
          "name": "stderr",
          "text": [
            "100%|██████████| 99/99 [00:16<00:00,  6.07it/s, loss=1.17]"
          ]
        },
        {
          "output_type": "stream",
          "name": "stdout",
          "text": [
            " \n",
            " Train LOSS: 1.289619659781456 Test LOSS : 6.611792287826538\n"
          ]
        },
        {
          "output_type": "stream",
          "name": "stderr",
          "text": [
            "\n"
          ]
        },
        {
          "output_type": "stream",
          "name": "stdout",
          "text": [
            "EPOCH :52 Train mAP: 99.71044921875 Test mAP : 36.49007034301758 \n",
            "Last Epoch saved : 52\n"
          ]
        },
        {
          "output_type": "stream",
          "name": "stderr",
          "text": [
            "100%|██████████| 99/99 [00:16<00:00,  5.97it/s, loss=0.993]"
          ]
        },
        {
          "output_type": "stream",
          "name": "stdout",
          "text": [
            " \n",
            " Train LOSS: 1.3376319801807404 Test LOSS : 6.3957102012634275\n"
          ]
        },
        {
          "output_type": "stream",
          "name": "stderr",
          "text": [
            "\n"
          ]
        },
        {
          "output_type": "stream",
          "name": "stdout",
          "text": [
            "EPOCH :53 Train mAP: 99.48133087158203 Test mAP : 39.32434844970703 \n",
            "Last Epoch saved : 53\n"
          ]
        },
        {
          "output_type": "stream",
          "name": "stderr",
          "text": [
            "100%|██████████| 99/99 [00:16<00:00,  6.03it/s, loss=1.91]"
          ]
        },
        {
          "output_type": "stream",
          "name": "stdout",
          "text": [
            " \n",
            " Train LOSS: 1.6107230597734452 Test LOSS : 6.835167436599732\n"
          ]
        },
        {
          "output_type": "stream",
          "name": "stderr",
          "text": [
            "\n"
          ]
        },
        {
          "output_type": "stream",
          "name": "stdout",
          "text": [
            "EPOCH :54 Train mAP: 97.73841857910156 Test mAP : 39.76193618774414 \n",
            "Last Epoch saved : 54\n"
          ]
        },
        {
          "output_type": "stream",
          "name": "stderr",
          "text": [
            "100%|██████████| 99/99 [00:16<00:00,  5.96it/s, loss=1.88]"
          ]
        },
        {
          "output_type": "stream",
          "name": "stdout",
          "text": [
            " \n",
            " Train LOSS: 1.684244676232338 Test LOSS : 6.150078754425049\n"
          ]
        },
        {
          "output_type": "stream",
          "name": "stderr",
          "text": [
            "\n"
          ]
        },
        {
          "output_type": "stream",
          "name": "stdout",
          "text": [
            "EPOCH :55 Train mAP: 97.15090942382812 Test mAP : 35.94919204711914 \n",
            "Last Epoch saved : 55\n"
          ]
        },
        {
          "output_type": "stream",
          "name": "stderr",
          "text": [
            "100%|██████████| 99/99 [00:16<00:00,  6.03it/s, loss=0.707]"
          ]
        },
        {
          "output_type": "stream",
          "name": "stdout",
          "text": [
            " \n",
            " Train LOSS: 1.5595123553276062 Test LOSS : 7.025530652999878\n"
          ]
        },
        {
          "output_type": "stream",
          "name": "stderr",
          "text": [
            "\n"
          ]
        },
        {
          "output_type": "stream",
          "name": "stdout",
          "text": [
            "EPOCH :56 Train mAP: 99.08843231201172 Test mAP : 39.4003791809082 \n",
            "Last Epoch saved : 56\n"
          ]
        },
        {
          "output_type": "stream",
          "name": "stderr",
          "text": [
            "100%|██████████| 99/99 [00:16<00:00,  6.10it/s, loss=1.16]"
          ]
        },
        {
          "output_type": "stream",
          "name": "stdout",
          "text": [
            " \n",
            " Train LOSS: 1.4127349483966827 Test LOSS : 6.489208860397339\n"
          ]
        },
        {
          "output_type": "stream",
          "name": "stderr",
          "text": [
            "\n"
          ]
        },
        {
          "output_type": "stream",
          "name": "stdout",
          "text": [
            "EPOCH :57 Train mAP: 97.96446990966797 Test mAP : 44.891998291015625 \n",
            "Last Epoch saved : 57\n"
          ]
        },
        {
          "output_type": "stream",
          "name": "stderr",
          "text": [
            "100%|██████████| 99/99 [00:16<00:00,  5.98it/s, loss=1.17]"
          ]
        },
        {
          "output_type": "stream",
          "name": "stdout",
          "text": [
            " \n",
            " Train LOSS: 1.2381968635320664 Test LOSS : 6.391057004928589\n"
          ]
        },
        {
          "output_type": "stream",
          "name": "stderr",
          "text": [
            "\n"
          ]
        },
        {
          "output_type": "stream",
          "name": "stdout",
          "text": [
            "EPOCH :58 Train mAP: 100.00001525878906 Test mAP : 43.979679107666016 \n",
            "Last Epoch saved : 58\n"
          ]
        },
        {
          "output_type": "stream",
          "name": "stderr",
          "text": [
            "100%|██████████| 99/99 [00:16<00:00,  5.98it/s, loss=0.824]"
          ]
        },
        {
          "output_type": "stream",
          "name": "stdout",
          "text": [
            " \n",
            " Train LOSS: 1.261558129787445 Test LOSS : 6.209281406402588\n"
          ]
        },
        {
          "output_type": "stream",
          "name": "stderr",
          "text": [
            "\n"
          ]
        },
        {
          "output_type": "stream",
          "name": "stdout",
          "text": [
            "EPOCH :59 Train mAP: 98.6586685180664 Test mAP : 46.17972183227539 \n",
            "Last Epoch saved : 59\n"
          ]
        },
        {
          "output_type": "stream",
          "name": "stderr",
          "text": [
            "100%|██████████| 99/99 [00:16<00:00,  6.01it/s, loss=0.972]"
          ]
        },
        {
          "output_type": "stream",
          "name": "stdout",
          "text": [
            " \n",
            " Train LOSS: 1.29535830616951 Test LOSS : 6.729237775802613\n"
          ]
        },
        {
          "output_type": "stream",
          "name": "stderr",
          "text": [
            "\n"
          ]
        },
        {
          "output_type": "stream",
          "name": "stdout",
          "text": [
            "EPOCH :60 Train mAP: 98.66946411132812 Test mAP : 47.15583419799805 \n",
            "Last Epoch saved : 60\n"
          ]
        },
        {
          "output_type": "stream",
          "name": "stderr",
          "text": [
            "100%|██████████| 99/99 [00:16<00:00,  6.01it/s, loss=0.832]"
          ]
        },
        {
          "output_type": "stream",
          "name": "stdout",
          "text": [
            " \n",
            " Train LOSS: 1.0218962174654007 Test LOSS : 6.074055957794189\n"
          ]
        },
        {
          "output_type": "stream",
          "name": "stderr",
          "text": [
            "\n"
          ]
        },
        {
          "output_type": "stream",
          "name": "stdout",
          "text": [
            "EPOCH :61 Train mAP: 99.7442626953125 Test mAP : 50.808006286621094 \n",
            "Last Epoch saved : 61\n"
          ]
        },
        {
          "output_type": "stream",
          "name": "stderr",
          "text": [
            "100%|██████████| 99/99 [00:16<00:00,  6.01it/s, loss=1.06]"
          ]
        },
        {
          "output_type": "stream",
          "name": "stdout",
          "text": [
            " \n",
            " Train LOSS: 1.1188946253061294 Test LOSS : 6.104360818862915\n"
          ]
        },
        {
          "output_type": "stream",
          "name": "stderr",
          "text": [
            "\n"
          ]
        },
        {
          "output_type": "stream",
          "name": "stdout",
          "text": [
            "EPOCH :62 Train mAP: 99.74555969238281 Test mAP : 38.654239654541016 \n",
            "Last Epoch saved : 62\n"
          ]
        },
        {
          "output_type": "stream",
          "name": "stderr",
          "text": [
            "100%|██████████| 99/99 [00:16<00:00,  6.06it/s, loss=0.95]"
          ]
        },
        {
          "output_type": "stream",
          "name": "stdout",
          "text": [
            " \n",
            " Train LOSS: 1.1527444022893905 Test LOSS : 6.159078769683838\n"
          ]
        },
        {
          "output_type": "stream",
          "name": "stderr",
          "text": [
            "\n"
          ]
        },
        {
          "output_type": "stream",
          "name": "stdout",
          "text": [
            "EPOCH :63 Train mAP: 100.00001525878906 Test mAP : 39.52987289428711 \n",
            "Last Epoch saved : 63\n"
          ]
        },
        {
          "output_type": "stream",
          "name": "stderr",
          "text": [
            "100%|██████████| 99/99 [00:16<00:00,  6.01it/s, loss=1.35]"
          ]
        },
        {
          "output_type": "stream",
          "name": "stdout",
          "text": [
            " \n",
            " Train LOSS: 1.236086096763611 Test LOSS : 6.7950811767578125\n"
          ]
        },
        {
          "output_type": "stream",
          "name": "stderr",
          "text": [
            "\n"
          ]
        },
        {
          "output_type": "stream",
          "name": "stdout",
          "text": [
            "EPOCH :64 Train mAP: 99.73438262939453 Test mAP : 49.240779876708984 \n",
            "Last Epoch saved : 64\n"
          ]
        },
        {
          "output_type": "stream",
          "name": "stderr",
          "text": [
            "100%|██████████| 99/99 [00:16<00:00,  5.95it/s, loss=0.825]"
          ]
        },
        {
          "output_type": "stream",
          "name": "stdout",
          "text": [
            " \n",
            " Train LOSS: 1.5022123795747757 Test LOSS : 6.343197612762451\n"
          ]
        },
        {
          "output_type": "stream",
          "name": "stderr",
          "text": [
            "\n"
          ]
        },
        {
          "output_type": "stream",
          "name": "stdout",
          "text": [
            "EPOCH :65 Train mAP: 99.60132598876953 Test mAP : 47.91596221923828 \n",
            "Last Epoch saved : 65\n"
          ]
        },
        {
          "output_type": "stream",
          "name": "stderr",
          "text": [
            "100%|██████████| 99/99 [00:16<00:00,  6.01it/s, loss=0.94]"
          ]
        },
        {
          "output_type": "stream",
          "name": "stdout",
          "text": [
            " \n",
            " Train LOSS: 1.2795676052570344 Test LOSS : 6.323766317367554\n"
          ]
        },
        {
          "output_type": "stream",
          "name": "stderr",
          "text": [
            "\n"
          ]
        },
        {
          "output_type": "stream",
          "name": "stdout",
          "text": [
            "EPOCH :66 Train mAP: 99.10968780517578 Test mAP : 51.13240051269531 \n",
            "Last Epoch saved : 66\n"
          ]
        },
        {
          "output_type": "stream",
          "name": "stderr",
          "text": [
            "100%|██████████| 99/99 [00:16<00:00,  5.98it/s, loss=1.41]"
          ]
        },
        {
          "output_type": "stream",
          "name": "stdout",
          "text": [
            " \n",
            " Train LOSS: 1.1929599559307098 Test LOSS : 6.246294889450073\n"
          ]
        },
        {
          "output_type": "stream",
          "name": "stderr",
          "text": [
            "\n"
          ]
        },
        {
          "output_type": "stream",
          "name": "stdout",
          "text": [
            "EPOCH :67 Train mAP: 100.00001525878906 Test mAP : 55.41455078125 \n",
            "Last Epoch saved : 67\n"
          ]
        },
        {
          "output_type": "stream",
          "name": "stderr",
          "text": [
            "100%|██████████| 99/99 [00:16<00:00,  6.11it/s, loss=1.35]"
          ]
        },
        {
          "output_type": "stream",
          "name": "stdout",
          "text": [
            " \n",
            " Train LOSS: 1.4274403685331345 Test LOSS : 6.021759815216065\n"
          ]
        },
        {
          "output_type": "stream",
          "name": "stderr",
          "text": [
            "\n"
          ]
        },
        {
          "output_type": "stream",
          "name": "stdout",
          "text": [
            "EPOCH :68 Train mAP: 100.00001525878906 Test mAP : 45.80425262451172 \n",
            "Last Epoch saved : 68\n"
          ]
        },
        {
          "output_type": "stream",
          "name": "stderr",
          "text": [
            "100%|██████████| 99/99 [00:16<00:00,  5.99it/s, loss=0.726]"
          ]
        },
        {
          "output_type": "stream",
          "name": "stdout",
          "text": [
            " \n",
            " Train LOSS: 1.4551708883047103 Test LOSS : 6.074821872711182\n"
          ]
        },
        {
          "output_type": "stream",
          "name": "stderr",
          "text": [
            "\n"
          ]
        },
        {
          "output_type": "stream",
          "name": "stdout",
          "text": [
            "EPOCH :69 Train mAP: 99.23332214355469 Test mAP : 53.479034423828125 \n",
            "Last Epoch saved : 69\n"
          ]
        },
        {
          "output_type": "stream",
          "name": "stderr",
          "text": [
            "100%|██████████| 99/99 [00:16<00:00,  5.98it/s, loss=1.38]"
          ]
        },
        {
          "output_type": "stream",
          "name": "stdout",
          "text": [
            " \n",
            " Train LOSS: 1.2603357797861099 Test LOSS : 6.227177429199219\n"
          ]
        },
        {
          "output_type": "stream",
          "name": "stderr",
          "text": [
            "\n"
          ]
        },
        {
          "output_type": "stream",
          "name": "stdout",
          "text": [
            "EPOCH :70 Train mAP: 99.73505401611328 Test mAP : 48.44404983520508 \n",
            "Last Epoch saved : 70\n"
          ]
        },
        {
          "output_type": "stream",
          "name": "stderr",
          "text": [
            "100%|██████████| 99/99 [00:16<00:00,  5.96it/s, loss=0.898]"
          ]
        },
        {
          "output_type": "stream",
          "name": "stdout",
          "text": [
            " \n",
            " Train LOSS: 1.1868589347600937 Test LOSS : 6.2332093715667725\n"
          ]
        },
        {
          "output_type": "stream",
          "name": "stderr",
          "text": [
            "\n"
          ]
        },
        {
          "output_type": "stream",
          "name": "stdout",
          "text": [
            "EPOCH :71 Train mAP: 99.5233154296875 Test mAP : 53.993064880371094 \n",
            "Last Epoch saved : 71\n"
          ]
        },
        {
          "output_type": "stream",
          "name": "stderr",
          "text": [
            "100%|██████████| 99/99 [00:16<00:00,  6.01it/s, loss=0.997]"
          ]
        },
        {
          "output_type": "stream",
          "name": "stdout",
          "text": [
            " \n",
            " Train LOSS: 1.213998907804489 Test LOSS : 6.0054028129577635\n"
          ]
        },
        {
          "output_type": "stream",
          "name": "stderr",
          "text": [
            "\n"
          ]
        },
        {
          "output_type": "stream",
          "name": "stdout",
          "text": [
            "EPOCH :72 Train mAP: 100.00001525878906 Test mAP : 50.693965911865234 \n",
            "Last Epoch saved : 72\n"
          ]
        },
        {
          "output_type": "stream",
          "name": "stderr",
          "text": [
            "100%|██████████| 99/99 [00:16<00:00,  6.05it/s, loss=1.63]"
          ]
        },
        {
          "output_type": "stream",
          "name": "stdout",
          "text": [
            " \n",
            " Train LOSS: 1.2115022313594819 Test LOSS : 5.696485004425049\n"
          ]
        },
        {
          "output_type": "stream",
          "name": "stderr",
          "text": [
            "\n"
          ]
        },
        {
          "output_type": "stream",
          "name": "stdout",
          "text": [
            "EPOCH :73 Train mAP: 100.00001525878906 Test mAP : 52.01814651489258 \n",
            "Last Epoch saved : 73\n"
          ]
        },
        {
          "output_type": "stream",
          "name": "stderr",
          "text": [
            "100%|██████████| 99/99 [00:16<00:00,  6.12it/s, loss=0.955]"
          ]
        },
        {
          "output_type": "stream",
          "name": "stdout",
          "text": [
            " \n",
            " Train LOSS: 1.1779586547613143 Test LOSS : 5.96921814918518\n"
          ]
        },
        {
          "output_type": "stream",
          "name": "stderr",
          "text": [
            "\n"
          ]
        },
        {
          "output_type": "stream",
          "name": "stdout",
          "text": [
            "EPOCH :74 Train mAP: 99.68807220458984 Test mAP : 57.004539489746094 \n",
            "Last Epoch saved : 74\n"
          ]
        },
        {
          "output_type": "stream",
          "name": "stderr",
          "text": [
            "100%|██████████| 99/99 [00:16<00:00,  6.12it/s, loss=0.909]"
          ]
        },
        {
          "output_type": "stream",
          "name": "stdout",
          "text": [
            " \n",
            " Train LOSS: 1.0969402211904526 Test LOSS : 6.039558010101318\n"
          ]
        },
        {
          "output_type": "stream",
          "name": "stderr",
          "text": [
            "\n"
          ]
        },
        {
          "output_type": "stream",
          "name": "stdout",
          "text": [
            "EPOCH :75 Train mAP: 100.00001525878906 Test mAP : 53.511817932128906 \n",
            "Last Epoch saved : 75\n"
          ]
        },
        {
          "output_type": "stream",
          "name": "stderr",
          "text": [
            "100%|██████████| 99/99 [00:16<00:00,  6.10it/s, loss=1.42]"
          ]
        },
        {
          "output_type": "stream",
          "name": "stdout",
          "text": [
            " \n",
            " Train LOSS: 1.148712477684021 Test LOSS : 5.853427200317383\n"
          ]
        },
        {
          "output_type": "stream",
          "name": "stderr",
          "text": [
            "\n"
          ]
        },
        {
          "output_type": "stream",
          "name": "stdout",
          "text": [
            "EPOCH :76 Train mAP: 100.00001525878906 Test mAP : 61.37661361694336 \n",
            "Last Epoch saved : 76\n"
          ]
        },
        {
          "output_type": "stream",
          "name": "stderr",
          "text": [
            "100%|██████████| 99/99 [00:16<00:00,  6.11it/s, loss=0.858]"
          ]
        },
        {
          "output_type": "stream",
          "name": "stdout",
          "text": [
            " \n",
            " Train LOSS: 1.027344977557659 Test LOSS : 5.673411588668824\n"
          ]
        },
        {
          "output_type": "stream",
          "name": "stderr",
          "text": [
            "\n"
          ]
        },
        {
          "output_type": "stream",
          "name": "stdout",
          "text": [
            "EPOCH :77 Train mAP: 98.49765014648438 Test mAP : 56.023292541503906 \n",
            "Last Epoch saved : 77\n"
          ]
        },
        {
          "output_type": "stream",
          "name": "stderr",
          "text": [
            "100%|██████████| 99/99 [00:16<00:00,  6.08it/s, loss=0.612]"
          ]
        },
        {
          "output_type": "stream",
          "name": "stdout",
          "text": [
            " \n",
            " Train LOSS: 0.948419857621193 Test LOSS : 6.15487154006958\n"
          ]
        },
        {
          "output_type": "stream",
          "name": "stderr",
          "text": [
            "\n"
          ]
        },
        {
          "output_type": "stream",
          "name": "stdout",
          "text": [
            "EPOCH :78 Train mAP: 100.00001525878906 Test mAP : 49.98372268676758 \n",
            "Last Epoch saved : 78\n"
          ]
        },
        {
          "output_type": "stream",
          "name": "stderr",
          "text": [
            "100%|██████████| 99/99 [00:16<00:00,  6.15it/s, loss=1.12]"
          ]
        },
        {
          "output_type": "stream",
          "name": "stdout",
          "text": [
            " \n",
            " Train LOSS: 0.9657672065496444 Test LOSS : 5.644332475662232\n"
          ]
        },
        {
          "output_type": "stream",
          "name": "stderr",
          "text": [
            "\n"
          ]
        },
        {
          "output_type": "stream",
          "name": "stdout",
          "text": [
            "EPOCH :79 Train mAP: 92.84999084472656 Test mAP : 51.59584426879883 \n",
            "Last Epoch saved : 79\n"
          ]
        },
        {
          "output_type": "stream",
          "name": "stderr",
          "text": [
            "100%|██████████| 99/99 [00:16<00:00,  6.12it/s, loss=0.599]"
          ]
        },
        {
          "output_type": "stream",
          "name": "stdout",
          "text": [
            " \n",
            " Train LOSS: 1.147867900133133 Test LOSS : 6.011690979003906\n"
          ]
        },
        {
          "output_type": "stream",
          "name": "stderr",
          "text": [
            "\n"
          ]
        },
        {
          "output_type": "stream",
          "name": "stdout",
          "text": [
            "EPOCH :80 Train mAP: 99.49172973632812 Test mAP : 59.94767379760742 \n",
            "Last Epoch saved : 80\n"
          ]
        },
        {
          "output_type": "stream",
          "name": "stderr",
          "text": [
            "100%|██████████| 99/99 [00:16<00:00,  6.10it/s, loss=0.631]"
          ]
        },
        {
          "output_type": "stream",
          "name": "stdout",
          "text": [
            " \n",
            " Train LOSS: 1.2512565153837203 Test LOSS : 5.609006786346436\n"
          ]
        },
        {
          "output_type": "stream",
          "name": "stderr",
          "text": [
            "\n"
          ]
        },
        {
          "output_type": "stream",
          "name": "stdout",
          "text": [
            "EPOCH :81 Train mAP: 99.45790100097656 Test mAP : 53.376625061035156 \n",
            "Last Epoch saved : 81\n"
          ]
        },
        {
          "output_type": "stream",
          "name": "stderr",
          "text": [
            "100%|██████████| 99/99 [00:16<00:00,  6.13it/s, loss=0.972]"
          ]
        },
        {
          "output_type": "stream",
          "name": "stdout",
          "text": [
            " \n",
            " Train LOSS: 1.0372704413533211 Test LOSS : 5.3781023645401005\n"
          ]
        },
        {
          "output_type": "stream",
          "name": "stderr",
          "text": [
            "\n"
          ]
        },
        {
          "output_type": "stream",
          "name": "stdout",
          "text": [
            "EPOCH :82 Train mAP: 98.6446533203125 Test mAP : 52.80528259277344 \n",
            "Last Epoch saved : 82\n"
          ]
        },
        {
          "output_type": "stream",
          "name": "stderr",
          "text": [
            "100%|██████████| 99/99 [00:17<00:00,  5.75it/s, loss=0.55]"
          ]
        },
        {
          "output_type": "stream",
          "name": "stdout",
          "text": [
            " \n",
            " Train LOSS: 0.9735562574863433 Test LOSS : 5.5970988273620605\n"
          ]
        },
        {
          "output_type": "stream",
          "name": "stderr",
          "text": [
            "\n"
          ]
        },
        {
          "output_type": "stream",
          "name": "stdout",
          "text": [
            "EPOCH :83 Train mAP: 99.45346069335938 Test mAP : 54.78603744506836 \n",
            "Last Epoch saved : 83\n"
          ]
        },
        {
          "output_type": "stream",
          "name": "stderr",
          "text": [
            "100%|██████████| 99/99 [00:16<00:00,  5.99it/s, loss=1.03]"
          ]
        },
        {
          "output_type": "stream",
          "name": "stdout",
          "text": [
            " \n",
            " Train LOSS: 1.209942219555378 Test LOSS : 5.634519653320313\n"
          ]
        },
        {
          "output_type": "stream",
          "name": "stderr",
          "text": [
            "\n"
          ]
        },
        {
          "output_type": "stream",
          "name": "stdout",
          "text": [
            "EPOCH :84 Train mAP: 100.00001525878906 Test mAP : 62.189208984375 \n",
            "Last Epoch saved : 84\n"
          ]
        },
        {
          "output_type": "stream",
          "name": "stderr",
          "text": [
            "100%|██████████| 99/99 [00:16<00:00,  6.08it/s, loss=0.673]"
          ]
        },
        {
          "output_type": "stream",
          "name": "stdout",
          "text": [
            " \n",
            " Train LOSS: 1.0092869240045548 Test LOSS : 5.674020929336548\n"
          ]
        },
        {
          "output_type": "stream",
          "name": "stderr",
          "text": [
            "\n"
          ]
        },
        {
          "output_type": "stream",
          "name": "stdout",
          "text": [
            "EPOCH :85 Train mAP: 100.00001525878906 Test mAP : 55.879234313964844 \n",
            "Last Epoch saved : 85\n"
          ]
        },
        {
          "output_type": "stream",
          "name": "stderr",
          "text": [
            "100%|██████████| 99/99 [00:16<00:00,  6.11it/s, loss=1.55]"
          ]
        },
        {
          "output_type": "stream",
          "name": "stdout",
          "text": [
            " \n",
            " Train LOSS: 0.9745898419618606 Test LOSS : 5.491834573745727\n"
          ]
        },
        {
          "output_type": "stream",
          "name": "stderr",
          "text": [
            "\n"
          ]
        },
        {
          "output_type": "stream",
          "name": "stdout",
          "text": [
            "EPOCH :86 Train mAP: 99.21978759765625 Test mAP : 53.92255783081055 \n",
            "Last Epoch saved : 86\n"
          ]
        },
        {
          "output_type": "stream",
          "name": "stderr",
          "text": [
            "100%|██████████| 99/99 [00:16<00:00,  5.99it/s, loss=0.539]"
          ]
        },
        {
          "output_type": "stream",
          "name": "stdout",
          "text": [
            " \n",
            " Train LOSS: 0.9838060894608498 Test LOSS : 5.569505882263184\n"
          ]
        },
        {
          "output_type": "stream",
          "name": "stderr",
          "text": [
            "\n"
          ]
        },
        {
          "output_type": "stream",
          "name": "stdout",
          "text": [
            "EPOCH :87 Train mAP: 100.00001525878906 Test mAP : 56.699432373046875 \n",
            "Last Epoch saved : 87\n"
          ]
        },
        {
          "output_type": "stream",
          "name": "stderr",
          "text": [
            "100%|██████████| 99/99 [00:16<00:00,  5.95it/s, loss=1.01]"
          ]
        },
        {
          "output_type": "stream",
          "name": "stdout",
          "text": [
            " \n",
            " Train LOSS: 0.8718052133917809 Test LOSS : 5.657687950134277\n"
          ]
        },
        {
          "output_type": "stream",
          "name": "stderr",
          "text": [
            "\n"
          ]
        },
        {
          "output_type": "stream",
          "name": "stdout",
          "text": [
            "EPOCH :88 Train mAP: 100.00001525878906 Test mAP : 61.7662353515625 \n",
            "Last Epoch saved : 88\n"
          ]
        },
        {
          "output_type": "stream",
          "name": "stderr",
          "text": [
            "100%|██████████| 99/99 [00:16<00:00,  5.96it/s, loss=1.09]"
          ]
        },
        {
          "output_type": "stream",
          "name": "stdout",
          "text": [
            " \n",
            " Train LOSS: 1.0530568307638168 Test LOSS : 5.784650716781616\n"
          ]
        },
        {
          "output_type": "stream",
          "name": "stderr",
          "text": [
            "\n"
          ]
        },
        {
          "output_type": "stream",
          "name": "stdout",
          "text": [
            "EPOCH :89 Train mAP: 100.00001525878906 Test mAP : 57.03093338012695 \n",
            "Last Epoch saved : 89\n"
          ]
        },
        {
          "output_type": "stream",
          "name": "stderr",
          "text": [
            "100%|██████████| 99/99 [00:16<00:00,  5.98it/s, loss=0.683]"
          ]
        },
        {
          "output_type": "stream",
          "name": "stdout",
          "text": [
            " \n",
            " Train LOSS: 0.8349399897456169 Test LOSS : 5.533270359039307\n"
          ]
        },
        {
          "output_type": "stream",
          "name": "stderr",
          "text": [
            "\n"
          ]
        },
        {
          "output_type": "stream",
          "name": "stdout",
          "text": [
            "EPOCH :90 Train mAP: 100.00001525878906 Test mAP : 65.14896392822266 \n",
            "Last Epoch saved : 90\n"
          ]
        },
        {
          "output_type": "stream",
          "name": "stderr",
          "text": [
            "100%|██████████| 99/99 [00:16<00:00,  6.00it/s, loss=1.06]"
          ]
        },
        {
          "output_type": "stream",
          "name": "stdout",
          "text": [
            " \n",
            " Train LOSS: 0.9508049166202546 Test LOSS : 5.565876913070679\n"
          ]
        },
        {
          "output_type": "stream",
          "name": "stderr",
          "text": [
            "\n"
          ]
        },
        {
          "output_type": "stream",
          "name": "stdout",
          "text": [
            "EPOCH :91 Train mAP: 100.00001525878906 Test mAP : 57.56683349609375 \n",
            "Last Epoch saved : 91\n"
          ]
        },
        {
          "output_type": "stream",
          "name": "stderr",
          "text": [
            "100%|██████████| 99/99 [00:16<00:00,  6.00it/s, loss=1.27]"
          ]
        },
        {
          "output_type": "stream",
          "name": "stdout",
          "text": [
            " \n",
            " Train LOSS: 0.9209262311458588 Test LOSS : 5.4804247283935545\n"
          ]
        },
        {
          "output_type": "stream",
          "name": "stderr",
          "text": [
            "\n"
          ]
        },
        {
          "output_type": "stream",
          "name": "stdout",
          "text": [
            "EPOCH :92 Train mAP: 99.70066833496094 Test mAP : 63.095855712890625 \n",
            "Last Epoch saved : 92\n"
          ]
        },
        {
          "output_type": "stream",
          "name": "stderr",
          "text": [
            "100%|██████████| 99/99 [00:16<00:00,  6.08it/s, loss=0.955]"
          ]
        },
        {
          "output_type": "stream",
          "name": "stdout",
          "text": [
            " \n",
            " Train LOSS: 1.1662709152698516 Test LOSS : 5.258731408119202\n"
          ]
        },
        {
          "output_type": "stream",
          "name": "stderr",
          "text": [
            "\n"
          ]
        },
        {
          "output_type": "stream",
          "name": "stdout",
          "text": [
            "EPOCH :93 Train mAP: 100.00001525878906 Test mAP : 62.54193878173828 \n",
            "Last Epoch saved : 93\n"
          ]
        },
        {
          "output_type": "stream",
          "name": "stderr",
          "text": [
            "100%|██████████| 99/99 [00:16<00:00,  5.97it/s, loss=0.547]"
          ]
        },
        {
          "output_type": "stream",
          "name": "stdout",
          "text": [
            " \n",
            " Train LOSS: 1.1185896736383438 Test LOSS : 5.66537919998169\n"
          ]
        },
        {
          "output_type": "stream",
          "name": "stderr",
          "text": [
            "\n"
          ]
        },
        {
          "output_type": "stream",
          "name": "stdout",
          "text": [
            "EPOCH :94 Train mAP: 99.01753997802734 Test mAP : 64.2295913696289 \n",
            "Last Epoch saved : 94\n"
          ]
        },
        {
          "output_type": "stream",
          "name": "stderr",
          "text": [
            "100%|██████████| 99/99 [00:16<00:00,  6.07it/s, loss=0.735]"
          ]
        },
        {
          "output_type": "stream",
          "name": "stdout",
          "text": [
            " \n",
            " Train LOSS: 0.8281957849860191 Test LOSS : 5.143493270874023\n"
          ]
        },
        {
          "output_type": "stream",
          "name": "stderr",
          "text": [
            "\n"
          ]
        },
        {
          "output_type": "stream",
          "name": "stdout",
          "text": [
            "EPOCH :95 Train mAP: 99.66967010498047 Test mAP : 57.627655029296875 \n",
            "Last Epoch saved : 95\n"
          ]
        },
        {
          "output_type": "stream",
          "name": "stderr",
          "text": [
            "100%|██████████| 99/99 [00:16<00:00,  6.08it/s, loss=0.881]"
          ]
        },
        {
          "output_type": "stream",
          "name": "stdout",
          "text": [
            " \n",
            " Train LOSS: 0.916661203801632 Test LOSS : 5.551090326309204\n"
          ]
        },
        {
          "output_type": "stream",
          "name": "stderr",
          "text": [
            "\n"
          ]
        },
        {
          "output_type": "stream",
          "name": "stdout",
          "text": [
            "EPOCH :96 Train mAP: 99.71118927001953 Test mAP : 66.27652740478516 \n",
            "Last Epoch saved : 96\n"
          ]
        },
        {
          "output_type": "stream",
          "name": "stderr",
          "text": [
            "100%|██████████| 99/99 [00:16<00:00,  6.10it/s, loss=0.513]"
          ]
        },
        {
          "output_type": "stream",
          "name": "stdout",
          "text": [
            " \n",
            " Train LOSS: 0.863281337916851 Test LOSS : 5.508043365478516\n"
          ]
        },
        {
          "output_type": "stream",
          "name": "stderr",
          "text": [
            "\n"
          ]
        },
        {
          "output_type": "stream",
          "name": "stdout",
          "text": [
            "EPOCH :97 Train mAP: 99.74748229980469 Test mAP : 61.215728759765625 \n",
            "Last Epoch saved : 97\n"
          ]
        },
        {
          "output_type": "stream",
          "name": "stderr",
          "text": [
            "100%|██████████| 99/99 [00:16<00:00,  6.10it/s, loss=0.869]"
          ]
        },
        {
          "output_type": "stream",
          "name": "stdout",
          "text": [
            " \n",
            " Train LOSS: 0.7160582822561264 Test LOSS : 5.3879298400878906\n"
          ]
        },
        {
          "output_type": "stream",
          "name": "stderr",
          "text": [
            "\n"
          ]
        },
        {
          "output_type": "stream",
          "name": "stdout",
          "text": [
            "EPOCH :98 Train mAP: 100.00001525878906 Test mAP : 60.66136932373047 \n",
            "Last Epoch saved : 98\n"
          ]
        },
        {
          "output_type": "stream",
          "name": "stderr",
          "text": [
            "100%|██████████| 99/99 [00:16<00:00,  6.03it/s, loss=0.927]"
          ]
        },
        {
          "output_type": "stream",
          "name": "stdout",
          "text": [
            " \n",
            " Train LOSS: 0.924615225493908 Test LOSS : 5.3045637321472165\n"
          ]
        },
        {
          "output_type": "stream",
          "name": "stderr",
          "text": [
            "\n"
          ]
        },
        {
          "output_type": "stream",
          "name": "stdout",
          "text": [
            "EPOCH :99 Train mAP: 100.00001525878906 Test mAP : 58.808189392089844 \n",
            "Last Epoch saved : 99\n"
          ]
        },
        {
          "output_type": "stream",
          "name": "stderr",
          "text": [
            "100%|██████████| 99/99 [00:16<00:00,  5.99it/s, loss=0.641]"
          ]
        },
        {
          "output_type": "stream",
          "name": "stdout",
          "text": [
            " \n",
            " Train LOSS: 0.8375373718142509 Test LOSS : 5.5723171043396\n"
          ]
        },
        {
          "output_type": "stream",
          "name": "stderr",
          "text": [
            "\n"
          ]
        }
      ],
      "source": [
        "loss_arr = []\n",
        "train_map = []\n",
        "test_map = []\n",
        "\n",
        "EPOCHS = 100\n",
        "best_map = 0\n",
        "\n",
        "for epoch in range(EPOCHS):\n",
        "  \n",
        "          model.eval()\n",
        "          pred_boxes, target_boxes = get_bboxes(\n",
        "              train_loader, model, iou_threshold=0.5, threshold=0.4,device = DEVICE\n",
        "          )\n",
        "\n",
        "          mean_avg_prec = mean_average_precision(\n",
        "              pred_boxes, target_boxes, iou_threshold=0.5, box_format=\"midpoint\"\n",
        "          )\n",
        "\n",
        "\n",
        "          test_loss,test_mean_avg_prec = model_evaluation(test_loader,model,loss_fn)\n",
        "\n",
        "          print(f\"EPOCH :{epoch} Train mAP: {mean_avg_prec*100} Test mAP : {test_mean_avg_prec*100} \")\n",
        "\n",
        "          model.train()\n",
        "\n",
        "\n",
        "          if mean_avg_prec > best_map:\n",
        "            check_point_name = data_name+'_'+str(EPOCHS)+'.pth'\n",
        "            path = \"/content/drive/MyDrive/\"+check_point_name \n",
        "            torch.save(model.state_dict(), path)\n",
        "            # download checkpoint file\n",
        "            # files.download('checkpoint.pth')\n",
        "\n",
        "            # model_save_name = 'best_map'+'.pt'\n",
        "            # best_acc = mean_avg_prec\n",
        "            # torch.save({\n",
        "            #   'epoch': epoch,\n",
        "            #   'model_state_dict': model.state_dict(),\n",
        "            #   'optimizer_state_dict': optimizer.state_dict(),\n",
        "            #   'loss': loss,\n",
        "            #   }, path)\n",
        "            print(\"Last Epoch saved :\",epoch)\n",
        "\n",
        "\n",
        "          loss = train_fn(train_loader, model, optimizer, loss_fn)\n",
        "\n",
        "          print(f\" \\n Train LOSS: {loss} Test LOSS : {test_loss}\")\n",
        "\n",
        "          loss_arr.append(loss)\n",
        "          train_map.append(mean_avg_prec*100)\n",
        "          test_map.append(test_mean_avg_prec*100)\n"
      ]
    },
    {
      "cell_type": "code",
      "execution_count": 39,
      "metadata": {
        "id": "7liX1dUgB3a5",
        "colab": {
          "base_uri": "https://localhost:8080/",
          "height": 449
        },
        "outputId": "a2baf16a-878a-407c-c967-7db16349481e"
      },
      "outputs": [
        {
          "output_type": "display_data",
          "data": {
            "text/plain": [
              "<Figure size 640x480 with 1 Axes>"
            ],
            "image/png": "[encoded data removed]"
          },
          "metadata": {}
        }
      ],
      "source": [
        "# plt.title(\"EXPERIMENTAL DETAILS OF STATISTICAL CNN\")\n",
        "plt.xlabel(\"Epochs\")\n",
        "plt.ylabel(\"Average Precision, Loss\")\n",
        "plt.plot(loss_arr,color='red',label='LOSS')\n",
        "plt.plot(train_map,color='blue',label='Train_AP')\n",
        "plt.plot(test_map,color='green',label='Test_AP')\n",
        "plt.legend()\n",
        "plt.show()"
      ]
    },
    {
      "cell_type": "code",
      "source": [
        "def calculate_average_precision(recall, precision):\n",
        "    \"\"\"Calculate the average precision given the data points for recall and precision.\"\"\"\n",
        "    \n",
        "    # Sort precision and recall in descending order of recall\n",
        "    sorted_indices = sorted(range(len(recall)), key=lambda i: recall[i], reverse=True)\n",
        "    sorted_precision = [precision[i] for i in sorted_indices]\n",
        "    sorted_recall = [recall[i] for i in sorted_indices]\n",
        "\n",
        "    # Initialize variables\n",
        "    ap = 0.0\n",
        "    max_precision = 0.0\n",
        "    last_recall = -1.0\n",
        "\n",
        "    # Calculate the area under the precision-recall curve\n",
        "    for i in range(len(sorted_recall)):\n",
        "        if sorted_recall[i] != last_recall:\n",
        "            ap += max_precision * (sorted_recall[i] - last_recall)\n",
        "            last_recall = sorted_recall[i]\n",
        "            max_precision = 0.0\n",
        "        if sorted_precision[i] > max_precision:\n",
        "            max_precision = sorted_precision[i]\n",
        "\n",
        "    return ap\n"
      ],
      "metadata": {
        "id": "MejB9CAwRiv-"
      },
      "execution_count": null,
      "outputs": []
    },
    {
      "cell_type": "code",
      "source": [
        "plt.xlabel(\"Recall\")\n",
        "plt.ylabel(\"Precision\")\n",
        "plt.plot(r,p,color='blue',label=\"SPD2010\")\n",
        "# plt.plot(rsyn,psyn,color='orange',label=\"Synthetic\")\n",
        "plt.legend()\n",
        "plt.show()"
      ],
      "metadata": {
        "colab": {
          "base_uri": "https://localhost:8080/",
          "height": 449
        },
        "id": "1EpNhJoDLdQy",
        "outputId": "35048597-bdb1-47a1-98da-25291e26cab8"
      },
      "execution_count": null,
      "outputs": [
        {
          "output_type": "display_data",
          "data": {
            "text/plain": [
              "<Figure size 640x480 with 1 Axes>"
            ],
            "image/png": "[encoded data removed]"
          },
          "metadata": {}
        }
      ]
    },
    {
      "cell_type": "markdown",
      "metadata": {
        "id": "82Hb68iwSXtG"
      },
      "source": [
        "#Plot Images"
      ]
    },
    {
      "cell_type": "code",
      "execution_count": null,
      "metadata": {
        "id": "Bu8372RzeoHX",
        "colab": {
          "base_uri": "https://localhost:8080/",
          "height": 374
        },
        "outputId": "0588e477-c30b-4420-c1b9-9543b33bfe13"
      },
      "outputs": [
        {
          "output_type": "error",
          "ename": "FileNotFoundError",
          "evalue": "ignored",
          "traceback": [
            "\u001b[0;31m---------------------------------------------------------------------------\u001b[0m",
            "\u001b[0;31mFileNotFoundError\u001b[0m                         Traceback (most recent call last)",
            "\u001b[0;32m<ipython-input-102-2f59535f5e75>\u001b[0m in \u001b[0;36m<cell line: 1>\u001b[0;34m()\u001b[0m\n\u001b[0;32m----> 1\u001b[0;31m \u001b[0mstate_dict\u001b[0m \u001b[0;34m=\u001b[0m \u001b[0mtorch\u001b[0m\u001b[0;34m.\u001b[0m\u001b[0mload\u001b[0m\u001b[0;34m(\u001b[0m\u001b[0;34m'/content/drive/MyDrive/checkpoint.pth'\u001b[0m\u001b[0;34m,\u001b[0m \u001b[0mmap_location\u001b[0m\u001b[0;34m=\u001b[0m\u001b[0mDEVICE\u001b[0m\u001b[0;34m)\u001b[0m\u001b[0;34m\u001b[0m\u001b[0;34m\u001b[0m\u001b[0m\n\u001b[0m\u001b[1;32m      2\u001b[0m \u001b[0mprint\u001b[0m\u001b[0;34m(\u001b[0m\u001b[0mstate_dict\u001b[0m\u001b[0;34m.\u001b[0m\u001b[0mkeys\u001b[0m\u001b[0;34m(\u001b[0m\u001b[0;34m)\u001b[0m\u001b[0;34m)\u001b[0m\u001b[0;34m\u001b[0m\u001b[0;34m\u001b[0m\u001b[0m\n\u001b[1;32m      3\u001b[0m \u001b[0mmodel\u001b[0m\u001b[0;34m.\u001b[0m\u001b[0mload_state_dict\u001b[0m\u001b[0;34m(\u001b[0m\u001b[0mstate_dict\u001b[0m\u001b[0;34m)\u001b[0m\u001b[0;34m\u001b[0m\u001b[0;34m\u001b[0m\u001b[0m\n\u001b[1;32m      4\u001b[0m \u001b[0;31m# net.load_state_dict(torch.load('classifier.pt', map_location=torch.device('cpu')))\u001b[0m\u001b[0;34m\u001b[0m\u001b[0;34m\u001b[0m\u001b[0m\n",
            "\u001b[0;32m/usr/local/lib/python3.10/dist-packages/torch/serialization.py\u001b[0m in \u001b[0;36mload\u001b[0;34m(f, map_location, pickle_module, weights_only, **pickle_load_args)\u001b[0m\n\u001b[1;32m    789\u001b[0m         \u001b[0mpickle_load_args\u001b[0m\u001b[0;34m[\u001b[0m\u001b[0;34m'encoding'\u001b[0m\u001b[0;34m]\u001b[0m \u001b[0;34m=\u001b[0m \u001b[0;34m'utf-8'\u001b[0m\u001b[0;34m\u001b[0m\u001b[0;34m\u001b[0m\u001b[0m\n\u001b[1;32m    790\u001b[0m \u001b[0;34m\u001b[0m\u001b[0m\n\u001b[0;32m--> 791\u001b[0;31m     \u001b[0;32mwith\u001b[0m \u001b[0m_open_file_like\u001b[0m\u001b[0;34m(\u001b[0m\u001b[0mf\u001b[0m\u001b[0;34m,\u001b[0m \u001b[0;34m'rb'\u001b[0m\u001b[0;34m)\u001b[0m \u001b[0;32mas\u001b[0m \u001b[0mopened_file\u001b[0m\u001b[0;34m:\u001b[0m\u001b[0;34m\u001b[0m\u001b[0;34m\u001b[0m\u001b[0m\n\u001b[0m\u001b[1;32m    792\u001b[0m         \u001b[0;32mif\u001b[0m \u001b[0m_is_zipfile\u001b[0m\u001b[0;34m(\u001b[0m\u001b[0mopened_file\u001b[0m\u001b[0;34m)\u001b[0m\u001b[0;34m:\u001b[0m\u001b[0;34m\u001b[0m\u001b[0;34m\u001b[0m\u001b[0m\n\u001b[1;32m    793\u001b[0m             \u001b[0;31m# The zipfile reader is going to advance the current file position.\u001b[0m\u001b[0;34m\u001b[0m\u001b[0;34m\u001b[0m\u001b[0m\n",
            "\u001b[0;32m/usr/local/lib/python3.10/dist-packages/torch/serialization.py\u001b[0m in \u001b[0;36m_open_file_like\u001b[0;34m(name_or_buffer, mode)\u001b[0m\n\u001b[1;32m    269\u001b[0m \u001b[0;32mdef\u001b[0m \u001b[0m_open_file_like\u001b[0m\u001b[0;34m(\u001b[0m\u001b[0mname_or_buffer\u001b[0m\u001b[0;34m,\u001b[0m \u001b[0mmode\u001b[0m\u001b[0;34m)\u001b[0m\u001b[0;34m:\u001b[0m\u001b[0;34m\u001b[0m\u001b[0;34m\u001b[0m\u001b[0m\n\u001b[1;32m    270\u001b[0m     \u001b[0;32mif\u001b[0m \u001b[0m_is_path\u001b[0m\u001b[0;34m(\u001b[0m\u001b[0mname_or_buffer\u001b[0m\u001b[0;34m)\u001b[0m\u001b[0;34m:\u001b[0m\u001b[0;34m\u001b[0m\u001b[0;34m\u001b[0m\u001b[0m\n\u001b[0;32m--> 271\u001b[0;31m         \u001b[0;32mreturn\u001b[0m \u001b[0m_open_file\u001b[0m\u001b[0;34m(\u001b[0m\u001b[0mname_or_buffer\u001b[0m\u001b[0;34m,\u001b[0m \u001b[0mmode\u001b[0m\u001b[0;34m)\u001b[0m\u001b[0;34m\u001b[0m\u001b[0;34m\u001b[0m\u001b[0m\n\u001b[0m\u001b[1;32m    272\u001b[0m     \u001b[0;32melse\u001b[0m\u001b[0;34m:\u001b[0m\u001b[0;34m\u001b[0m\u001b[0;34m\u001b[0m\u001b[0m\n\u001b[1;32m    273\u001b[0m         \u001b[0;32mif\u001b[0m \u001b[0;34m'w'\u001b[0m \u001b[0;32min\u001b[0m \u001b[0mmode\u001b[0m\u001b[0;34m:\u001b[0m\u001b[0;34m\u001b[0m\u001b[0;34m\u001b[0m\u001b[0m\n",
            "\u001b[0;32m/usr/local/lib/python3.10/dist-packages/torch/serialization.py\u001b[0m in \u001b[0;36m__init__\u001b[0;34m(self, name, mode)\u001b[0m\n\u001b[1;32m    250\u001b[0m \u001b[0;32mclass\u001b[0m \u001b[0m_open_file\u001b[0m\u001b[0;34m(\u001b[0m\u001b[0m_opener\u001b[0m\u001b[0;34m)\u001b[0m\u001b[0;34m:\u001b[0m\u001b[0;34m\u001b[0m\u001b[0;34m\u001b[0m\u001b[0m\n\u001b[1;32m    251\u001b[0m     \u001b[0;32mdef\u001b[0m \u001b[0m__init__\u001b[0m\u001b[0;34m(\u001b[0m\u001b[0mself\u001b[0m\u001b[0;34m,\u001b[0m \u001b[0mname\u001b[0m\u001b[0;34m,\u001b[0m \u001b[0mmode\u001b[0m\u001b[0;34m)\u001b[0m\u001b[0;34m:\u001b[0m\u001b[0;34m\u001b[0m\u001b[0;34m\u001b[0m\u001b[0m\n\u001b[0;32m--> 252\u001b[0;31m         \u001b[0msuper\u001b[0m\u001b[0;34m(\u001b[0m\u001b[0;34m)\u001b[0m\u001b[0;34m.\u001b[0m\u001b[0m__init__\u001b[0m\u001b[0;34m(\u001b[0m\u001b[0mopen\u001b[0m\u001b[0;34m(\u001b[0m\u001b[0mname\u001b[0m\u001b[0;34m,\u001b[0m \u001b[0mmode\u001b[0m\u001b[0;34m)\u001b[0m\u001b[0;34m)\u001b[0m\u001b[0;34m\u001b[0m\u001b[0;34m\u001b[0m\u001b[0m\n\u001b[0m\u001b[1;32m    253\u001b[0m \u001b[0;34m\u001b[0m\u001b[0m\n\u001b[1;32m    254\u001b[0m     \u001b[0;32mdef\u001b[0m \u001b[0m__exit__\u001b[0m\u001b[0;34m(\u001b[0m\u001b[0mself\u001b[0m\u001b[0;34m,\u001b[0m \u001b[0;34m*\u001b[0m\u001b[0margs\u001b[0m\u001b[0;34m)\u001b[0m\u001b[0;34m:\u001b[0m\u001b[0;34m\u001b[0m\u001b[0;34m\u001b[0m\u001b[0m\n",
            "\u001b[0;31mFileNotFoundError\u001b[0m: [Errno 2] No such file or directory: '/content/drive/MyDrive/checkpoint.pth'"
          ]
        }
      ],
      "source": [
        "state_dict = torch.load('/content/drive/MyDrive/checkpoint.pth', map_location=DEVICE)\n",
        "print(state_dict.keys())\n",
        "model.load_state_dict(state_dict)\n",
        "# net.load_state_dict(torch.load('classifier.pt', map_location=torch.device('cpu')))"
      ]
    },
    {
      "cell_type": "code",
      "source": [
        "# !unzip data_100.zip\n",
        "# clean_data(\"data_100\")\n",
        "# test_dataset1 = VOCDataset(\n",
        "#         os.path.join(\"data_100/test_csv.csv\"), transform=transform, img_dir=\"data_100/images\", label_dir=\"data_100/labels\",\n",
        "#     )\n",
        "# test_loader1 = DataLoader(\n",
        "#         dataset=test_dataset1,\n",
        "#         batch_size=BATCH_SIZE,\n",
        "#         num_workers=NUM_WORKERS,\n",
        "#         pin_memory=PIN_MEMORY,\n",
        "#         shuffle=True,\n",
        "#         drop_last=True,\n",
        "#     )"
      ],
      "metadata": {
        "id": "vGCj8P5y0QaF"
      },
      "execution_count": null,
      "outputs": []
    },
    {
      "cell_type": "code",
      "source": [
        "!unzip data_100.zip\n",
        "clean_data(\"data_100\")\n",
        "test_dataset2 = VOCDataset(\n",
        "        os.path.join(\"spd_data_100/test_csv.csv\"), transform=transform, img_dir=\"spd_data_100/images\", label_dir=\"spd_data_100/labels\",\n",
        "    )\n",
        "test_loader2 = DataLoader(\n",
        "        dataset=test_dataset2,\n",
        "        batch_size=BATCH_SIZE,\n",
        "        num_workers=NUM_WORKERS,\n",
        "        pin_memory=PIN_MEMORY,\n",
        "        shuffle=True,\n",
        "        drop_last=True,\n",
        "    )"
      ],
      "metadata": {
        "id": "Rbv4326i6bLM"
      },
      "execution_count": null,
      "outputs": []
    },
    {
      "cell_type": "code",
      "source": [
        "def show_results(expected, predictions):\n",
        "  n = len(expected)\n",
        "  # f, axarr = plt.subplots(n,2,figsize=(10, 10))\n",
        "  for i in range(n):\n",
        "    f, axarr = plt.subplots(1,2,figsize=(10, 10))\n",
        "    image = expected[i][0]\n",
        "    boxes = expected[i][1]\n",
        "    im = np.array(image)\n",
        "    im = np.transpose(im, (1, 2, 0))\n",
        "    height, width, _ = im.shape\n",
        "    axarr[0].imshow(im)\n",
        "    for box in boxes:\n",
        "        box = box[2:]\n",
        "        assert len(box) == 4, \"Got more values than in x, y, w, h, in a box!\"\n",
        "        upper_left_x = box[0] - box[2] // 2\n",
        "        upper_left_y = box[1] - box[3] // 2\n",
        "        rect = patches.Rectangle(\n",
        "            (upper_left_x * width, upper_left_y * height),\n",
        "            box[2] * width,\n",
        "            box[3] * height,\n",
        "            linewidth=1,\n",
        "            edgecolor=\"r\",\n",
        "            facecolor=\"none\",\n",
        "        )\n",
        "        # Add the patch to the Axes\n",
        "        axarr[0].add_patch(rect)\n",
        "    axarr[0].axis('off')\n",
        "    image = predictions[i][0]\n",
        "    boxes = predictions[i][1]\n",
        "    im = np.array(image)\n",
        "    im = np.transpose(im, (1, 2, 0))\n",
        "    height, width, _ = im.shape\n",
        "    axarr[1].imshow(im)\n",
        "    for box in boxes:\n",
        "        box = box[2:]\n",
        "        assert len(box) == 4, \"Got more values than in x, y, w, h, in a box!\"\n",
        "        upper_left_x = box[0] - box[2] / 2\n",
        "        upper_left_y = box[1] - box[3] / 2\n",
        "        rect = patches.Rectangle(\n",
        "            (upper_left_x * width, upper_left_y * height),\n",
        "            box[2] * width,\n",
        "            box[3] * height,\n",
        "            linewidth=1,\n",
        "            edgecolor=\"r\",\n",
        "            facecolor=\"none\",\n",
        "        )\n",
        "        # Add the patch to the Axes\n",
        "        axarr[1].add_patch(rect)\n",
        "    axarr[1].axis('off')\n",
        "    plt.show()"
      ],
      "metadata": {
        "id": "8x8OAcAHQfb1"
      },
      "execution_count": null,
      "outputs": []
    },
    {
      "cell_type": "code",
      "source": [
        "def get_results(n,testLoader):\n",
        "  expected = []\n",
        "  predictions = []\n",
        "  for i in range(n):\n",
        "    dataiter = iter(testLoader)\n",
        "    images,labels = next(dataiter)\n",
        "    image = images[0]\n",
        "    label = labels[0].unsqueeze(0)\n",
        "    output = model(image.unsqueeze(0).to(DEVICE))\n",
        "    output = output.reshape(-1,7,7,30)\n",
        "    boxes = cellboxes_to_boxes(output, S=7)\n",
        "    boxes = torch.tensor(boxes).squeeze(0)\n",
        "    # print(boxes.shape)\n",
        "    boxes = boxes.tolist()\n",
        "    nms_boxes = non_max_suppression(boxes, 0.5, 0.4)\n",
        "    lable_box = cellboxes_to_boxes(label, S=7)\n",
        "    lable_box = torch.tensor(lable_box).squeeze(0)\n",
        "    expected.append((image, lable_box))\n",
        "    predictions.append((image, nms_boxes))\n",
        "  \n",
        "  return expected,predictions"
      ],
      "metadata": {
        "id": "p8DjIZnaQwyX"
      },
      "execution_count": null,
      "outputs": []
    },
    {
      "cell_type": "code",
      "source": [
        "def show_img_result(img_name):\n",
        "  test_image = Image.open(data_name+\"/images/\"+img_name)\n",
        "  # test_image = test_image.rotate(180,expand=True)\n",
        "  label_file = open(data_name+\"/labels/\"+img_name.split(\".\")[0]+\".txt\",\"r\")\n",
        "  test_bboxes = [[float(i) for i in line.split()] for line in label_file.readlines()]\n",
        "  test_image_tensor = transform(test_image,test_bboxes)\n",
        "\n",
        "  output = model(test_image_tensor[0].unsqueeze(0).to(DEVICE))\n",
        "  output = output.reshape(-1,7,7,30)\n",
        "  boxes = cellboxes_to_boxes(output, S=7)\n",
        "  boxes = torch.tensor(boxes).squeeze(0)\n",
        "  boxes = boxes.tolist()\n",
        "  nms_boxes = non_max_suppression(boxes, 0.5, 0.4)\n",
        "  print(nms_boxes)\n",
        "  return nms_boxes\n"
      ],
      "metadata": {
        "id": "tB2oR3_ERDNX"
      },
      "execution_count": null,
      "outputs": []
    },
    {
      "cell_type": "code",
      "source": [
        "print(show_img_result(\"03077.jpg\"))"
      ],
      "metadata": {
        "id": "0wY15pYNkYUj"
      },
      "execution_count": null,
      "outputs": []
    },
    {
      "cell_type": "code",
      "source": [
        "def impression_wise_results(person):\n",
        "  f_test = open(data_name+\"/test_csv.csv\")\n",
        "  list2 = [row.split()[0].split(\",\")[0] for row in f_test]\n",
        "  imp_list = []\n",
        "  for i in list2:\n",
        "    if i.split(\".\")[0][2:]==person:\n",
        "      imp_list.append(i)\n",
        "  print(imp_list)\n",
        "  f, axarr = plt.subplots(1,len(imp_list),figsize=(20, 5))\n",
        "  for i in range(len(imp_list)):\n",
        "    img_name = imp_list[i]\n",
        "    test_image = Image.open(data_name+\"/images/\"+img_name)\n",
        "    # test_image = test_image.rotate(180,expand=True)\n",
        "    label_file = open(data_name+\"/labels/\"+img_name.split(\".\")[0]+\".txt\",\"r\")\n",
        "    test_bboxes = [[float(i) for i in line.split()] for line in label_file.readlines()]\n",
        "    image = transform(test_image,test_bboxes)[0]\n",
        "    boxes = show_img_result(img_name)\n",
        "    im = np.array(image)\n",
        "    im = np.transpose(im, (1, 2, 0))\n",
        "    height, width, _ = im.shape\n",
        "    axarr[i].imshow(im)\n",
        "    for box in boxes:\n",
        "        box = box[2:]\n",
        "        assert len(box) == 4, \"Got more values than in x, y, w, h, in a box!\"\n",
        "        upper_left_x = box[0] - box[2] // 2\n",
        "        upper_left_y = box[1] - box[3] // 2\n",
        "        rect = patches.Rectangle(\n",
        "            (upper_left_y * width, upper_left_x * height),\n",
        "            box[2] * width,\n",
        "            box[3] * height,\n",
        "            linewidth=1,\n",
        "            edgecolor=\"r\",\n",
        "            facecolor=\"none\",\n",
        "        )\n",
        "        # Add the patch to the Axes\n",
        "        axarr[i].add_patch(rect)\n",
        "f_test = open(data_name+\"/test_csv.csv\")\n",
        "list2 = [row.split()[0].split(\",\")[0] for row in f_test]\n",
        "person_list = []\n",
        "for i in list2:\n",
        "  p=i.split(\".\")[0][2:]\n",
        "  if p not in person_list:\n",
        "    person_list.append(p)\n",
        "random.shuffle(person_list)\n",
        "person_list=person_list[0:5]\n",
        "for p in person_list:\n",
        "  impression_wise_results(p)"
      ],
      "metadata": {
        "id": "uJVyypLaJxJr"
      },
      "execution_count": null,
      "outputs": []
    },
    {
      "cell_type": "code",
      "source": [
        "res = get_results(10,test_loader)\n",
        "show_results(res[0],res[1])"
      ],
      "metadata": {
        "id": "-X7J-o6kVhEP"
      },
      "execution_count": null,
      "outputs": []
    },
    {
      "cell_type": "code",
      "source": [
        "res1 = get_results(10,test_loader2)\n",
        "show_results(res1[0],res1[1])"
      ],
      "metadata": {
        "id": "wUnm2Vb17A-g"
      },
      "execution_count": null,
      "outputs": []
    }
  ]
}